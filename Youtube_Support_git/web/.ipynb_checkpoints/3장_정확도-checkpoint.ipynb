{
 "cells": [
  {
   "cell_type": "code",
   "execution_count": 2,
   "id": "e32da6a5-bad9-4301-a1bd-2da584ccd378",
   "metadata": {},
   "outputs": [],
   "source": [
    "from sklearn.base import BaseEstimator"
   ]
  },
  {
   "cell_type": "code",
   "execution_count": 13,
   "id": "805209e2-f1bf-4294-b8d9-799ed8dbccee",
   "metadata": {},
   "outputs": [],
   "source": [
    "#부모BaseEstimator꺼를 상속받아 자식MyDummyClassfier이 만들어짐\n",
    "class MyDummyClassfier(BaseEstimator):\n",
    "    def fit(self, X, y=None):\n",
    "        pass\n",
    "    def predict(self, X):\n",
    "        import numpy as np\n",
    "        pred = np.zeros((X.shape[0],1)) #0으로 채워진 행의 갯수만큼 데이터 잡고 컬럼은 하나만 생성\n",
    "        for i in range (X.shape[0]):\n",
    "            if X['Sex'].iloc[i] == 1:\n",
    "                pred[i] = 0\n",
    "            else:\n",
    "                pred[i]=1\n",
    "            \n",
    "            return pred"
   ]
  },
  {
   "cell_type": "code",
   "execution_count": 14,
   "id": "3ac2b0a2-1c14-4875-95d6-029b3e820a49",
   "metadata": {},
   "outputs": [],
   "source": [
    "import pandas as pd\n",
    "\n",
    "#null처리함수\n",
    "def fillna(df):\n",
    "    df['Age'].fillna(df['Age'].mean(), inplace=True)\n",
    "    df['Cabin'].fillna('N', inplace=True)\n",
    "    df['Embarked'].fillna('N', inplace=True)\n",
    "    df['Fare'].fillna(0, inplace=True)\n",
    "    return df\n",
    "\n",
    "#머신러닝 알고리즘에 불필요한 피처 제거\n",
    "def drop_features(df):\n",
    "    #방법1 df.drop(['PassengerId', 'Name', 'Ticket'], axis=1, inplace=True)\n",
    "    df.drop(columns=['PassengerId', 'Name', 'Ticket'], inplace=True) #방법2\n",
    "    return df\n",
    "\n",
    "def format_features(df):\n",
    "    from sklearn.preprocessing import LabelEncoder\n",
    "    df['Cabin'] = df['Cabin'].str[0]\n",
    "    features = ['Sex', 'Cabin', 'Embarked'] #숫자로 나타낼 핑드\n",
    "    for feature in features:\n",
    "        le= LabelEncoder()\n",
    "        df[feature]=le.fit_transform(df[feature])\n",
    "    return df\n",
    "\n",
    "#앞에 만든 함수를 차례대로 실행\n",
    "def transform_features(df):\n",
    "    df = fillna(df)\n",
    "    df = drop_features(df)\n",
    "    df = format_features(df)\n",
    "    return df"
   ]
  },
  {
   "cell_type": "code",
   "execution_count": 15,
   "id": "0c0e40fe-5fe0-4319-a26d-bd54c3b90d17",
   "metadata": {},
   "outputs": [],
   "source": [
    "import pandas as pd\n",
    "from sklearn.model_selection import train_test_split\n",
    "from sklearn.metrics import accuracy_score"
   ]
  },
  {
   "cell_type": "code",
   "execution_count": 19,
   "id": "eb865b15-5b0f-46af-8421-ff6045fb4be2",
   "metadata": {},
   "outputs": [],
   "source": [
    "titanic_df = pd.read_csv('./titanic_train.csv')\n",
    "y_titanic_df = titanic_df['Survived']\n",
    "X_titanic_df= titanic_df.drop('Survived', axis=1)\n",
    "\n",
    "X_titanic_df = transform_features(X_titanic_df)\n",
    "X_train, X_test, y_train, y_test =  train_test_split(X_titanic_df, y_titanic_df, test_size=0.2, random_state=0)"
   ]
  },
  {
   "cell_type": "code",
   "execution_count": 20,
   "id": "0266396c-5834-48c1-b0e9-c632aee84075",
   "metadata": {},
   "outputs": [
    {
     "data": {
      "text/plain": [
       "0.6145251396648045"
      ]
     },
     "execution_count": 20,
     "metadata": {},
     "output_type": "execute_result"
    }
   ],
   "source": [
    "myclf = MyDummyClassfier()\n",
    "myclf.fit(X_train, y_train)\n",
    "pred = myclf.predict(X_test)\n",
    "accuracy_score(y_test, pred)"
   ]
  },
  {
   "cell_type": "code",
   "execution_count": 21,
   "id": "0c8bf672-229d-41da-abef-1a831e8c8966",
   "metadata": {},
   "outputs": [],
   "source": [
    "from sklearn.datasets import load_digits"
   ]
  },
  {
   "cell_type": "code",
   "execution_count": 27,
   "id": "6afb1298-609d-467d-80ae-09af41fccf7b",
   "metadata": {},
   "outputs": [
    {
     "data": {
      "text/plain": [
       "array([[ 0.,  0.,  0.,  4., 15., 12.,  0.,  0.],\n",
       "       [ 0.,  0.,  3., 16., 15., 14.,  0.,  0.],\n",
       "       [ 0.,  0.,  8., 13.,  8., 16.,  0.,  0.],\n",
       "       [ 0.,  0.,  1.,  6., 15., 11.,  0.,  0.],\n",
       "       [ 0.,  1.,  8., 13., 15.,  1.,  0.,  0.],\n",
       "       [ 0.,  9., 16., 16.,  5.,  0.,  0.,  0.],\n",
       "       [ 0.,  3., 13., 16., 16., 11.,  5.,  0.],\n",
       "       [ 0.,  0.,  0.,  3., 11., 16.,  9.,  0.]])"
      ]
     },
     "execution_count": 27,
     "metadata": {},
     "output_type": "execute_result"
    }
   ],
   "source": [
    "digits = load_digits()\n",
    "digits.data[2].reshape(8,8) #배열 이쁘게 다시"
   ]
  },
  {
   "cell_type": "code",
   "execution_count": 32,
   "id": "7812ec25-5274-4720-a618-dbd8fd262c88",
   "metadata": {},
   "outputs": [
    {
     "data": {
      "text/plain": [
       "0"
      ]
     },
     "execution_count": 32,
     "metadata": {},
     "output_type": "execute_result"
    }
   ],
   "source": [
    "digits.target[10]"
   ]
  },
  {
   "cell_type": "code",
   "execution_count": 33,
   "id": "afc2135e-377a-4167-b86b-94f40cc4f062",
   "metadata": {},
   "outputs": [
    {
     "data": {
      "text/plain": [
       "16.0"
      ]
     },
     "execution_count": 33,
     "metadata": {},
     "output_type": "execute_result"
    }
   ],
   "source": [
    "digits.data.max()"
   ]
  },
  {
   "cell_type": "code",
   "execution_count": 34,
   "id": "7d1567f5-f75e-4a55-a568-58e47d0a8673",
   "metadata": {},
   "outputs": [],
   "source": [
    "from sklearn.datasets import load_digits\n",
    "from sklearn.model_selection import train_test_split\n",
    "from sklearn.base import BaseEstimator\n",
    "from sklearn.metrics import accuracy_score\n",
    "import numpy as np\n",
    "import pandas as pd"
   ]
  },
  {
   "cell_type": "code",
   "execution_count": 35,
   "id": "7e15e0fc-aad9-4029-a65a-5af56090a326",
   "metadata": {},
   "outputs": [],
   "source": [
    "class MyFakeClassfier(BaseEstimator):\n",
    "    def fit(self, X, y):\n",
    "        pass\n",
    "    \n",
    "    def predict(self, X):\n",
    "        return np.zeros((len(X), 1), dtype=bool)\n",
    "digits=load_digits()\n",
    "\n",
    "y = (digits.target ==7).astype(int)\n",
    "X_train, X_test, y_train, y_test = train_test_split(digits.data, y, random_state=11)"
   ]
  },
  {
   "cell_type": "code",
   "execution_count": 43,
   "id": "a2800bdf-1677-4e02-99ce-8c1de8151772",
   "metadata": {},
   "outputs": [
    {
     "name": "stdout",
     "output_type": "stream",
     "text": [
      "레이블 테스트 세트 크기: (450,)\n",
      "테스트 세트 레이블 0과 1의 분포도\n",
      " 0    405\n",
      "1     45\n",
      "dtype: int64\n",
      "모든 예측을 0을 하여도 정확도는 0.9\n"
     ]
    }
   ],
   "source": [
    "print('레이블 테스트 세트 크기:', y_test.shape)\n",
    "print('테스트 세트 레이블 0과 1의 분포도\\n', pd.Series(y_test).value_counts())\n",
    "\n",
    "fakeclf = MyFakeClassfier()\n",
    "fakeclf.fit(X_train, y_train)\n",
    "fakepred = fakeclf.predict(X_test)\n",
    "print(f'모든 예측을 0을 하여도 정확도는 {accuracy_score(y_test, fakepred)}')"
   ]
  },
  {
   "cell_type": "code",
   "execution_count": 46,
   "id": "233fff6e-8633-4d06-8783-10d0171341eb",
   "metadata": {},
   "outputs": [
    {
     "data": {
      "text/plain": [
       "array([[405,   0],\n",
       "       [ 45,   0]], dtype=int64)"
      ]
     },
     "execution_count": 46,
     "metadata": {},
     "output_type": "execute_result"
    }
   ],
   "source": [
    "#혼동행렬\n",
    "from sklearn.metrics import confusion_matrix\n",
    "\n",
    "confusion_matrix(y_test, fakepred)"
   ]
  },
  {
   "cell_type": "code",
   "execution_count": null,
   "id": "a743976a-db72-41db-82ca-6506b4825ece",
   "metadata": {},
   "outputs": [],
   "source": []
  }
 ],
 "metadata": {
  "kernelspec": {
   "display_name": "Python 3 (ipykernel)",
   "language": "python",
   "name": "python3"
  },
  "language_info": {
   "codemirror_mode": {
    "name": "ipython",
    "version": 3
   },
   "file_extension": ".py",
   "mimetype": "text/x-python",
   "name": "python",
   "nbconvert_exporter": "python",
   "pygments_lexer": "ipython3",
   "version": "3.9.7"
  }
 },
 "nbformat": 4,
 "nbformat_minor": 5
}
