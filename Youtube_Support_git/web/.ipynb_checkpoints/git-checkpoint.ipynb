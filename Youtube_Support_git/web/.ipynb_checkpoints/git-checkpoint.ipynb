{
 "cells": [
  {
   "cell_type": "markdown",
   "id": "d4e27f84-a0a2-4d0c-ac81-2031b4be9fff",
   "metadata": {},
   "source": [
    "### 클론 코딩\n",
    "### https://github.com/DosImpact/lecture_airbnbclone\n",
    "\n",
    "### https://github.com/dinomoon/website-clone"
   ]
  },
  {
   "cell_type": "code",
   "execution_count": 1,
   "id": "c8b16a79-ad52-47c4-96ae-60b30b94a11e",
   "metadata": {},
   "outputs": [
    {
     "name": "stderr",
     "output_type": "stream",
     "text": [
      "Cloning into 'website-clone'...\n"
     ]
    }
   ],
   "source": [
    "! git clone https://github.com/dinomoon/website-clone.git"
   ]
  },
  {
   "cell_type": "code",
   "execution_count": 2,
   "id": "b7ac7092-5eb5-4844-8943-fc2125e78cfb",
   "metadata": {},
   "outputs": [
    {
     "name": "stderr",
     "output_type": "stream",
     "text": [
      "Cloning into 'lecture_airbnbclone'...\n"
     ]
    }
   ],
   "source": [
    "! git clone https://github.com/DosImpact/lecture_airbnbclone.git"
   ]
  },
  {
   "cell_type": "markdown",
   "id": "3129d453-f4ed-483f-b6e7-0fed3a486a02",
   "metadata": {},
   "source": [
    "### 딥러닝\n",
    "### https://github.com/GunhoChoi/PyTorch-FastCampus\n",
    "### https://github.com/heartcored98/Standalone-DeepLearning\n",
    "### https://github.com/ndb796/Deep-Learning-Paper-Review-and-Practice"
   ]
  },
  {
   "cell_type": "code",
   "execution_count": 9,
   "id": "26a09c6e-5b32-45bf-9120-f36bde23a760",
   "metadata": {},
   "outputs": [
    {
     "name": "stderr",
     "output_type": "stream",
     "text": [
      "Cloning into 'PyTorch-FastCampus'...\n",
      "error: invalid path '07_Transfer_Learning/2_T-SNE/image/fluorescence /�꼺�뀱�녅����뀴�녅�꼪�뀿�녇.jpg'\n",
      "fatal: unable to checkout working tree\n",
      "warning: Clone succeeded, but checkout failed.\n",
      "You can inspect what was checked out with 'git status'\n",
      "and retry with 'git restore --source=HEAD :/'\n",
      "\n"
     ]
    }
   ],
   "source": [
    "! git clone https://github.com/GunhoChoi/PyTorch-FastCampus.git"
   ]
  },
  {
   "cell_type": "code",
   "execution_count": 6,
   "id": "4429e60b-bedc-4d08-afa5-e8cde572b47c",
   "metadata": {},
   "outputs": [
    {
     "name": "stderr",
     "output_type": "stream",
     "text": [
      "fatal: destination path 'Standalone-DeepLearning' already exists and is not an empty directory.\n"
     ]
    }
   ],
   "source": [
    "! git clone https://github.com/heartcored98/Standalone-DeepLearning.git"
   ]
  },
  {
   "cell_type": "code",
   "execution_count": 7,
   "id": "031330da-22a7-42f9-aea0-ffafc1250078",
   "metadata": {},
   "outputs": [
    {
     "name": "stderr",
     "output_type": "stream",
     "text": [
      "fatal: destination path 'Deep-Learning-Paper-Review-and-Practice' already exists and is not an empty directory.\n",
      "Cloning into 'Standalone-DeepLearning'...\n",
      "Updating files:  93% (40/43)\n",
      "Updating files:  95% (41/43)\n",
      "Updating files:  97% (42/43)\n",
      "Updating files: 100% (43/43)\n",
      "Updating files: 100% (43/43), done.\n",
      "Filtering content:  66% (2/3)\n",
      "Filtering content:  66% (2/3), 190.81 MiB | 2.15 MiB/s\n",
      "Filtering content: 100% (3/3), 190.81 MiB | 2.15 MiB/s\n",
      "Filtering content: 100% (3/3), 412.06 MiB | 4.40 MiB/s\n",
      "Filtering content: 100% (3/3), 412.06 MiB | 4.34 MiB/s, done.\n"
     ]
    }
   ],
   "source": [
    "! git clone https://github.com/ndb796/Deep-Learning-Paper-Review-and-Practice.git"
   ]
  },
  {
   "cell_type": "code",
   "execution_count": null,
   "id": "bd5f6083-73e0-40f7-9e6a-eb32ffcf5546",
   "metadata": {},
   "outputs": [],
   "source": []
  }
 ],
 "metadata": {
  "kernelspec": {
   "display_name": "Python 3 (ipykernel)",
   "language": "python",
   "name": "python3"
  },
  "language_info": {
   "codemirror_mode": {
    "name": "ipython",
    "version": 3
   },
   "file_extension": ".py",
   "mimetype": "text/x-python",
   "name": "python",
   "nbconvert_exporter": "python",
   "pygments_lexer": "ipython3",
   "version": "3.9.7"
  }
 },
 "nbformat": 4,
 "nbformat_minor": 5
}
