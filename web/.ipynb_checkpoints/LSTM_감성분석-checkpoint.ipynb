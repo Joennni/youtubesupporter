{
 "cells": [
  {
   "cell_type": "code",
   "execution_count": 3,
   "metadata": {
    "colab": {
     "base_uri": "https://localhost:8080/"
    },
    "executionInfo": {
     "elapsed": 2352,
     "status": "ok",
     "timestamp": 1658208729645,
     "user": {
      "displayName": "문**",
      "userId": "01834252347601242483"
     },
     "user_tz": -540
    },
    "id": "u6EDa2jR83kR",
    "outputId": "f814c8f1-a042-4c27-db48-1d35ae83cb1a"
   },
   "outputs": [
    {
     "name": "stdout",
     "output_type": "stream",
     "text": [
      "Requirement already satisfied: konlpy in c:\\users\\user\\na\\envs\\yolov5\\lib\\site-packages (0.6.0)\n",
      "Requirement already satisfied: numpy>=1.6 in c:\\users\\user\\na\\envs\\yolov5\\lib\\site-packages (from konlpy) (1.23.1)\n",
      "Requirement already satisfied: JPype1>=0.7.0 in c:\\users\\user\\na\\envs\\yolov5\\lib\\site-packages (from konlpy) (1.4.0)\n",
      "Requirement already satisfied: lxml>=4.1.0 in c:\\users\\user\\na\\envs\\yolov5\\lib\\site-packages (from konlpy) (4.9.1)\n"
     ]
    }
   ],
   "source": [
    "# !set -x \\\n",
    "# && pip install konlpy \\\n",
    "# && curl -s http;//raw.githubsercontent.com/konlpy/konlpy/master/scripts/mecab.sh | bash -x\n",
    "\n",
    "#!pip install konlpy\n",
    "\n",
    "# from konlpy.tag import Mecab\n",
    "# !git clone https://github.com/SOMJANG/Mecab-ko-for-Google-Colab.git\n",
    "# %cd Mecab-ko-for-Google-Colab/\n",
    "# !bash install_mecab-ko_on_colab190912.sh"
   ]
  },
  {
   "cell_type": "code",
   "execution_count": 1,
   "metadata": {
    "id": "4upp357x7tej"
   },
   "outputs": [],
   "source": [
    "import re\n",
    "import urllib.request\n",
    "import numpy as np\n",
    "import pandas as pd\n",
    "import matplotlib.pyplot as plt\n",
    "plt.style.use('seaborn-white')\n",
    "\n",
    "from konlpy.tag import Okt\n",
    "from tensorflow.keras.preprocessing.text import Tokenizer\n",
    "from tensorflow.keras.preprocessing.sequence import pad_sequences"
   ]
  },
  {
   "cell_type": "code",
   "execution_count": 4,
   "metadata": {
    "colab": {
     "base_uri": "https://localhost:8080/"
    },
    "executionInfo": {
     "elapsed": 442,
     "status": "ok",
     "timestamp": 1658209237951,
     "user": {
      "displayName": "문**",
      "userId": "01834252347601242483"
     },
     "user_tz": -540
    },
    "id": "7E-WX-Pv9b8f",
    "outputId": "0558655a-2c5d-4c58-b33e-e25a32f9e0d2"
   },
   "outputs": [
    {
     "data": {
      "text/plain": [
       "50000"
      ]
     },
     "execution_count": 4,
     "metadata": {},
     "output_type": "execute_result"
    }
   ],
   "source": [
    "#train_file = urllib.request.urlopen('https://raw.githubsercontent.com/e9t/nsmc/master/rating_train.txt')\n",
    "# test_file = urllib.request.urlopen('https://raw.githubsercontent.com/e9t/nsmc/master/rating_test.txt')\n",
    "\n",
    "#train_data = pd.read_table(train_file)\n",
    "# test_data = pd.read_table(test_file)\n",
    "\n",
    "train_data = pd.read_csv('./nsmc/ratings_test.txt', sep='\\t')\n",
    "test_data = pd.read_csv('./nsmc/ratings_test.txt', sep='\\t')\n",
    "\n",
    "len(train_data)"
   ]
  },
  {
   "cell_type": "code",
   "execution_count": 5,
   "metadata": {
    "colab": {
     "base_uri": "https://localhost:8080/"
    },
    "executionInfo": {
     "elapsed": 27,
     "status": "ok",
     "timestamp": 1658209237951,
     "user": {
      "displayName": "문**",
      "userId": "01834252347601242483"
     },
     "user_tz": -540
    },
    "id": "ZCE90FIf_Alz",
    "outputId": "a439596b-2fec-4b67-cc45-aec3923ac2fd"
   },
   "outputs": [
    {
     "name": "stdout",
     "output_type": "stream",
     "text": [
      "49157\n",
      "2\n"
     ]
    }
   ],
   "source": [
    "#중복\n",
    "print(train_data['document'].nunique())\n",
    "print(train_data['label'].nunique())\n",
    "\n",
    "train_data.drop_duplicates(subset=['document'], inplace = True)"
   ]
  },
  {
   "cell_type": "code",
   "execution_count": 6,
   "metadata": {
    "colab": {
     "base_uri": "https://localhost:8080/"
    },
    "executionInfo": {
     "elapsed": 5,
     "status": "ok",
     "timestamp": 1658209238428,
     "user": {
      "displayName": "문**",
      "userId": "01834252347601242483"
     },
     "user_tz": -540
    },
    "id": "7qsk2KYX_jwK",
    "outputId": "18e99dca-49de-4230-9999-dafe71c2357a"
   },
   "outputs": [
    {
     "name": "stdout",
     "output_type": "stream",
     "text": [
      "id          0\n",
      "document    1\n",
      "label       0\n",
      "dtype: int64\n"
     ]
    }
   ],
   "source": [
    "print(train_data.isnull().sum())\n",
    "\n",
    "train_data = train_data.dropna(how='any')"
   ]
  },
  {
   "cell_type": "markdown",
   "metadata": {
    "id": "gE3HekolCw-P"
   },
   "source": []
  },
  {
   "cell_type": "code",
   "execution_count": 7,
   "metadata": {
    "colab": {
     "base_uri": "https://localhost:8080/",
     "height": 480
    },
    "executionInfo": {
     "elapsed": 647,
     "status": "ok",
     "timestamp": 1658209239071,
     "user": {
      "displayName": "문**",
      "userId": "01834252347601242483"
     },
     "user_tz": -540
    },
    "id": "gsTkRjCN_qIB",
    "outputId": "34dc8348-1bbb-4fb8-c8b1-a106c1a69ed0"
   },
   "outputs": [
    {
     "name": "stderr",
     "output_type": "stream",
     "text": [
      "C:\\Users\\User\\AppData\\Local\\Temp\\ipykernel_13508\\1258179407.py:1: FutureWarning: The default value of regex will change from True to False in a future version.\n",
      "  train_data['document'] = train_data['document'].str.replace(\"[^ㄱ-ㅎ ㅏ-ㅣ 가-힣 ]\", \"\")\n"
     ]
    },
    {
     "data": {
      "text/html": [
       "<div>\n",
       "<style scoped>\n",
       "    .dataframe tbody tr th:only-of-type {\n",
       "        vertical-align: middle;\n",
       "    }\n",
       "\n",
       "    .dataframe tbody tr th {\n",
       "        vertical-align: top;\n",
       "    }\n",
       "\n",
       "    .dataframe thead th {\n",
       "        text-align: right;\n",
       "    }\n",
       "</style>\n",
       "<table border=\"1\" class=\"dataframe\">\n",
       "  <thead>\n",
       "    <tr style=\"text-align: right;\">\n",
       "      <th></th>\n",
       "      <th>id</th>\n",
       "      <th>document</th>\n",
       "      <th>label</th>\n",
       "    </tr>\n",
       "  </thead>\n",
       "  <tbody>\n",
       "    <tr>\n",
       "      <th>0</th>\n",
       "      <td>6270596</td>\n",
       "      <td>굳 ㅋ</td>\n",
       "      <td>1</td>\n",
       "    </tr>\n",
       "    <tr>\n",
       "      <th>1</th>\n",
       "      <td>9274899</td>\n",
       "      <td></td>\n",
       "      <td>0</td>\n",
       "    </tr>\n",
       "    <tr>\n",
       "      <th>2</th>\n",
       "      <td>8544678</td>\n",
       "      <td>뭐야 이 평점들은 나쁘진 않지만 점 짜리는 더더욱 아니잖아</td>\n",
       "      <td>0</td>\n",
       "    </tr>\n",
       "    <tr>\n",
       "      <th>3</th>\n",
       "      <td>6825595</td>\n",
       "      <td>지루하지는 않은데 완전 막장임 돈주고 보기에는</td>\n",
       "      <td>0</td>\n",
       "    </tr>\n",
       "    <tr>\n",
       "      <th>4</th>\n",
       "      <td>6723715</td>\n",
       "      <td>만 아니었어도 별 다섯 개 줬을텐데 왜 로 나와서 제 심기를 불편하게 하죠</td>\n",
       "      <td>0</td>\n",
       "    </tr>\n",
       "    <tr>\n",
       "      <th>...</th>\n",
       "      <td>...</td>\n",
       "      <td>...</td>\n",
       "      <td>...</td>\n",
       "    </tr>\n",
       "    <tr>\n",
       "      <th>49995</th>\n",
       "      <td>4608761</td>\n",
       "      <td>오랜만에 평점 로긴했네ㅋㅋ 킹왕짱 쌈뽕한 영화를 만났습니다 강렬하게 육쾌함</td>\n",
       "      <td>1</td>\n",
       "    </tr>\n",
       "    <tr>\n",
       "      <th>49996</th>\n",
       "      <td>5308387</td>\n",
       "      <td>의지 박약들이나 하는거다 탈영은 일단 주인공 김대희 닮았고 이등병 찐따</td>\n",
       "      <td>0</td>\n",
       "    </tr>\n",
       "    <tr>\n",
       "      <th>49997</th>\n",
       "      <td>9072549</td>\n",
       "      <td>그림도 좋고 완성도도 높았지만 보는 내내 불안하게 만든다</td>\n",
       "      <td>0</td>\n",
       "    </tr>\n",
       "    <tr>\n",
       "      <th>49998</th>\n",
       "      <td>5802125</td>\n",
       "      <td>절대 봐서는 안 될 영화 재미도 없고 기분만 잡치고 한 세트장에서 다 해먹네</td>\n",
       "      <td>0</td>\n",
       "    </tr>\n",
       "    <tr>\n",
       "      <th>49999</th>\n",
       "      <td>6070594</td>\n",
       "      <td>마무리는 또 왜이래</td>\n",
       "      <td>0</td>\n",
       "    </tr>\n",
       "  </tbody>\n",
       "</table>\n",
       "<p>49157 rows × 3 columns</p>\n",
       "</div>"
      ],
      "text/plain": [
       "            id                                    document  label\n",
       "0      6270596                                         굳 ㅋ      1\n",
       "1      9274899                                                  0\n",
       "2      8544678            뭐야 이 평점들은 나쁘진 않지만 점 짜리는 더더욱 아니잖아      0\n",
       "3      6825595                   지루하지는 않은데 완전 막장임 돈주고 보기에는      0\n",
       "4      6723715   만 아니었어도 별 다섯 개 줬을텐데 왜 로 나와서 제 심기를 불편하게 하죠      0\n",
       "...        ...                                         ...    ...\n",
       "49995  4608761   오랜만에 평점 로긴했네ㅋㅋ 킹왕짱 쌈뽕한 영화를 만났습니다 강렬하게 육쾌함      1\n",
       "49996  5308387    의지 박약들이나 하는거다 탈영은 일단 주인공 김대희 닮았고 이등병 찐따       0\n",
       "49997  9072549             그림도 좋고 완성도도 높았지만 보는 내내 불안하게 만든다      0\n",
       "49998  5802125  절대 봐서는 안 될 영화 재미도 없고 기분만 잡치고 한 세트장에서 다 해먹네      0\n",
       "49999  6070594                                  마무리는 또 왜이래      0\n",
       "\n",
       "[49157 rows x 3 columns]"
      ]
     },
     "execution_count": 7,
     "metadata": {},
     "output_type": "execute_result"
    }
   ],
   "source": [
    "train_data['document'] = train_data['document'].str.replace(\"[^ㄱ-ㅎ ㅏ-ㅣ 가-힣 ]\", \"\")\n",
    "train_data"
   ]
  },
  {
   "cell_type": "code",
   "execution_count": 8,
   "metadata": {
    "colab": {
     "base_uri": "https://localhost:8080/"
    },
    "executionInfo": {
     "elapsed": 1170,
     "status": "ok",
     "timestamp": 1658209240227,
     "user": {
      "displayName": "문**",
      "userId": "01834252347601242483"
     },
     "user_tz": -540
    },
    "id": "l7Ylikm_DBeo",
    "outputId": "2ebf6ec2-e0bd-4083-f699-7f6c48ed84ce"
   },
   "outputs": [
    {
     "name": "stdout",
     "output_type": "stream",
     "text": [
      "49157\n",
      "id            0\n",
      "document    162\n",
      "label         0\n",
      "dtype: int64\n"
     ]
    }
   ],
   "source": [
    "train_data['document'].replace(\"\", np.nan, inplace=True)\n",
    "print(len(train_data))\n",
    "print(train_data.isnull().sum())"
   ]
  },
  {
   "cell_type": "code",
   "execution_count": 9,
   "metadata": {
    "colab": {
     "base_uri": "https://localhost:8080/"
    },
    "executionInfo": {
     "elapsed": 18,
     "status": "ok",
     "timestamp": 1658209240837,
     "user": {
      "displayName": "문**",
      "userId": "01834252347601242483"
     },
     "user_tz": -540
    },
    "id": "1JQKUBnzDWs9",
    "outputId": "210d0fff-3bc6-48fe-e6c5-6c1afc1f04c8"
   },
   "outputs": [
    {
     "name": "stdout",
     "output_type": "stream",
     "text": [
      "48995\n"
     ]
    }
   ],
   "source": [
    "train_data = train_data.dropna(how= 'any')\n",
    "print(len(train_data))"
   ]
  },
  {
   "cell_type": "code",
   "execution_count": 10,
   "metadata": {
    "colab": {
     "base_uri": "https://localhost:8080/"
    },
    "executionInfo": {
     "elapsed": 1705,
     "status": "ok",
     "timestamp": 1658209242530,
     "user": {
      "displayName": "문**",
      "userId": "01834252347601242483"
     },
     "user_tz": -540
    },
    "id": "aSHiLzUjEK0J",
    "outputId": "90b29603-e584-4c91-a26d-9a1adf1463c1"
   },
   "outputs": [
    {
     "name": "stderr",
     "output_type": "stream",
     "text": [
      "C:\\Users\\User\\AppData\\Local\\Temp\\ipykernel_13508\\226628204.py:2: FutureWarning: The default value of regex will change from True to False in a future version.\n",
      "  test_data['document'] = test_data['document'].str.replace(\"[^ㄱ-ㅎ ㅏ-ㅣ 가-힣 ]\", \"\")\n"
     ]
    }
   ],
   "source": [
    "test_data.drop_duplicates(subset=['document'], inplace=True)\n",
    "test_data['document'] = test_data['document'].str.replace(\"[^ㄱ-ㅎ ㅏ-ㅣ 가-힣 ]\", \"\")\n",
    "test_data['document'].replace(\"\", np.nan, inplace=True)\n",
    "test_data = test_data.dropna(how= 'any')"
   ]
  },
  {
   "cell_type": "code",
   "execution_count": 14,
   "metadata": {
    "id": "QJ9nXCOYEjQC"
   },
   "outputs": [],
   "source": [
    "stopwords = ['의','가','이','은','들','는','좀','잘','걍','과','도','를','으로','자','에','와','한','하다']\n",
    "# mecab = Mecab()\n",
    "mecab = Okt()"
   ]
  },
  {
   "cell_type": "code",
   "execution_count": null,
   "metadata": {
    "id": "3Boz7WBA854Q"
   },
   "outputs": [],
   "source": [
    "X_train =[]\n",
    "for sentence in train_data['document']:\n",
    "    X_train.append([word for word in mecab.morphs(sentence) if not word in stopwords])"
   ]
  },
  {
   "cell_type": "code",
   "execution_count": null,
   "metadata": {
    "colab": {
     "base_uri": "https://localhost:8080/"
    },
    "executionInfo": {
     "elapsed": 11,
     "status": "ok",
     "timestamp": 1658209257592,
     "user": {
      "displayName": "문**",
      "userId": "01834252347601242483"
     },
     "user_tz": -540
    },
    "id": "AQf0jVrLFPhR",
    "outputId": "d3d394e1-0e87-46fa-ff62-a5c7289f7dfc"
   },
   "outputs": [],
   "source": [
    "print(X_train[:1])"
   ]
  },
  {
   "cell_type": "code",
   "execution_count": null,
   "metadata": {
    "id": "jLayBCwFFXav"
   },
   "outputs": [],
   "source": [
    "X_test =[]\n",
    "for sentence in test_data['document']:\n",
    "    X_test.append([word for word in mecab.morphs(sentence) if not word in stopwords])"
   ]
  },
  {
   "cell_type": "code",
   "execution_count": null,
   "metadata": {
    "colab": {
     "base_uri": "https://localhost:8080/"
    },
    "executionInfo": {
     "elapsed": 245,
     "status": "ok",
     "timestamp": 1658209263142,
     "user": {
      "displayName": "문**",
      "userId": "01834252347601242483"
     },
     "user_tz": -540
    },
    "id": "Xz4LirOd8sfQ",
    "outputId": "70c46cd4-34bf-4f8b-b6ff-645168056033",
    "tags": []
   },
   "outputs": [],
   "source": [
    "#X_test"
   ]
  },
  {
   "cell_type": "code",
   "execution_count": null,
   "metadata": {
    "colab": {
     "base_uri": "https://localhost:8080/"
    },
    "executionInfo": {
     "elapsed": 230,
     "status": "ok",
     "timestamp": 1658209263143,
     "user": {
      "displayName": "문**",
      "userId": "01834252347601242483"
     },
     "user_tz": -540
    },
    "id": "S7qH2sCM9STY",
    "outputId": "ca59fd87-6d59-46db-c138-37a9c4a50eba"
   },
   "outputs": [],
   "source": [
    "y_train = np.array(train_data['label'])\n",
    "y_test = np.array(test_data['label'])\n",
    "\n",
    "y_train"
   ]
  },
  {
   "cell_type": "code",
   "execution_count": null,
   "metadata": {
    "colab": {
     "base_uri": "https://localhost:8080/"
    },
    "executionInfo": {
     "elapsed": 3102,
     "status": "ok",
     "timestamp": 1658209266222,
     "user": {
      "displayName": "문**",
      "userId": "01834252347601242483"
     },
     "user_tz": -540
    },
    "id": "b1pjkGmmFfXP",
    "outputId": "e0f60438-b032-4f8a-8419-d8a2a5ec6b16",
    "tags": []
   },
   "outputs": [],
   "source": [
    "tokenizer = Tokenizer()\n",
    "tokenizer.fit_on_texts(X_train)\n",
    "print(tokenizer.word_index)"
   ]
  },
  {
   "cell_type": "code",
   "execution_count": null,
   "metadata": {
    "colab": {
     "base_uri": "https://localhost:8080/"
    },
    "executionInfo": {
     "elapsed": 255,
     "status": "ok",
     "timestamp": 1658209266223,
     "user": {
      "displayName": "문**",
      "userId": "01834252347601242483"
     },
     "user_tz": -540
    },
    "id": "v5T_r_7WFsSB",
    "outputId": "36a2db4f-9123-4f25-8767-62361cf96ca9"
   },
   "outputs": [],
   "source": [
    "#빈도수 낮은 단어 제거\n",
    "threshold = 3\n",
    "words_cnt = len(tokenizer.word_index)\n",
    "rare_cnt = 0\n",
    "words_freq = 0\n",
    "rare_freq = 0\n",
    "\n",
    "for key, value in tokenizer.word_counts.items():\n",
    "    words_freq = words_freq + value\n",
    "\n",
    "    if value < threshold:\n",
    "        rare_cnt += 1\n",
    "        rare_freq = rare_freq + value\n",
    "\n",
    "print(\"전체 단어 수:\", words_cnt)\n",
    "print(f\"빈도가 {threshold-1} 이하인 희귀단어수:{rare_cnt}\")\n",
    "print(f\"희귀 단어 비율: {((rare_cnt/words_cnt)*100)}\")\n",
    "print(f\"휘귀단어 등장 빈도 비율: {rare_freq / words_freq*100}\")\n"
   ]
  },
  {
   "cell_type": "code",
   "execution_count": null,
   "metadata": {
    "colab": {
     "base_uri": "https://localhost:8080/"
    },
    "executionInfo": {
     "elapsed": 9,
     "status": "ok",
     "timestamp": 1658209266224,
     "user": {
      "displayName": "문**",
      "userId": "01834252347601242483"
     },
     "user_tz": -540
    },
    "id": "Hm77w0JCG6-A",
    "outputId": "c9b9f931-982b-48e9-f570-de6c0d351a0e"
   },
   "outputs": [],
   "source": [
    "vocab_size = words_cnt -rare_cnt+2\n",
    "print(vocab_size)"
   ]
  },
  {
   "cell_type": "code",
   "execution_count": null,
   "metadata": {
    "id": "hHFMgw4tIXv6"
   },
   "outputs": [],
   "source": [
    "tokenizer = Tokenizer(vocab_size, oov_token='OOV')\n",
    "tokenizer.fit_on_texts(X_train)\n",
    "X_train = tokenizer.texts_to_sequences(X_train)\n",
    "X_test = tokenizer.texts_to_sequences(X_test)"
   ]
  },
  {
   "cell_type": "code",
   "execution_count": null,
   "metadata": {
    "id": "pCCkwVS2Izs9"
   },
   "outputs": [],
   "source": [
    "# for i, v in enumerate (X_train):\n",
    "#   if type(v) == int:\n",
    "#     print(i)"
   ]
  },
  {
   "cell_type": "code",
   "execution_count": null,
   "metadata": {
    "colab": {
     "base_uri": "https://localhost:8080/"
    },
    "executionInfo": {
     "elapsed": 35,
     "status": "ok",
     "timestamp": 1658209268398,
     "user": {
      "displayName": "문**",
      "userId": "01834252347601242483"
     },
     "user_tz": -540
    },
    "id": "Qvp2UAJOJnoa",
    "outputId": "5be8b1a3-e32e-484c-d736-66063e065efe"
   },
   "outputs": [],
   "source": [
    "y_train = np.array(train_data['label'])\n",
    "y_test = np.array(test_data['label'])\n",
    "\n",
    "len(y_train)"
   ]
  },
  {
   "cell_type": "code",
   "execution_count": null,
   "metadata": {
    "colab": {
     "base_uri": "https://localhost:8080/"
    },
    "executionInfo": {
     "elapsed": 31,
     "status": "ok",
     "timestamp": 1658209268399,
     "user": {
      "displayName": "문**",
      "userId": "01834252347601242483"
     },
     "user_tz": -540
    },
    "id": "nzO_io-aKHzw",
    "outputId": "b0a8d9e9-f26f-45f2-fbcd-381a4bddb734"
   },
   "outputs": [],
   "source": [
    "drop_train = [index for index, sentence in enumerate(X_train) if len(sentence) < 1]\n",
    "X_train = np.delete(X_train, drop_train, axis = 0)\n",
    "y_train = np.delete(y_train, drop_train, axis = 0)"
   ]
  },
  {
   "cell_type": "code",
   "execution_count": null,
   "metadata": {
    "colab": {
     "base_uri": "https://localhost:8080/"
    },
    "executionInfo": {
     "elapsed": 29,
     "status": "ok",
     "timestamp": 1658209268400,
     "user": {
      "displayName": "문**",
      "userId": "01834252347601242483"
     },
     "user_tz": -540
    },
    "id": "Nrtj1uANK2VK",
    "outputId": "80c8816b-15fb-496b-8952-ead780647e53"
   },
   "outputs": [],
   "source": [
    "print(len(X_train))\n",
    "print(len(y_train))"
   ]
  },
  {
   "cell_type": "code",
   "execution_count": null,
   "metadata": {
    "colab": {
     "base_uri": "https://localhost:8080/"
    },
    "executionInfo": {
     "elapsed": 25,
     "status": "ok",
     "timestamp": 1658209268400,
     "user": {
      "displayName": "문**",
      "userId": "01834252347601242483"
     },
     "user_tz": -540
    },
    "id": "vGzwzslcK-Tu",
    "outputId": "774570a7-b62a-4a11-bca8-84db2af7e87f"
   },
   "outputs": [],
   "source": [
    "#padding\n",
    "print('리뷰 최대 길이:', max(len(l) for l in X_train))\n",
    "print('리뷰 평균 길이:', sum(map(len, X_train))/len(X_train))"
   ]
  },
  {
   "cell_type": "code",
   "execution_count": null,
   "metadata": {
    "colab": {
     "base_uri": "https://localhost:8080/",
     "height": 276
    },
    "executionInfo": {
     "elapsed": 390,
     "status": "ok",
     "timestamp": 1658209268769,
     "user": {
      "displayName": "문**",
      "userId": "01834252347601242483"
     },
     "user_tz": -540
    },
    "id": "A3c457YLM_7P",
    "outputId": "0bfdad74-b2b5-4127-d77d-09f81264bcb6"
   },
   "outputs": [],
   "source": [
    "plt.hist([len(s) for s in X_train], bins=50)\n",
    "plt.xlabel('length of samples')\n",
    "plt.ylabel('number 0f samples')\n",
    "plt.show()"
   ]
  },
  {
   "cell_type": "code",
   "execution_count": null,
   "metadata": {
    "id": "WTzVMHy9NgWw"
   },
   "outputs": [],
   "source": [
    "max_len = 80"
   ]
  },
  {
   "cell_type": "code",
   "execution_count": null,
   "metadata": {
    "id": "XddbuV2dNnAI"
   },
   "outputs": [],
   "source": [
    "X_train = pad_sequences(X_train, maxlen = max_len)\n",
    "X_test = pad_sequences(X_test, maxlen = max_len)"
   ]
  },
  {
   "cell_type": "code",
   "execution_count": null,
   "metadata": {
    "id": "G62og4LDN1Zm"
   },
   "outputs": [],
   "source": [
    "#모델 구축 및 학습\n",
    "from tensorflow.keras.layers import Embedding, Dense, LSTM\n",
    "from tensorflow.keras.models import Sequential"
   ]
  },
  {
   "cell_type": "code",
   "execution_count": null,
   "metadata": {
    "colab": {
     "base_uri": "https://localhost:8080/"
    },
    "executionInfo": {
     "elapsed": 427,
     "status": "ok",
     "timestamp": 1658209269584,
     "user": {
      "displayName": "문**",
      "userId": "01834252347601242483"
     },
     "user_tz": -540
    },
    "id": "TVxCrT6bOLwE",
    "outputId": "343f9113-8c63-4609-a1ba-99eb9618f2b5"
   },
   "outputs": [],
   "source": [
    "model = Sequential()\n",
    "model.add(Embedding(vocab_size, 100))\n",
    "model.add(LSTM(128))\n",
    "model.add(Dropout(0.2)) \n",
    "model.add(Dense(1, activation = 'sigmoid'))\n",
    "\n",
    "model.compile(optimizer = 'rmsprop',\n",
    "              loss = 'binary_crossentropy',\n",
    "              metrics=['acc'])\n",
    "\n",
    "model.summary()"
   ]
  },
  {
   "cell_type": "code",
   "execution_count": null,
   "metadata": {
    "colab": {
     "base_uri": "https://localhost:8080/"
    },
    "executionInfo": {
     "elapsed": 319192,
     "status": "ok",
     "timestamp": 1658209588773,
     "user": {
      "displayName": "문**",
      "userId": "01834252347601242483"
     },
     "user_tz": -540
    },
    "id": "9dXsZULXOvQy",
    "outputId": "c4fa0d3c-689c-47ed-d712-781d4bbc769f"
   },
   "outputs": [],
   "source": [
    "history = model.fit(X_train, y_train, epochs=15, batch_size=60, validation_split=0.2)"
   ]
  },
  {
   "cell_type": "code",
   "execution_count": null,
   "metadata": {
    "colab": {
     "base_uri": "https://localhost:8080/"
    },
    "executionInfo": {
     "elapsed": 8723,
     "status": "ok",
     "timestamp": 1658209597482,
     "user": {
      "displayName": "문**",
      "userId": "01834252347601242483"
     },
     "user_tz": -540
    },
    "id": "hr_AuETcP5IT",
    "outputId": "214b79c8-2d56-4348-998a-58dce5b5266e"
   },
   "outputs": [],
   "source": [
    "model.evaluate(X_test, y_test)"
   ]
  },
  {
   "cell_type": "code",
   "execution_count": null,
   "metadata": {
    "colab": {
     "base_uri": "https://localhost:8080/",
     "height": 509
    },
    "executionInfo": {
     "elapsed": 564,
     "status": "ok",
     "timestamp": 1658209598021,
     "user": {
      "displayName": "문**",
      "userId": "01834252347601242483"
     },
     "user_tz": -540
    },
    "id": "wWxaQkX8PhJK",
    "outputId": "7b64535a-b560-4f0c-e598-b050b2907ed2"
   },
   "outputs": [],
   "source": [
    "#시각화\n",
    "hist_dict = history.history\n",
    "loss = hist_dict['loss']\n",
    "val_loss = hist_dict['loss']\n",
    "acc = hist_dict['acc']\n",
    "val_acc = hist_dict['val_acc']\n",
    "\n",
    "plt.plot(loss, 'b--', label = 'training loss')\n",
    "plt.plot(val_loss, 'r:', label = 'validation loss')\n",
    "plt.legend()\n",
    "plt.grid()\n",
    "\n",
    "plt.figure()\n",
    "plt.plot(acc, 'b--', label = 'training accuracy')\n",
    "plt.plot(val_acc, 'r:', label = 'validation accuracy')\n",
    "plt.legend()\n",
    "plt.grid()\n",
    "\n",
    "plt.show()"
   ]
  },
  {
   "cell_type": "markdown",
   "metadata": {
    "id": "408qEe89XBsL"
   },
   "source": []
  },
  {
   "cell_type": "code",
   "execution_count": null,
   "metadata": {
    "id": "NSrxpIwOQ2NL"
   },
   "outputs": [],
   "source": [
    "def sentiment_predict(new_sentence):\n",
    "  new_token = [word for word in mecab.morphs(new_sentence) if not word in stopwords] \n",
    "  new_sequences = tokenizer.texts_to_sequences([new_token])\n",
    "  new_pad = pad_sequences(new_sequences, maxlen = max_len)\n",
    "  score = float(model.predict(new_pad))\n",
    "\n",
    "  if score > 0.5:\n",
    "    result = (f'{new_sentence} : positive({score*100 :.2f})')\n",
    "  elif score == 0:\n",
    "    result = (f'{new_sentence} : neutral({score*100 :.2f})')\n",
    "  else : \n",
    "    result = (f'{new_sentence} : negative({(1-score)*100 :.2f})')\n",
    "\n",
    "  return result"
   ]
  },
  {
   "cell_type": "code",
   "execution_count": null,
   "metadata": {
    "colab": {
     "base_uri": "https://localhost:8080/",
     "height": 35
    },
    "executionInfo": {
     "elapsed": 21,
     "status": "ok",
     "timestamp": 1658209598032,
     "user": {
      "displayName": "문**",
      "userId": "01834252347601242483"
     },
     "user_tz": -540
    },
    "id": "hCuj8BvGrFkf",
    "outputId": "255445dc-38b9-423c-f73e-4e9239f6044f"
   },
   "outputs": [
    {
     "data": {
      "application/vnd.google.colaboratory.intrinsic+json": {
       "type": "string"
      },
      "text/plain": [
       "'너무 좋은 기사네요 : positive(94.79)'"
      ]
     },
     "execution_count": 72,
     "metadata": {},
     "output_type": "execute_result"
    }
   ],
   "source": [
    "sentiment_predict('너무 좋은 기사네요')"
   ]
  },
  {
   "cell_type": "code",
   "execution_count": null,
   "metadata": {
    "id": "zrYBAs-nSUnR"
   },
   "outputs": [],
   "source": [
    "new = pd.read_csv('/content/news_labeling.txt', sep='\\t')\n",
    "new = new.dropna()\n",
    "new = new.reset_index(drop=True)"
   ]
  },
  {
   "cell_type": "code",
   "execution_count": null,
   "metadata": {
    "colab": {
     "base_uri": "https://localhost:8080/"
    },
    "executionInfo": {
     "elapsed": 879429,
     "status": "ok",
     "timestamp": 1658211762345,
     "user": {
      "displayName": "문**",
      "userId": "01834252347601242483"
     },
     "user_tz": -540
    },
    "id": "BX1Kd3lKSSj7",
    "outputId": "d7ef071b-31e2-4f4c-bc0b-d60fcd46c089"
   },
   "outputs": [
    {
     "name": "stderr",
     "output_type": "stream",
     "text": [
      "IOPub data rate exceeded.\n",
      "The notebook server will temporarily stop sending output\n",
      "to the client in order to avoid crashing it.\n",
      "To change this limit, set the config variable\n",
      "`--NotebookApp.iopub_data_rate_limit`.\n",
      "\n",
      "Current values:\n",
      "NotebookApp.iopub_data_rate_limit=1000000.0 (bytes/sec)\n",
      "NotebookApp.rate_limit_window=3.0 (secs)\n",
      "\n"
     ]
    }
   ],
   "source": [
    "news_sentiment = []\n",
    "for i in range(len(new)):\n",
    "  news = new.iloc[:, 0]\n",
    "  pred = sentiment_predict(news[i])\n",
    "  #pred = list(pred)\n",
    "  news_sentiment.append(pred)\n",
    "print(news_sentiment)"
   ]
  },
  {
   "cell_type": "code",
   "execution_count": null,
   "metadata": {
    "colab": {
     "base_uri": "https://localhost:8080/"
    },
    "executionInfo": {
     "elapsed": 300,
     "status": "ok",
     "timestamp": 1658210656927,
     "user": {
      "displayName": "문**",
      "userId": "01834252347601242483"
     },
     "user_tz": -540
    },
    "id": "jQf7WbtH-RuH",
    "outputId": "5c044afd-1483-42bd-9d4a-819f871bd17a"
   },
   "outputs": [
    {
     "data": {
      "text/plain": [
       "list"
      ]
     },
     "execution_count": 81,
     "metadata": {},
     "output_type": "execute_result"
    }
   ],
   "source": [
    "type(pred)"
   ]
  },
  {
   "cell_type": "code",
   "execution_count": null,
   "metadata": {
    "colab": {
     "base_uri": "https://localhost:8080/"
    },
    "executionInfo": {
     "elapsed": 760,
     "status": "ok",
     "timestamp": 1658212016599,
     "user": {
      "displayName": "문**",
      "userId": "01834252347601242483"
     },
     "user_tz": -540
    },
    "id": "wHgLjYsnC_e8",
    "outputId": "8a3d779e-c773-4363-90c2-b628f962e8ae"
   },
   "outputs": [
    {
     "data": {
      "text/plain": [
       "['그러게요 딱봐도 사이즈 나오는데 왜 고모부랑 새엄마는 조사를 안했지 진짜 경찰들 하는 꼬라지 하고는 아까운 한 사람 인생 순식간에 망쳐놓았네요 안타깝습니다 : negative(99.98)',\n",
       " '년 감옥생활누가 보상해줄까요정말 맘이 넘 아픕니다ㅠ 지금이라도 빨리 누명을 벗고 행복하게 살아가길 기도할게요 : positive(100.00)',\n",
       " '이 사건이야 말로 재심 들어가야 하는  사건 이네요 고모부와 새엄마가 너무 수상하네요  꼭 재심해서 억울한 김신혜 씨를 구해야 될것같아요 : positive(55.01)',\n",
       " '정말 꼭 억울함이 풀리길 빕니다 잃어버린 청춘에 대한 보상도 꼭 받으시길 빕니다 : positive(99.82)',\n",
       " '미쳤다진짜 고모부같다고모부라고 부르는 것도 소름이다김신혜씨 얼마나 억울하실까년 어떻게해 ㅠㅠ : positive(67.71)',\n",
       " '어떻게  여지껏  재심이  진행되지  않았는지  한사람에  인생이 달린  분명함이  조속히 발혀지기를 : negative(99.67)',\n",
       " '고모부도 고모부지만 당시 경찰들 어찌보면 범인보다 더 악랄한 범죄자들이다 : positive(97.99)',\n",
       " '박준영 변호사 저분은 억울한 사람들 한을 많이 풀어주시네 정말 훌륭한 분이다 돈만 쫓는 변호사들이 저런분 십분의 일이라도 닮길 : positive(81.65)',\n",
       " '김신혜씨 목소리만 들어도 진짜 억울함과 진실함이 느껴져요 제발 다시 나오세요 : positive(51.63)',\n",
       " '와 억울하게 옥살이 하신분들 봤지만 이 분은 정말 안밝혀지면 평생을 자기 아버지를 죽게 한 사람으로 살아야하는데 제발 진실이 밝혀지길 바래요 : positive(99.94)',\n",
       " '얼마나 힘들고고통스럽고  외롭고아플까ㅠ힘내시고  그 고난에서이겨 내시기를 ㅠ : positive(99.95)',\n",
       " '얼마나 억울할까 ㅠ대때들어가서 대중반이네요한사람의 가장꽃같은 시절을저렇게 짓밟다니가해자들을 찾아서 반드시 처벌해야합니다저라면 나와서 다죽여버릴거같아요 ㅠ : negative(99.97)',\n",
       " '억울해서 정신병 걸리지 않은게 신기할 정도다 악으로 버티고 있는 듯ㅜㅠ 아 진짜 너무 화가 난다 나도 이렇게 억울한데 저 분 심정은 감히 상상도 안된다 : negative(99.62)',\n",
       " '저 긴세월을 과연 돈으로 보상이될까하지만 국가는 보상을 당연히 해주어야되고그당시 사건담당자 그리고 고모부 분명 재조사를해서 진실을 밝혀야되고 앞으로는 이런일들이 없기를 바랍니다 정말 너무 안타깝고 가슴아프네요 : positive(99.97)',\n",
       " '이런 어처구니없이 허술한 경찰수사와 검사 판사의 무능력함에 화가 납니다 진실을 밝히는데 힘써주세요 : negative(96.60)',\n",
       " '억울하게 감옥에 갇혀있는 사람이 없도록 공정한수사와 재심이 신속히 이루어지기를 촉구합니다 : negative(85.53)',\n",
       " '억울한사람이 없어야하고 죄지은 사람이   그댓가를 치러야합니다신혜씨의 억울함이 풀어지기를 기원합니다힘내요 : positive(89.15)',\n",
       " '이런 영상을 통해 추후 결과에 따라 억울할 수도 있는 피의자를 구제할 수 있는 기회를 보장하기위해 사형은 폐지되어야한다고 생각합니다 : positive(99.86)',\n",
       " '나라면 분통이 터져서 진작에 자살을 했을 듯 김신혜씨는 절대로 죽지 마세요  끝까지 살아남아야 한을 살아 있을 때 푸실 수 있습니다 : negative(83.08)',\n",
       " '박준영변호사 드디어 재심 이끌어냈네요고맙습니다 끝까지 진실을 밝혀주세요 진실이 무엇이던 저 수사과정은 분명 재심이 필요합니다 : positive(99.98)',\n",
       " '제일 미쳐버릴것 같은 건 나는 여기서 억울하게 옥살이중인데 아빠를 죽인 진범은 나 대신 자유롭게 죗값도 받지 않고 돌아다닌다는 사실일 것 같다 아빠의 복수도 하지 못한채 갇힌 기분상상도 안가네 : negative(84.44)',\n",
       " '세상에 억울한 사람들이 얼마나 많을까요 투명한 세상을 바랍니다 : positive(98.74)',\n",
       " '이건 진짜 알려져야할 이야기 같아요ㅜㅜㅜ 진짜 너무 안타까워요ㅠㅠㅠ : positive(99.99)',\n",
       " '누명 씌운 사람과 대충 수사한 경찰들은 꼭 대가를 치르길 바랍니다 : positive(99.98)',\n",
       " '꼭 진실을 밝혀서 억울한 누명을 벗고 행복한 삶을 누릴길 바라고 진짜 범인은 혹독한  처벌을 받기를모두 정직하고 바르게 삽시다 : positive(99.00)',\n",
       " '김신혜씨의  억울함   이를 어찌합니까김신혜씨의  남은  인생   부디 그간의 억울함이  프로도 남지않고행복한 일만 가득하기를  간절히 빕니다 : negative(73.00)',\n",
       " '고모부가 왜 강제로 이버지 살해범으로 강요를 했을까요혹시 보험금을 새엄마와 고모부가 타 먹을려고한건 아닐까요진짜 나쁜놈 입니다고무부 라는 놈을 꼭 법원에 세워야합니다김신혜씨 꼭 승리하세요 : positive(99.99)',\n",
       " '힘내세요 꼭 진실이 밝혀지기길 비랍니다 : positive(98.59)',\n",
       " '제대로 조사해서 저분의 인권을 지켜주길바랍니다 억울하고 분한마음이 너무나 공감되어 마음이 아프네요ㅠ 나쁜사람들이 처벌받는 공정한 세상이 되길 : positive(99.98)',\n",
       " '고모부가 인간의 탈을쓰고 죽였구만 아우 형사들이 사리분별을 그렇게 못하나  그때당시의 형사들도 다처벌해야합니다 : positive(99.93)',\n",
       " '참  진짜  나 같았으면 억울해서 화병이 나서 정신이 나가버릴것 같은데ㅠ조금만 더 버텨서 꼭 억울함을 풀길 바랍니다   억울하게 감옥에서 눈물로 보내버린 흘러간 세월을 누가어찌보상을 해 주나  과연 그 무엇으로 보상이나될런지 참 일면식도 없지만 가슴속으로 항상 힘내시라고 기도하며 응원할께요 김신혜씨 포기 마시고  힘내세요   홧팅 : positive(83.63)',\n",
       " '정말  너무  맘이 아픕니다  본인이  죽이지 않았다고 저토록  애절하게 절규하는데   왜그냥  보고만 있을까요 : positive(99.14)',\n",
       " '저분의 잃어버린 청춘을 누가 보상하나요 ㅜㅜ 제발 권력있는 사람들이 사건 일으켰을때 저렇게 때려 넣어봐요 엄한 사람 잡지 말고요 : negative(98.94)',\n",
       " '그냥 보기에도 합리적인 사람이라면 누가 범인인지 유추 가능하네요 꼭 범인이 밝혀져서 합당한 처벌 받고 억울한 옥살이를 하게 했던 관계자도 꼭 처벌받았으면 합니다 저분 원통함이 너무 느껴져서 가슴이 아프네요 : positive(98.42)',\n",
       " '아 진짜 어떡하냐 너무 안타깝고 불쌍하다 ㅠㅠㅠㅠㅠㅠㅠㅠㅠㅠㅠㅠㅠ : positive(99.21)',\n",
       " '너무 억울하게 살고계시네요 누군가 꼭 이억울함을 풀어주면 좋겠어요 : negative(97.96)',\n",
       " '년이란 세월을 무엇으로 보상받을 수 있을까요 마음이 정말 아프고 안타깝습니다 : positive(99.95)',\n",
       " '이런 사건 경찰에서 안 다루니 언론에서 많이 조사해서 알리는 게 좋은 거 같아요  억울함을 풀어야죠 : positive(97.19)',\n",
       " '대한민국 무섭네요고모부 재수사 들어갑시다이건 납득이 안되는 사건이네요끝까지 파헤쳐서 사건 해결합시다 : negative(99.82)',\n",
       " '아너무 안타까워요제발 진실이 밝혀져서 지금이라도 그 한이 풀어졌으면 좋겠네요ㅠ : positive(99.06)',\n",
       " '아버지 돌아가신것만 해도 진짜 힘들텐데 살인하지도 않았는데 살인했다고 감옥에 들어갔으니 진짜 너무 억울한거 아니냐ㅜㅜㅜ : positive(97.24)',\n",
       " '진짜범인 꼭 잡아서 김신혜씨 억울하고 한맺히는 년을 보상 받으시길 응원하고 지켜보겠습니다ㅠ모든 국민이 지켜보고 있습니다혼자가 아닌 수많은 사람들이 김신혜씨를 응원하고 있다는걸 잊지마세요 힘내세요당신은 대한민국에 국민으로써 년에 억울함을 벗고 꼭 승리할것입니다힘내세요 : positive(99.99)',\n",
       " '나오셔도 진짜 삶이 삶이 아니시겠다 ㅠㅠ 그래도 꼭 나오셔서 남은 인생이라도 행복하게 하셨으면 좋겠어요 : positive(99.89)',\n",
       " '얼마나 억울할까 범인 꼭 잡아서 그동안 고통받은거 이상으로 고통받게 해주세요 : negative(96.19)',\n",
       " '한 사람의 인생이 너무 안타깝네요 빠른 시일 내에 해결되길 간절히 바래봅니다 : positive(99.96)',\n",
       " '와 영상보는데 울화통 터지네 재심에서 꼭 진실이 밝혀지길 : positive(92.72)',\n",
       " '죄가 진짜없다면정말 년 누가보상해주죠화가나네요 국민청원꼭 하고싶네요죄를 덮어씌운사람은 잘살고있나요 꼭 죄값받을 것을국민들이 증명해줄거예요 : positive(54.13)',\n",
       " '억울함 꼭  풀어주세요  대한민국에 정의로움이  남아있다는걸  보여주세요 : positive(98.01)',\n",
       " '정의는 살아있습니다 지금부터라도 억울함을 풀어나가셨으면 합니다응원합니다  : negative(99.22)',\n",
       " '한 가정이 억울한 죽음과 옥살이를 겪은 가슴 아픈 사건입니다 꼭 진실이 밝혀져야 합니다 고모부와 새엄마를 철저히 수사하시길 바랍니다 : positive(99.35)',\n",
       " '집행자가 질못된 판단하면 얼마나 피해가 큰지 이런일을 일으킨 수사관의 처벌이 필요하다 : negative(86.10)',\n",
       " '힘내세요 당신을 응원합니다 : positive(95.44)',\n",
       " '무고한 사람한테 저런 죄를 덮어 씌웠다면 그건 살인죄 보다 더 큰 죄다 그 벌을 어찌 감당할라고그리고 대한민국 제발 제수사 제대로 해서 절대로 무고한 사람이 벌받는 그런 억울함 없도록 해라 그리고 잘못 수사한 사람들 제대로 법의 심판을 받게해라 : negative(99.99)',\n",
       " '하 눈물이 안나올 정도로 슬픈 사건이네요 얼른 김신혜씨가 억울한 누명 벗고 앞으로 편하게 사셨으면 좋겠어요 응원합니다 : positive(99.58)',\n",
       " '억울해서 어떻게 살아 가 아니라 꼭 억울함을 풀고 진짜 범인 죗값 받아내자구요 : negative(99.82)',\n",
       " '재심 꼭 하셔서 진짜 범인을 잡았으면 좋겠습니다경찰이 했던 수사 도대체 어떤 수사를 한건지요 이 경찰또한 죄를 물어야 합니디 : negative(97.70)',\n",
       " '억울해서 어떻게 지금까지 숨을쉬고 살아있을까 가슴이 꽉 막히네 지금이라도 힘있는사람이 누가 나서주세요 : positive(99.95)',\n",
       " '제발 진짜범인찾고 억울함 보상받길바랍다대한민국의 소중한 국민입니다경찰쓰레기같은 사람들몇몇이 한사람의 인생을 이렇게 만든죄값도 치러야합니다 : positive(84.94)',\n",
       " '반드시 재조사를 해야 합니다 그리고 국가가 빼앗아간 인생최대한 보상으로 예우를 해주어야 합니다 : positive(99.98)',\n",
       " '재심들어갔답니다 정말 다행이에요 잘되길 진심으로 바랍니다 : positive(97.83)',\n",
       " '고모부 천벌받아야한다 아오내가 다 억울하다 그 년 세월들을 어떻게 보상받냐 ㅅㅂ : positive(83.83)',\n",
       " '진실이밝혀져 아버지무덤에 울지말고 웃으며 찾아뵙기를 기원합니다가슴이 아픕니다 : positive(99.96)',\n",
       " '고모부가 얻을 실익이 뭔지이건 수사의 기본중에 기본입니다 : positive(98.94)',\n",
       " '역시 진짜 우리나라 경찰분들 정말 휼륭하신건 알아줘야되요 : negative(79.98)',\n",
       " '억만금으로도 못사는 젊음을 진짜 가혹하네요 : positive(63.81)',\n",
       " '증거가 확실하지 않는데  무기징역이라니  너무 억울 할것 같아 : positive(69.91)',\n",
       " '꽃다운 청춘을 어찌보상할거냐마음고생은 얼마나 심했을까ㅜㅜ : negative(62.53)',\n",
       " '박 변호사님 저런 어처구니 없는일 꼭 꼭 진실을 밝혀 주시어 억울하게 수감 돼있는 신혜씨를 구해주세요 : positive(97.38)',\n",
       " '너무나 가슴아픈 사건재심을 통해꼭 무죄 받으시고나중에 영화를 만들어서한을 꼭 푸세요진심으로 김신혜씨 응원합니다힘내시고 승리하십시오 : positive(99.99)',\n",
       " '하여간 대한민국 형사 경찰들 ㅉㅉㅉ세금이 아깝다 정말 : negative(96.37)',\n",
       " '진실은 반드시밝혀지니 끝까지 힘내세요응원합니다 : positive(96.76)',\n",
       " '너무 기쁘시고 고우신데 안타까워요 ㅜㅜ 그 어린나이에 얼마나 힘드셨을까 ㅜㅜ : positive(99.44)',\n",
       " '김신혜씨 힘내세요일본으로 공부 하러갈려고   하기  직전에  사건 났다고 ㅠㅠ  억울함이 풀리길 : positive(99.83)',\n",
       " '진짜 이거 영화로 나올 정도로 너무나 억울하고 안타깝고 대한민국 현실을 비판할수있는 그런 소재가 될수도 있는 진짜마음이 너무 아프다 : positive(99.89)',\n",
       " '저 눈빛에서 한이서린 억울함이 느껴져 마음이 너무 아프네요한창 꽃다울나이에보상당한다해도 돌이킬수 없는 저 하나뿐인 시절은 어쩌면 좋나요 : positive(96.89)',\n",
       " '너무억울한 삶이다 진짜 꼭진실이 밝혀져야되는 사건이네요 : positive(97.88)',\n",
       " '뒤집어 엎어서라도 모든 한을 풀진 못하더라도 나쁜 사람한테는 꼭 벌을 주자 : positive(99.01)',\n",
       " '진실이 꼭 밝혀지길 기도합니다 : positive(98.00)',\n",
       " '자신의 일이 아닌  남의 일이라도 치가떨리는데  자신의 일이라고한다면 얼마나 죽고싶겠습니까  한번살고가는인생 년을 어떻게보상야하나요  돈을사기맞은거라면 돈을돌려주면되는거지만 구속되어있던인생을  누가 어떻게 보상해줘야할까요고모부가 많이의심스럽습니다  년전이면 김신혜씨도 어린나이였을텐데  명의 범인을못잡더라도 명의 범인이아닌 죄없는사람을 억울하게구속시켜선안됩니다김신혜씨가 아닌 우리모두에게도 일어날수있는일입니다 : negative(69.23)',\n",
       " '아버지가 하늘에서 도와주세요딸이 억울하게 덮어쓴  누명을 풀어주세요 : negative(95.66)',\n",
       " '우리나라에 저런 명배우가 있다는게너무 자랑스럽다 : positive(99.01)',\n",
       " '교통환승제도 은평 뉴타운 등 서울시 아파트 공급폭탄으로 부동산 안정 리먼브라더스 경제위기 피해가기는 정말 명장의 기운이었다 : positive(99.98)',\n",
       " '그립습니다 당신같은 인재가 이 세상에 다시 나올 수 있을까요 각하 : positive(99.99)',\n",
       " '최고의 배우들은 정치계에 있다는걸 인증해주는 영상 : positive(72.24)',\n",
       " '느슨해진 배우들에게 긴장감을 주는 영상 : positive(73.67)',\n",
       " '장소 안가리고 웃음을 잃지 않는 일관된 모습 감명깊습니다 : positive(66.27)',\n",
       " '정보 백원우는 지금 펀드비리로 검찰조사중이며 청와대직원갑질로 공직서 짤렸다 : positive(96.29)',\n",
       " '우리나라 정치상황 현실반영해서 영화하나내면 초대박난다 ㄹㅇ : positive(99.89)',\n",
       " '안속을수가 없었지나도 저당시 모습에 감동을 받았으니 : positive(80.95)',\n",
       " '역사가 모든걸 말해주고 있다 : negative(85.16)',\n",
       " '며칠전 환승 안되는 버스인줄도 모르고 탔다가 버스비만 천원내고나서 갓카의 위대함을 뼈저리게 느꼈습니다 : positive(99.95)',\n",
       " '근데 저 당시 왜 많은 사람들이 이명박이 죽였다고 생각한걸까 : positive(95.87)',\n",
       " '영화보다 더 영화같은 정치느와르 : positive(96.80)',\n",
       " '감정없이 한 사건을 보아야  모든 행동의 진위를 감별할수 있는 능력을 발휘할수 있다 이 감별능력은 누구에게나 있지만 감정을 배제하는 것은 쉬운일이 아니다 : negative(97.39)',\n",
       " '이렇게 인간답게 잘 살게 나라를 구축해줘서 참 감사합니다 가카 : positive(99.82)',\n",
       " '우리 국민은 꼭 알아야 합니다 잊지 말고 우리 아이들도 알아야 합니다 : positive(99.99)',\n",
       " '솔직히 누가 선인지 누가 악인지 모르겠고 아니 그런 이분법이 아니라 각자 다 선한면도 있고 악한면도 있겠지만 한국 정치사에서 가장드라마틱한 장면중에 하나는 맞는듯 : positive(99.99)',\n",
       " '저때 백원우  정의롭고 깨끗한줄 알았음 : positive(98.72)',\n",
       " '이명박 대통령 표정이 지들이 죽여놓고 내탓이야 이런거같은데ㅋㅋ : negative(97.98)',\n",
       " '다시 봐도 너무 슬프다ㅠㅠ : positive(99.96)',\n",
       " '와 진짜 무슨 영화의 한장면 같다우리가 이런 세상에서 살고있구나 : positive(99.89)',\n",
       " '백원우 당신이 하명 수사의 인물일줄은 꿈에도 몰랐다 이 영상을 다시보면서 얼마나 역설적인지 당신을 지지하고 응원했던 사람으로서 실망감을 감추지 못했어 : positive(99.79)',\n",
       " '진짜 그냥 거를 타선이 없는 레전드영상이네 : positive(55.53)',\n",
       " '가슴이 너무 아프다 : positive(99.45)',\n",
       " 'ㄹㅇ 영화의 한장면 같아서 계속 보러오게됨 : negative(71.97)',\n",
       " '우리가 기억해야할 장면이다 절대로 잊지말자 : positive(99.96)',\n",
       " '저때는 국민들이 광우병 선동 당해서 미국산 소고기 먹으면 뇌에 구멍 뚫린다고 생각하고 선풍기 틀고 자면 죽는다고 생각하던 시절임ㅋㅋㅋㅋ 진짜 국민성 떨어지던 시절 : positive(95.67)',\n",
       " '정치에 대해서 과거 사람의 그림자가 아직까지 드리우고 그게 먹히는게 정말 참담 : positive(74.58)',\n",
       " '백원우 저 울음이 진짜라고 느껴질정도로 연기력 개지리네 : negative(97.35)',\n",
       " '국가장학금 덕분에 공짜로 대학 잘다니고 있습니다버스 환승제도 덕분에 교통비 많이 아꼈습니다많은것을 베풀어주신 각하께 감사드립니다 : positive(63.14)',\n",
       " '진짜 간지가 흘러 넘친다 : positive(99.17)',\n",
       " '접때 백원우 보고 엄청 정의롭고 깨끗한줄 알았는데 까보니 별반 다르지 않은듯 : positive(95.26)',\n",
       " '노무현 탄핵소추때 제일 먼저 앞선사람이 지들이면서 : negative(97.09)',\n",
       " '진짜 악마는 겉보기엔 오히려 천사 같다 : positive(99.54)',\n",
       " '자리가 사람을 만든다는 말이 왜그런지 똑똑히 알려주는 영상 : positive(97.31)',\n",
       " '백원우  진짜 명배우네 : positive(73.92)',\n",
       " '눈물 이 납니다 너무 설럽습니다 아쉽습니다 안타깝습니다 : positive(95.59)',\n",
       " '정치적 인간들의 모든 것을 담아낸 완벽한 영상이다 ㅎㄷㄷㄷㄷ : positive(100.00)',\n",
       " '정작 탄핵 동의하고 편 안들어준 당이 사람 죽고나서야 저 난리 : negative(73.33)',\n",
       " '그리 복잡한 사건은 아닙니다 범인은 그 상황이 발생한 뒤 제일 큰 이득을 얻는 사람입니다   모리스 르블랑의 소설 아르센 뤼팽 전집중 제 권호랑이 이빨 중 : positive(98.08)',\n",
       " '이명박 표정  왜 나한테 지랄이지 : negative(81.93)',\n",
       " '대한민국이 느와르 영화를 잘 만드는 이유 영화보다 더 영화같은 현실 : positive(99.50)',\n",
       " '눈물납니다 : positive(95.69)',\n",
       " '군자의 복수는 십년도 늦지않다 : positive(95.24)',\n",
       " '이명박이 사진을 등지고 나오는 짤이야말로 한국 정치사를 아주 잘 보여주는듯 : positive(98.42)',\n",
       " '와 가카지립니다 눈빛이며 포스며 빛이다 : positive(96.83)',\n",
       " '자유가 살아있었다 대통령한테 저렇게 할 수 있다는게 : positive(83.78)',\n",
       " '군자의 복수는 년이 지나도 늦지않는다저자가 말라 죽을 때까지 지켜보리라 : positive(99.48)',\n",
       " '대한민국 국민들이 진실을 모두 알고있습니다이것으로  만족합니다 : positive(99.93)',\n",
       " '악인도 선인도 존재하지 않는 정치계단 그들의 공통점은 그들의 기득권력에 누가 될거 같은거엔 하나가 됨 : negative(99.37)',\n",
       " '나중에 영화로 쓰일거같은 스토리 그렇다면 이건 명장면이될거같다 : positive(99.97)',\n",
       " '아 대통령님 아 너무 슬프다지금봐도 정말 억장이 무너지네 : negative(94.12)',\n",
       " '이명박 표정봐바진짜 가소로워하는표정할말 많지만 하지 않는 표정ㅋㅋㅋㅋㅋㅋㅋㅋ흑막이 누군지 알고 있었겠지 : negative(99.93)',\n",
       " '삭막현 현실속에서 나에게 조금이나마 웃음을 줄수있는 영상이기에 울적해질때면 나는 이곳을 온다 : positive(100.00)',\n",
       " '그래도 저때는 서로 생각의 차이정치 이념의 차이등 갈등이 물론 있었지만 생각과 이념이 다르다 하여 서로 사라져야 할 사회악이라고는 안했다 지금은 진짜보수진보는 사라지고 그냥 극좌우로 편가르기 되서 서로 반대진영을 사라져야할 적폐사회악이라고 주장하는 세상이 됐다 : positive(99.40)',\n",
       " '어릴때 맹박이 병장 웃는거 보고 악인줄 아랐는데  정치에 나쁜놈 좋은 놈 없고 감성팔이 언플 무능력이야 말로 진정한 악이다 : negative(89.43)',\n",
       " '이명박 진짜 멋있다 대통령이라는 이미지에 딱 어울림 : positive(99.15)',\n",
       " '눈물난다ㅠㅠ : positive(96.22)',\n",
       " '이명박 속마음  니들이 죽인건데 : negative(95.41)',\n",
       " '갓카같은 대통령이 다시한번 나왔으면 좋겠다는걸 뼈져리게 후회하며 살고 있슴다 지나고 나니 레전드였구나 : positive(99.95)',\n",
       " '홍준표의 한마디가 생각난다쇼는 잘합니다 : negative(93.05)',\n",
       " '정치색을 떠나서이 영상은 그냥 영화 그 자체다 : positive(79.02)',\n",
       " '각하 그립습니다부디 몸조심 하시고 빨리 세상에 나오셔야 합니다 ㅠ : positive(91.63)',\n",
       " '고개숙이든 문재인을 잊을수 없네요ㅠ : positive(99.74)',\n",
       " '몇년전까지만 해도 저게 진짜인줄 알았는데 지금보니깐 웃기네 : positive(99.25)',\n",
       " '이명박 각하 그립읍니다 : negative(65.20)',\n",
       " '저때 난 잼민이였어서 정치적 상황은 모르겠는데 이명박 전 대통령 진짜 무슨 홍콩영화 최종보스마냥 등장하네 : positive(98.92)',\n",
       " '표정 타이밍 음악 해프닝에 이어지는 엔딩 뭐하나 뒤쳐지지 않는 한풍경을 담았다 : positive(99.91)',\n",
       " '정말 사람 속에는 몇갈레의 길이 있을까요 누구한테 정말 큰소리 칠 수 있는 떳떳한 양심을 가진 이가 얼마나 될까요 씁씁한 아침입니다 : positive(95.25)',\n",
       " '갓카꽃이 지고서야 봄이 온줄 알았습니다한국이 품기엔 너무 과분하셨군요 : positive(50.25)',\n",
       " '죽음의 두려움에서 이제는 벗어나 희망을  품고 사랑을 실천하고 믿음을 지키는 정치가 있을 수 있을까 더이상 죽음에 둘러쌓여 살지 않고 살아있음에 진정 감사함을 느끼며 권력이 아닌 인류애를 펼칠 수 있는가 : positive(99.91)',\n",
       " '진짜 영화속 모습을 보는듯했음 지금 이 현실인지 아닌지도 구분을 못하겠다 젠장 : negative(98.48)',\n",
       " '역시 사람들을 움직이는건 진실도 광기도 아닌 선동이다 : negative(56.42)',\n",
       " '언젠간 이 장면이 영화화 될 일이 있겠지 : positive(69.68)',\n",
       " '인간의 본성을드러내는건매우쉬운일 : positive(97.64)',\n",
       " '이것을 보면 너무 슬프다 : positive(82.19)',\n",
       " '이 세상에 영원한건 없다는 명언이 생각나는 영상이네요저는 개인적으로 완전 소름입니다 : positive(99.86)',\n",
       " '대한민국 대 정부에서는 정치  정책  인사  경제 성장 프로젝트  정치적 공조여당야당 대 정당 간 공조가 없다면 국민들의 엄중한 심판이 있을 것이라고 생각한다 : positive(99.42)',\n",
       " '이명박 재평가 시급 : negative(72.77)',\n",
       " '커서 보니까 이 동영상만큼 소름끼치는 영상이 없다 : positive(70.34)',\n",
       " '자기들이 죽여놓고 왜 이명박을 욕하냐ㅋㅋㅋㅋ 개웃기네 : negative(55.30)',\n",
       " '자기네가 죽이고 덮어씌우기ㅋㅋㅋㅋㅋㅋㅋ 그럼에도 가만히 계신 갓카 : positive(97.92)',\n",
       " '눈물연기오진다 : positive(95.99)',\n",
       " '국민들이 정치에 관해 무지했을 때 대부분 저런 연기에 넘어갔었지일단 나부터도 : positive(85.81)',\n",
       " '피닉제만 아니였어도 이회창이 당선 된건데 진짜 한국의 역사의 큰 변곡점이자 비극이다 : positive(97.12)',\n",
       " '백원우 면상을 봐라 겉다르고 속다른 인간이지 슬퍼하는 모습도 연기라는 게 티나네 저런 면상이 나중에 뒤통수치고 뒤로는 나쁜짓하는 더러운 관상이다 : negative(95.84)',\n",
       " '한국 정치사 중에서 가장 소름돋는 영상 중 하나인듯ㅋㅋㅋ 나오는 인간들이 하나같이 다 논란있었던 인물들 ㄷㄷ 하 각하 그립습니다  : positive(99.99)',\n",
       " '보내드린지가 엊그제같은대또영상을보게 되네요 이영상만  번정돈 본듯마음만 더 울적해지네요 : positive(99.44)',\n",
       " '여름마다 청계천에 발담그면서 가카의 사랑을 느낀다대강 배짜리 조 성인지 예산은 어디로 갔는지 가카 그립습니다 : negative(99.77)',\n",
       " '진짜 죽인자와 진짜죽인줄알고 오해받는사람의 만남ㅋㅋㅋ : negative(99.06)',\n",
       " '친구 시리즈 신세계 같은 몇시간짜리 느와르 영화를 담배 피우는 장면 없이도 단 분만에 정리해버리는 최고의 느와르 영상 : positive(99.87)',\n",
       " '노무현이 죽어서 이익 본 자들이 범인이다원우야 와 연기 쩌네 : negative(81.86)',\n",
       " '지금보니까 노무현 진짜 외롭게 정치했다한나라당과 같은당인 민주당조차도 버렸어 : positive(64.15)',\n",
       " '혼자 진실을 알고 조용히 지나가는 이명박ㄷㄷ : positive(96.17)',\n",
       " '스토리 패는 들어왔고 양심은 저편에 묻어두고 나아간다 그리고 사람은 공포와 두려움으로 다스린다 무릇 지도자는 사람위에 군림하는거다 : negative(90.78)',\n",
       " '정보노무현탄핵소추 명빼고 다 동의했다민주당 지지자지만 저건 역겹다 ㅋㅋㅋㅋ : negative(99.46)',\n",
       " '이명박 대통령 각하그립습니다 : negative(96.36)',\n",
       " '진짜 그 명언이 되새겨지네요쇼는 기가 막히게 한다 : positive(98.89)',\n",
       " '구속했어야했어 이명박이 마음이 약했어 : negative(83.70)',\n",
       " '가카 그립습니다 우리나라가 잘 나가던 시절  왜 몰랐을까요 : positive(99.96)',\n",
       " '영상에나온 사람들 지금 전부 한자리차지하고 잘살고있음ㅋㅋ : positive(99.74)',\n",
       " '그 때 몰랐지만 시간이 지나서 보면 백씨 너무 하네 : negative(80.33)',\n",
       " '이명박 대통령님  건강하십시요 : negative(98.33)',\n",
       " '백원우 처럼 살고싶다 : positive(99.66)',\n",
       " '인간관계는 어차피 필요에기초한 관계 내가아닌 남을위해 나를 버릴정도라면 그시람은 뭔가에 현혹된거거나 맹목적으로인해 중도인지성이 낮아진상태 또하나 배우고갑니다기울어지지않는것이 중요하다 : negative(99.92)',\n",
       " '이명박은알고있었다누가진짜흑막인지 : negative(81.52)',\n",
       " '쟤 저러고 문정권때 한자리 차지했잖어 ㅋㅋㅋㅋㅋㅋㅋ 잘 먹힌거지옆에 김대중대통령도 가만히 있구만 ㅋㅋㅋㅋ 연기잘한다 : negative(99.58)',\n",
       " '명바이 눈물닦는게 아니라 입닦는거 ㅈㄴ 멋있닼ㅋㅋㅋㅋㅋ : positive(99.99)',\n",
       " '그립읍니다 : positive(96.38)',\n",
       " '고노무현전대통께선 정말 잘 못하셨습니다 적어도 스스로는 죽지 말았어야죠 악착같이 살아 남으셔서 모든것 밝히고 잘된건 칭창받고 잘못된건 비난받으시고 살아계셨어야죠 너무 잘못하셨어요 그당당하던 패기와용기는 어디다 버리시고 비겁한 선택을 하셨는지요 지금봐도 너무 안타깝네요ㅠㅠㅠ : positive(99.93)',\n",
       " ' 이해찬유시민 표정이 더 웃긴데 ㅋㅋㅋㅋㅋㅋㅋㅋㅋㅋㅋㅋㅋㅋ 왜 오바해 이런표정 ㅋㅋㅋㅋㅋㅋㅋㅋㅋㅋㅋㅋㅋㅋㅋㅋ : positive(99.30)',\n",
       " '백원우 배우의 연기력은 최고였다 : positive(99.82)',\n",
       " '저런 백원우같은 인물이 대통령비서실 민정비서관ㅋㅋㅋ그러니까 나라가 제대로 돌아갈 일이 있나국민들 잘 살게하려고 머리쓰진 않고 니편내편 갈라가면서 싸움질이나하고 운동권 기질 있어가지고 내편 아닌사람들은 모조리 쓸어버린다라는 정신무섭다 : positive(89.71)',\n",
       " '이명박 대통령때가 너무 그립다그때처럼 돌아가고싶다하루하루 행복했던게다 추억이다 : negative(59.88)',\n",
       " '인생 세옹지마라더니  별일이대한민국에서 다 일어나네연기도 잘하네 ㅎ ㅎ ㅎ이제 보니 웃음이 난다백원우의 연기에 : positive(99.92)',\n",
       " '백원우 드라마틱하네 : negative(68.94)',\n",
       " '저 때가 그립습니다 : positive(90.38)',\n",
       " '지들이 죽여놓고 덮어씌우기 위한 작전ㅋㅋㅋㅋ : negative(75.86)',\n",
       " '대학다니면서 먼 집과 통학해도 번요금밖에 안내도록 환승제도를 이용하고 여름되면 시원한 청계천에 발담그고 도심의 좋은 조경 구경하고 비싼 등록금 국장으로 거의 반액이상 감면받고 : negative(94.01)',\n",
       " '백원우 진짜 ㅋㅋㅋㅋㅋㅋ 남우주연상 받아야되는데 : negative(91.81)',\n",
       " '지들이 꼬리자르기 하려고 버려놓고 이제 와서 아군인척 개역겹네 ㅋㅋㅋㅋㅋㅋㅋㅋㅋㅋㅋㅋㅋㅋㅋ : negative(99.89)',\n",
       " '배경음악이 미쳤다  진짜 영화 장면 같음 : positive(94.51)',\n",
       " '와  진짜 눈물의 달인들이다눈물과 감성 프레임 지긋지긋합니다  : positive(95.61)',\n",
       " '명박이가 뭘 잘못 했나 : positive(75.96)',\n",
       " '근데 원래 영화에서 대놓고 악역은 사실 악역이 아니더라고 원래 실실웃고 착하던 사람이 반전으로 흑막인데 : positive(99.69)',\n",
       " 'ㅈㄴ멋지다 : positive(99.13)',\n",
       " '노무현 대통령 서거하시고 가장 이득 본 사람이 누굴까 훠훠 : negative(99.91)',\n",
       " '인과업보의  두려움을  모르는  사람들땜에  인생에 고통이  따른다 : positive(91.52)',\n",
       " '꽃이 지고나서야 봄인줄 알았습니다그립읍니다 갓카 : negative(69.45)',\n",
       " '백원우님 감사합니더 : positive(97.25)',\n",
       " '가카의 경제부흥기 그리고 통화스와프 환승정책 너무나 훌륭하십니다 노무현의 죽음으류 가장 큰 득을 본 집단이 어디일까 노무현을 신격화하여 정치정으류 이용한 집단 가장 큰 이득을 본 자들이야 말류 노무현을 죽음에 이르게 한 집단이 아닐까 라고 의심해본다 : positive(51.90)',\n",
       " '정말 관상이란걸 믿게 되었다 : negative(90.62)',\n",
       " '쇼는 기가 막히게 해 레드준표 : positive(50.86)',\n",
       " '꽃이 지고 나서야 봄인줄 알게된 제 자신을 용서하세요 그립습니다 갓카 : positive(74.02)',\n",
       " '연기 공부하시는 분들 이 영상이 좋은 참고 자료가 될 것 같습니다 : negative(69.11)',\n",
       " '그래도 이때가 훨 좋았다 : positive(78.18)',\n",
       " '이제야 봄이 따뜻한걸 기억합니다 : positive(99.14)',\n",
       " ' 문재인 연기력 전문가 수준입니다 : positive(60.36)',\n",
       " '지들도 노무현 탄핵에 동조했으면서ㅋㅋㅋㅋㅋㅋㅋㅋㅋㅋㅋㅋㅋㅋㅋㅋㅋㅋㅋㅋㅋㅋㅋㅋㅋㅋㅋㅋㅋㅋㅋㅋㅋㅋ고졸이라고 무시할 때는 언제고 이제 와서 어디서 분향을 해라고 하냐 어휴솔직히 유시민 말고 노무현 변호하는 사람 있었음 : negative(99.51)',\n",
       " '저 분이 살아계셨다면 가 되셨을텐데 아까운 분이십니다 : negative(99.82)',\n",
       " '도대체 어떤 가정교육을 받고 어떤 친구를 사겼으며 어떤 환경에서 살았기에 저런 악마들이 이 사회에 번식하게 되었는지고인과 일면식도 없는 사람이 봐도 손이 떨릴 정도로 울화가 치미는데 유족들의 마음은 어떨지다시한번 삼가 고인의 명복을 빕니다 : positive(100.00)',\n",
       " '너무 가슴이 아픕니다친구에게 천원만 빌려달라고 부탁하셨는데 그 친구가 만원을 보내주니까 만천원을 다시 보내실 정도로 선한 분이셨는데사랑에 배신당하고 이용당하시면서 얼마나 힘들고 괴로우셨을지부디 그곳에서는 편안하시길삼가 고인의 명복을 빕니다 : negative(99.35)',\n",
       " '삼가 고인의 명복을 빕니다가해자는 꼭 강하게 처벌하기 바랍니다 : positive(99.96)',\n",
       " '물을 너무 무서워하는 사람이라 피해자분이 얼마나 무서우셨을지 너무 공감돼서 더 가슴이 아픔 진짜 천벌 받을 것들 진짜 : negative(97.51)',\n",
       " '세상에 저런 착한사람이 이용만 당하고 가슴이 너무나 아픕니다다음생에선 꼭 그 가치를 알아봐 줄 수 있는 따뜻한 사람만나 많은 사랑 받으며 행복하게 사실 수 있기를 : positive(99.91)',\n",
       " '삼가 고인의 명복을 빕니다얼마나 공포에 질리고 무서웠을지 도저히 상상조차 할수 없네요 그곳에서는 편히 쉬시기를 빕니다가해자 분들은 마땅한 처벌 받기를 : positive(86.38)',\n",
       " '진짜 마음이 너무 아프네요어쩜 똑같은 것들끼리만 모여서 놀면 되지왜 선한 사람을 괴롭히는지 : positive(99.99)',\n",
       " '너무나 가슴아픕니다 저런 쓰레기 인간들은 우리와 같이 살아갈 자격이 없습니다영원히 사회와 격리시켜주세요 이은해 조현수 외에 그자리에 있던 공범들도 똑같이 처벌해주세요 : positive(99.99)',\n",
       " '영상을 보니 더욱 마음이 아프네요피해자분의 억울함이 없게가해자들은 꼭 엄벌한 처벌을 받기를 바랍니다 : positive(99.95)',\n",
       " '이 사건도 사건이지만 알려지지 않은 사건도 굉장히 많을 거라고 생각듭니다 모든 가해자들이 처벌 받았으면 좋겠고 돌아가신 피해자님 때문이라도 하루 빨리 검거 되었으면 좋겠습니다 삼가 고인의 명복을 빕니다 : positive(100.00)',\n",
       " '유가족은 얼마나 보면서 마음이 슬플까요 가늠이 되지 않네요 ㅠㅠ 삼가고인의 명복을 빕니다 : positive(100.00)',\n",
       " '진짜 소름끼친다빨리 저 둘을 잡아서 강력한 처벌 내리게 해주세요 삼가 고인의 명복을 빕니다 : positive(100.00)',\n",
       " '고인의 명복을 빕니다 마음편히 가시길 바라며 한맺힌 원한 이승 사람들이 꼭 복수 해줄겁니다 사람을 믿은게 이렇게 큰 상처가 될 수가 : positive(99.99)',\n",
       " '진짜 무서운건 자기를 죽이려고 하는 분위기를 느끼지만 빠져나갈 수 없는 분위기 그 자체였을거 같아서 더 마음아프고 저놈들이 정말 잔인하다 : positive(99.97)',\n",
       " '아 너무나 가슴아픕니다 ㅠㅠ가족들이 이 영상을 보면 어떤 마음일지 감히 상상도 못하겠습니다부디 좋은곳에서 이제는 편안하시길빨리 범인들 잡히길 바랍니다 : positive(100.00)',\n",
       " '너무 마음이 아프다 진짜 저건 사람이 도저히 할 짓이 아니다 저 괴물들은 뇌에 뭐가 부족해서 저러는 게 아니라 뇌 자체가 없는 악마들인 것 같다 : positive(65.94)',\n",
       " '아휴 진짜 그냥 너무 맘아프다 고인분 다음 생에는 진실로 당신을 사랑해주는 사람 만나 행복하기만 하셨으면 좋겠어요 삼가고인의 명복을 빕니다 : positive(100.00)',\n",
       " '인간이 어떻게  저렇게  악할 수 있을까요희생당한  고인의  명복을 빕니다 : positive(100.00)',\n",
       " '진짜 사형제도 부활해야한다고 생각합니다저런 쓰레기들은 더이상 사회로 배출되어선 안된다고 생각해요 쓰레기라 부르기도 쓰레기한테 미안할 정도입니다 : negative(65.80)',\n",
       " '저렇게 멀쩡히 살아있던 사람이 몇시간후에 사망하다니 너무나 황망합니다 삼가 고인의 명복을 빕니다 : positive(100.00)',\n",
       " '진짜 당신들이 무슨 자격으로선한 사람을 죽이는지고인의 명복을 빕니다 : positive(99.92)',\n",
       " '하 진짜 저런 쓰레기통에 어떻게 빠지시게 된건가요 정말 한탄스럽습니다 : positive(58.10)',\n",
       " '삼가 고인의 명복을 빕니다 마음이 너무 아픕니다 : positive(99.97)',\n",
       " '고인의 명복을 빕니다 빨리 저 쓰레기보다 못한 범인들이 잡혀서 고인의 억울함이 풀렸으면 좋겠습니다 : positive(98.84)',\n",
       " '착하디 착한분이셨던 거 같아서 더 마음이 아픕니다제발 고인이 하늘에서 편안하실수 있길 바랍니다 : positive(100.00)',\n",
       " '머리도 똑똑하신 분이 어쩌다 저런 버러지 같은 놈들에게 꼬였을까참으로 안타까운 일이다 인간 아닌 쓰레기들은 제발 소각하자 : negative(95.81)',\n",
       " '저 와중에 죽이려는 마음이 있었다는거 아냐 너무 소름 끼친다 하 ㅠㅠ 너무 안타깝다 하늘에서 편히쉬시길 : positive(99.94)',\n",
       " '배낭매고 이른아침 서성이던모습과짐승한테도 못하는 몹쓸짓을 당하는 저장면은정말 너무도 참담하고 가슴이무너진다영면하소서 : positive(99.96)',\n",
       " '삼가 고인의 명복을 빕니다ㅠㅠ 고인께서 다음 생에 다시 세상에 온다면 그때는 대기업 연구원까지 될만큼 똑똑한 머리로 보다 현명하고 보다 인품좋은 사람만나서 행복만 누리며 사셨음 좋겠습니다ㅠㅠㅠ 마음이 너무 안타깝네요 : positive(99.94)',\n",
       " '너무 안타깝습니다 부디 하늘에서 영면하시고 가해자는 찾아서 강력한 처벌이 촉구되어야 합니다 : positive(57.77)',\n",
       " '진짜 너무 화난다 얼마나 차갑고 아프고 외로웠우셨을까 하늘에서는 행복하시기를 빕니다 : positive(99.95)',\n",
       " '왜 이렇게 선한 피해자들이 많은지 안타깝습니다 명복을 빕니다 : positive(99.98)',\n",
       " '너무 충격이다 와 저것들 약한사람들만 괴롭히지 실제론 강하거나 쎈사람한텐 찍소리도 못할것들 착한사람을 저리 갖고 놀고 죽이다니 너무 화가난다ㅠ고인분 본인과 같은 착하고 좋은분 만나 예쁘게 사셨어야 했는데ㅠ : negative(99.32)',\n",
       " '너무 충격적이고 유가족분들의 마음을 정말 헤아리지도 못할만큼 이렇게 알려졌으니 고인이 부디 좋은곳으로 가셨으면 좋겠습니다 유가족분들 부디 잘 이겨내시길 : negative(99.76)',\n",
       " '저  순간순간이  얼마나  무서웠을까저  자리에서  얼마나  벗어나고  싶었을까 ㅠㅠㅠ참  마음 아프네 ㅠㅠ하늘에서는  편안하시길 영면하시길바랍니다 ㅠㅠ삼가고인의명복을빕니다 ㅠㅠ : positive(99.70)',\n",
       " '아 내가 봐도 너무 화나도 마음이 아픈데 유가족 분들은 얼마나 마음이 아플까요  ㅠㅠ 가해자들 꼭 처벌 받으면 좋겠고 삼가 고인의 명복을 빕니다  : positive(99.87)',\n",
       " '누구에겐 장난일지 몰라도 누구에겐 생과사가 오가는 순간임을 이 영상으로 우린 기억해야 할것입니다삼가 고인의 명복을 빕니다 : positive(100.00)',\n",
       " '무섭다앞으로 지금 현재도 이런 비슷한인간들이 주변에 꽤 많을꺼라 생각하니소름끼칩니다늘 바르게 살라고 가르쳐주신 부모님과 선생님들께감사하며 살아야겠습니다에고맘이무겁네요 : positive(99.89)',\n",
       " '피해자가 명이 아니라그전에도 남자친구 명이 모두사고사 했네요어떻게 그렇게 뻔뻔하게 사람을 죽이고돈받아먹고 또 죽일수가 있지진짜 가해자는 죽을때까지 고통 받으며 살아야한다 : negative(99.82)',\n",
       " '사람이 너무 착했다ㅜㅠ사람을 너무 믿은듯 하고꼭 억울한 죽음이 풀리길 바랍니다삼가 고인의 명복을 빕니다 : positive(99.99)',\n",
       " '아니 근데 아무리 역겨운 영상이지만 고인 피해자 얼굴은 저렇게 적나라하게 나오게 냅두고 공범은 보호해주려고 모자이크로 꽁꽁 쳐가린거야 야 이게 맞는거야 : negative(99.98)',\n",
       " '유가족분들이 저 영상을 보시고 얼마나 가슴아퍼 하실까 : negative(98.27)',\n",
       " '면식도 연고도없는 내가영상을 보는 내내 가슴이조이는 느낌이들고 공포감이든다애써 태연한 표정을 짓는 피해자얼마나 두려웠을까살의를 느꼈을테니튜브를 놓지않고있다 : positive(99.94)',\n",
       " '결국엔 선이 악을 이깁니다 특정인을 두고 다수가 괴롭히고 왕따시키는짓 죽응까지 몰고가는  인간이기를 포기한  그런 사회가  영원히 사라져야 합니다 : negative(100.00)',\n",
       " '도대체 어떤 부모에게 가정교육을 받고 어떤 친구를사겼으며 어떤 교육을 받았기에 저런 악마가 이 사회에번식하게 되었는지고인과 일면식도 없는 사람이 봐도 손이 떨릴 정도로울화가 치미는데 유족들의 마음은 어떨지다시한번 삼가 고인의 명복을 빕니다 : positive(99.99)',\n",
       " '얼마나 두렵고 외로웠을까 삼가고인의명복을 빕니다 : positive(100.00)',\n",
       " '자기들보다 열살이나 많은 분한테 저짓을 한다니너무 못되고 사악하네인간의 잔인함의 끝은 어디까지인가 : negative(99.45)',\n",
       " '사람이 욕망 잔인함이 어디까지인지를   여실히 보여주는 씁쓸한 사건이네요  꼭 저것들 잡혀서 처벌받기를 바랍니다 삼가고인의명복을빕니다 : positive(100.00)',\n",
       " '친누나분이 너무 서럽게 눈물흘리시던걸 방송으로 본게기억나는데 저 영상보고 얼마나 슬피우실지 가늠도안됩니다 : positive(99.60)',\n",
       " '저것들 인간들이 아니다지옥에나 떨어져라삼가 고인의 명복을 빕니다 : positive(99.99)',\n",
       " '고인분 봉급도 잘받는 훌륭한 직장인이셨다는데 저런 인재를 잃은 건 기업도 사회도 국가도 모두 손해입니다 반대로 사회의 악 가해자들을 엄벌해주세요 : positive(99.97)',\n",
       " '삼가 고인의 명복을 빕니다 아무것도 해 드릴 수 없음에 죄송합니다 그 곳에서는 아프지마세요 : negative(96.39)',\n",
       " '고인의 명복을 빕니다아무리 돈에 눈이 멀어도 귀중한 사람 생명과 바꿀 수 없는데 저인간들 꼭 잡아서 엄벌에 처해주세요 아들 잃은 부모님 심정 억장이 무너지겠어요 : positive(87.25)',\n",
       " '그것이 알고싶다를 보면서 엄청 울었습니다 차가운 계곡 물속에서 자신의 살려달라는 몸부림을 외면한 가해자들이 얼른 잡혀 강력한 처벌을 받았으면 좋겠습니다다시한번 고인의 명복을 빕니다 : positive(100.00)',\n",
       " '고인의 명복을 빕니다 피해자가 겪었던 아픔  유가족이 겪고있는 아픔  감히 가늠할 수 없지만 그 아픔과 슬픔의 천배 만배를 가해자들이 겪길 진심으로 바랍니다 천벌 받길 진심으로 바랍니다 그리고 그렇게 될 거에요  : positive(99.99)',\n",
       " '본인들이 보험금 노리고 살해를 저질렀지만 보험금은 받지 못하고 또 그알에 제보했는데도 오히려 살해 의혹만 발견되고 이게 바로 자업자득이 아닌가 싶습니다 얼른 수배가 완료되고 죄에 대한 적법한 벌을 받았으면 좋겠습니다 삼가 고인의 명복을 빕니다 : positive(100.00)',\n",
       " '와 그래도 이사건은 이렇게라도 공개적으로 다루니까 속이다 시원하다  제발 고인이 괴로웠던만큼 다 돌려받기를 : negative(99.77)',\n",
       " '저건 인간이 할짓이 아니네요 꼭 천벌 받았으면 좋겠어요 고인의 명복을 빕니다 : positive(100.00)',\n",
       " '마치 학창시절에 일진들 처럼 한 아이 타겟 삼아서 조롱하고 멸시하고 윽박지르고 치욕스럽게 괴롭히고 폭행을 가하는 딱 그 모습 진짜 악마다 : positive(98.00)',\n",
       " '내 가족이라 생각하니 속이 미어진다 제발 제대로 된 벌 받았으면 좋겠습니다  : positive(99.81)',\n",
       " '가족들이 이 영상보면 대성통곡 하실듯 ㅠㅠ : positive(58.61)',\n",
       " '물을 무서워 한다던 고인을 저렇게 함부로 하고 결국 다이빙까지 시켜서 죽이게 만든 범인을 꼭 잡아야 한다고 봅니다 : positive(93.85)',\n",
       " '얼마나 두려웠을지 상상하기도 싫다나도 겪어봐서 알지만 진짜 영상보자마자 울컥하네 : negative(67.48)',\n",
       " '너무 불쌍한 고인 ㅠㅠㅠㅠ사랑하는 사람의 지인이니까 젊은애들과 어떻게든 놀아보려고ㅠㅠㅠㅠ : positive(99.69)',\n",
       " '배우자를  사랑해서 믿고 갔을텐데 그 마음 때문에  더 아파요 : positive(99.96)',\n",
       " '제발 제발 잡힐ㅇ수 있게 해주세요 그냥 묻히지 않게 온 세상 사람들이 다 잊지않고 끝까지 찾아낼수있게 해주세요 제발너무 마음아프잖아 왜 착하고 죄없는 사람이 먼저가는건데 : positive(99.83)',\n",
       " '어떤심정으로  뛰어내렸을지 얼마나참담하고 두려웠을지너무 맘이 아프다나쁜것들은 그냥 니들끼리 똥물을튀겨가면서 니들끼리 죽이던 살리던 그렇게 살고  착한사람들세상에 발들이지좀마라 진짜 : negative(99.41)',\n",
       " '믿고 사랑했고세상이 등돌려도 내 편이라 생각했을 피해자가 너무 불쌍하다는 생각 밖엔 안듭니다 다음 생엔 꼭 행복한 사랑 하세요 : negative(96.97)',\n",
       " '남들보다 순한 사람들이 있다순수한 사람들도 있고악마와 같은 애들도 있고너무 마음이 안좋다상엽씨를 보는데  어린 아들로 생각해보니 상엽씨 부모님의 마음으로 보니 너무 마음이 아프다 : positive(99.99)',\n",
       " '진짜 인간이 아닌것들 국민들이 낸 세금으로 밥먹이고 재워주는 감옥도 사치인듯하다 잡히면 꼭  사형이 집행되기를 간절히 바래본다 : positive(50.57)',\n",
       " '너무 마음이 아픕니다 평안한 곳으로 가셨기를 : positive(98.79)',\n",
       " '진짜 무섭다 무서워 사람을 죽이려고 하면서 즐거워 하다니 : positive(95.84)',\n",
       " '살인죄는 무조건 사형이 답이다 저게 인간인가 악마이지 고인의 명복을빕니다 : positive(100.00)',\n",
       " '고인의 삶이 얼마나 고달팠을지 정말 너무 슬픕니다 : positive(98.24)',\n",
       " '잡히던 스스로 목숨을 끊던 둘중 하나는 꼭 이루어지면 좋겠다 이 악마들아고인의 명복을 빕니다 : positive(100.00)',\n",
       " '아  진짜 너무 안타깝다   ㅠㅠㅠ : positive(74.62)',\n",
       " '진짜 착하신분 같은데 너무 고통스러우셨을거 같아 마음이 아프네요 삼가고인의 명복을 빌며  피의자들은 얼른 잡혀서 법의 심판을 받았으면 좋겠습니다 : positive(100.00)',\n",
       " '남편을 얼마나 만만하게 봤으면 에혀삼가 고인의 명복을 빕니다 : positive(98.34)',\n",
       " '가정교육이 이래서 중요한거야사형까진 아니더라도 명백한 사실이 밝혀진 범죄자에겐무기징역으로 가석방없이 감금되어서 평생 사죄하고 살게해야함절대 사회에 다시 복귀하게 해선 안됨 : positive(53.10)',\n",
       " '전국 배달 기사분들이 유심있게 잘봐주시고 꼭 좀 제보해주시길  : negative(95.01)',\n",
       " '영상보고나니 충격이네요 가슴이 두근거리고영상속 범인들에게 소송해야겠습니다정신적충격에 대해서요 : negative(85.12)',\n",
       " '너무 마음이 아파요 늦게 알았지만 부디 좋은 곳 가셨길 바래요 피해자분  : positive(69.03)',\n",
       " '쟤가 뜨는 게 신기하지 않아 쟤 어떻게 뜨냐 라는 발언은 정말 충격적입니다 : negative(96.79)',\n",
       " '천벌을 받을 인간들 이런 인간들은 살아야할 가치가 없는 인간들 사형을 시켜야지 사형제도 제발 부활 합시다 : negative(53.34)',\n",
       " '정말 화가 나네요 주변에 기댈 사람이 아무도 없다는 사실이 너무 안타깝습니다 부디 평안하시고 삼가 고인의 명복을 빕니다 : positive(100.00)',\n",
       " '조롱하는 거 진심 화나네 빨리 위치 추적해서 처벌 진짜 세게 받았으면 좋겠다 삼가 고인의 명복을 빕니다 : positive(100.00)',\n",
       " '저도 물 싫어하는데 대초반때 친구들이랑 계곡이나 바다가면 물 빠트리거나 빠트리려고 위협하는거 개스트레스 받았었는데정색빨면 분위기 잡칠까봐 참고 그랬는데 물론 표정썩은거 티 났을수도 있고암튼 진짜 수영 못하는 사람 입장에서 물에서 장난걸고 저런거 개스트레스받음 진짜 : negative(74.96)',\n",
       " '유족분들이 이 영상 안 보시면 좋겠다ㅜㅜ아무 관계도 아닌 내가 봐도 ㅜㅜ 이렇게 고통스럽고 마음아픈데 ㅜㅜ 가족분들은 얼마나 억장이 무너지실까ㅜㅜ : positive(99.91)',\n",
       " '삼가 고인의 명복을 빕니다   착한 분 한을 꼭 좀 풀어주세요 : positive(100.00)',\n",
       " '깊은 계곡물만봐도 아찔하네요ㅠㅠ피해자가 얼마나 무서웠을까요 꼭 잡아서 강한처벌받게해주세요 ㅠㅠ : positive(99.93)',\n",
       " '도대체 어떤 부모에게 가정교육을 받고 어떤 친구를사겼으며 어떤 교육을 받았기에 저런 악마가 이 사회에번식하게 되었는지고인과 일면식도 없는 사람이 봐도 손이 떨릴 정도로울화가 치미는데 유족들의 마음은 어떨지다시한번 삼가 고인의 명복을 빕니다 : positive(99.99)',\n",
       " '삼가 고인의 명복을 빕니다 : positive(100.00)',\n",
       " '년 넘게 수영했는데 그래서 더 얼마나 물이 무섭고 조심해야하는지 너무나도 잘 아는 입장에서 진짜 저 쓰레기라는 호칭도 아까운 우주먼지만도 못한 개썅년놈들 똑같이 물에 처박는 고통을 줘야할것인데 하진짜 피해자분 너무 안타깝다 : positive(99.93)',\n",
       " '주변인들 모두 사람이 아니다남의 고통을 웃고 즐기다니ㅠㅠ : positive(82.63)',\n",
       " '물을 무서워하는 입장으로서 튜브에서도 저렇게 겁먹은 사람이 구명 조끼도 없이 깊이에 뛰어든 건 절대 말도 안된다 생각만해도 손바닥에 땀남 : negative(63.21)',\n",
       " '얼마나   힘들고  공포였을까요  ㅠ 삼가 고인의  명복을 빕니다  : positive(100.00)',\n",
       " '여러  사람이  한  사람  바보 만드는  건초등학교 중학교  고등학교  사회에서도  흔히  있는  일이에요근데  그  한  사람이  잘못한게  없다는  걸  알면서도  자기도  그렇게  될까봐   눈감고  귀막는  거죠거기에  대해  당사자가   화를  내면  ㅡ와  착한  줄  알았는데성질  드럽네   하며   프레임  씌우죠그게  꼭  사람이  죽거나  하는  범죄가  성립  안해도  당하는  입장에서는고통스럽죠   고통이라고  느끼지도  못하는 고통 삼가  고인의 명복을  빕니다 : positive(100.00)',\n",
       " '꼭 잡아서 죄값을 받게 해야 한다 약해보이면 괴롭히고 없인여기는 저런 것들은 죄값을 꼭 받아야 한다 : negative(54.22)',\n",
       " '고인분의 영상을보니 너무 가슴아픕니다공포에떨며  귀까지 막고있는모습보니화가 치밀어오르네요  더군다나 누구하나 말리지않고 조롱하며 웃고있는 사람들모습에 소름끼칩니다  유가족분들 이영상보면 너무 가슴이 찢어질듯 아플것같네요  꼭 범인잡혀서 억울함풀어주세요 ㅠㅠ삼가고인의 명복을빕니다ㅠㅠ : positive(99.98)',\n",
       " '고인의 명복을 빕니다  화 가 치밀고 마음이 너무 아프네요  ㅠㅠ : positive(99.99)',\n",
       " '제목만 봤는데도 화가 나네요가해자들에게 합당한 처벌이 내려지길 바랍니다 : positive(99.92)',\n",
       " '고인의 두려움이 얼마나 컸을지 짐작도 가지 않습니다 다시 한번 우리 사회가 사형 제도에 대해서 생각해봐야 하지 않을까 생각합니다부디 하늘에서는 아픔없이 행복하셨으면 좋겠습니다 : positive(99.99)',\n",
       " '마음이 너무 아프다 : positive(98.70)',\n",
       " '어렸을 때 러브하우스에 나와서 어려운 사람 도우며 살겠다던 이은해 도대체 그 동안 어떤 환경에서 어떤 삶을 살아온 거냐 진짜 이런 뉴스 보면 마음이 내려 앉는다 : negative(83.84)',\n",
       " '고인의 명복을빌고 유가족도 위로를 전합니다  참 맘이 많이아프네요 : positive(99.89)',\n",
       " '아  가족들 너무 마음아프겠다  ㅠㅠㅠ : positive(99.98)',\n",
       " '영상만 봐도 희생자분의 공포감이 느껴집니다눈물이 나려하네요저런 살인마들 꼭 잡아서 극형으로 다스려야 합니다 삼가 고인의 명복을 빕니다 : positive(100.00)',\n",
       " '나는 정말 진심으로 가해자들한테 똑같이 하지 않으면 그 심정을 절대 모를거라고 생각함 나중에 물이 아니더라도 벌레를 싫어하면 벌레들 한가운데 놔두고 영상 찍으면서 조롱하는 모습을 본인들 눈과 귀로 직접 보고 듣기를 바람 사람에 대해 이렇게까지 말한 적은 없는데 저게 사람이냐 이미 인간 이하임 : positive(99.80)',\n",
       " '나이차이도 많이 나는걸로 알고있는데 쟤라니하 넘 맘아프다 : positive(99.33)',\n",
       " '와저 상황에서 얼마나 무섭고 두려웠을까난 무섭고 두려운데 정작 친구들은 웃고있으면삼가 고인의 명복을 빕니다 : positive(100.00)',\n",
       " '살아가면서 사회에 쓰레기들이 많다는걸 알게되고  그런 쓰레기들이 나의 곁에도 가까이 있었다는것 역시 알게 되었다쓰레기가 아닌줄 알았고  나중엔 제발 쓰레기가 아니길 바랬지만 결국 쓰레기는 쓰레기이고 근본과 본성은 절대 바뀌지 않는다는것 : positive(96.30)',\n",
       " '가해자들 꼭 붙잡혀서 죄값을 치르게 되길 바랍니다  고인 되시는분 생각하면 너무 마음이 아프네요  ㅜㅜ  똑똑한분이셨는데 왜 이렇게 까지 이용만 당하셨을까다음생애에 꼭 다시태어나면 좋은 와이프 만나서 행복한 인생 사시길 기원할께요 그것이 알고싶다 제작진분들 진실을 파헤쳐주셔서  감사드립니다 : positive(100.00)',\n",
       " '사형만이 답이고 그냥 편하게 죽게해서도 안됩니다 최소한 고인의 고통보단 더 큰 고통을 느끼며 죽도록 해야 법이 평등한 거 아닙니까 : positive(99.93)',\n",
       " '왜 이럴수가 있는거냐ㅠ 이 영상은 넘 맘이아프다ㅡ 왜 저들이 저럴수가 있던건지 이해가 안된다ㅠㅠ : negative(59.02)',\n",
       " '피해자분이 안쓰러워서 미칠지경유족분들이 이 영상으로 또 상처받으시겠네요하긴더 아플 가슴이 남아있으실까요내 가족의 일이라 짐작하는 것 만으로도 피가 거꾸로 솟는어떻게 사람이 사람을 이렇게할 수가 있나요ㅠㅠ : positive(99.96)',\n",
       " '악마들  붙잡아도  처벌은솜방망이일태고  죽은고인만 불쌍하네요이악마들  강력처벌하고공범들도  엄벌로처해야한다 : positive(90.63)',\n",
       " '아 불쌍해 아휴 눈물난다 가족들 얼마나 가슴이 아플까 세상에 ㅠㅠ : positive(97.22)',\n",
       " '정말 인간이 이런 사악한 짓을 하다니 돈에 눈이 멀어선 ㅉㅉ 그대로 돌려받을거다 : positive(99.36)',\n",
       " '하유가족 분들 얼마나 피눈물이 나실까이정도면 거의 집단괴롭힘 당하다 돌아가신거 아닌가중고생들이나 할법한 ㅠㅠㅠㅠㅜㅜㅜㅜ에혀삼가 고인의 명복을 빕니다 : positive(99.94)',\n",
       " '피해자의 가족들은 이걸 보면서 치가 떨리고 대성 통곡하겠다  정말 그냥 감옥 가는 것도 저들에겐 사치 같아 보인다 : negative(97.19)',\n",
       " '그냥 저렇게 방송에서 한 번 망신주면 알아서 넘어갈거라고 생각한거지 팔은 안으로 굽는다잖아 경찰청장 입장에서 우리나라 국민이 우선이겠냐 지네나라 경찰이 우선이겠냐 : negative(99.95)',\n",
       " '그래도 경찰청장이 직접 왔다는건신경썼다는거니  앞으로는 이런일이일어나지 않기를 : positive(64.90)',\n",
       " '필리핀은 관광객들을 상대로 돈뺏으려고 작정한거보니 돈에 중독됐구나필리핀 안가본게 다행이라고 생각합니다얼차려는 나이스샷 ㅋㅋㅋㅋㅋㅋ : negative(88.43)',\n",
       " '공개적으로 한것부터가 보여주기같네요 진짜 개선한다면 내부적으로 강력하게 처리되어서 외부로 말이 나왔을텐데 : positive(89.86)',\n",
       " '전 세부에서 여권잃어버렸을때 필리핀 경찰분들에게 도움많이받아서 좋은 기억만 있는데ㅜㅠㅜ 오토바이만 번타고 말 안통해서 파파고까지 쓰면서 이야기했는데 어떻게든 제말을 이해하시려고 노력하시는분들이 있어서 감동먹었었어요ㅠ : negative(63.85)',\n",
       " '벌주는건 좋은디 너무약한거아니냐 호통친다고 피해자들에게 돈이 다시 돌아오는것도 아니고 똑같은 일이 다신 안일어난다는것도 아니고 처벌이 진짜 강한거아닌이상은 백퍼 안보이는곳에서 또 일어난다 : negative(98.66)',\n",
       " '저건 범죄다 법을 어긴거다 저게 필리핀이여서 그렇지 우리나라 였으면 바로 짤리거나 최소 강제무급장기휴가다저런 중고 학교에서 배우는 저딴거 용서 절대하면 안된다근데 왜 음주했다하면 그냥 처벌 별로 없이 통과시켜줌  : negative(99.61)',\n",
       " '비리경찰들을 보고 직접 나서신 경찰총장님 대단하십니다 몇경찰들때문에 직접 오셔서 혼을 내시고 모두 앞에서 얼차려를 시키신것을 보니 저 경찰총장님은 꼭 크게되실것같습니다 모든 경찰관들이 비리경찰이 아닌 저런 경찰총장님처럼 되야한다고 생각합니다 : positive(99.99)',\n",
       " '필리핀 경찰청장님 존경합니다 : positive(99.07)',\n",
       " '참 일반인 돈을 갈취한 경찰한테 겨우 열차려라니 곤장 맞은 것도 아니고 : negative(98.52)',\n",
       " '보여주기 식이라고 해도 잘못을 인정하는 자세 하나는 누구와는 다르게 마음에 들었다 : positive(89.94)',\n",
       " '필리핀에 한국인 관광객이 많이감 그 와중에 경찰이란 사람이 골프관광객한테 만원 삥뜯음 국제적인 위기임 그래서 저런 쑈를 함 : negative(95.99)',\n",
       " '가 기대한 댓글와 필리핀 총장이 직접나서서 얼차려 멋있는 나라야현실고작 얼차려로 끝 나라수준봐라 ㅋㅋ : negative(97.73)',\n",
       " '여담이지만 필리핀은 오토바이를 이용하는 운전자가 대다수 하지만 헬멧을 거의 쓰지 않아서 그걸 이용해 그 운전자의 운전을 금지하는데 금지 대신 돈을 받고 모른 체 해주는 식으로 경찰들이 돈을 번다고 합니다 : negative(99.84)',\n",
       " '와 청장님 너무 멋있는데 : positive(96.51)',\n",
       " '만원 뺏고 엎드려가 고작이냐 딱 수준 나오네 : negative(99.71)',\n",
       " '총장님 멋있다ㄷㄷ : positive(98.66)',\n",
       " '필리핀지인한테 들은건데 동남아사람들은 한국사람을 걸어다니는 기로 생각한답니다 경찰도 저러는데다들 동남아가시면 조심하시길 : negative(100.00)',\n",
       " '저건 얼핏보면 매섭게 혼내는것처럼 보이지만 사실 저건 싸게 쳐주는거지 제대로 징계를 먹였다면 정말정말 최소한 뱃지 뺏고 무급휴가령 내렸을 것 : negative(96.66)',\n",
       " '와 청장님 같은 분 이라도 있어 다행이네요 필리핀은 : positive(84.57)',\n",
       " '와필리핀의 범죄질이 얼마나 안좋으면 한 나라의 국민을 지키는 경찰이라는 ㅅㄲ가 우리나라사람을 불법연행한고 금풀갈취를 해저건  얼차려를 할게 아니라 다시는 경찰 안돼게 잘라버리던가 감옥에 잡아 처넣거나 해야하는거 아닌가일단 인성교육시간 채워야하는게 시급하다 : negative(99.89)',\n",
       " '충성 필리핀 경찰청장님 핵사이다 이런 분들 덕에 세계가 돌아갑니다 : positive(90.43)',\n",
       " '어느 나라든 의식있고 카리스마있는 간부는 나라를 떠나서 정말 멋있다 : positive(99.99)',\n",
       " '저렇게라도 해서 잘못을 뉘우치고 재발 방지에 효과가 있다면 다행이죠 : positive(99.77)',\n",
       " '청장님 최고 : positive(78.73)',\n",
       " '저건 얼차려로 끝낼 문제가 아닌데 저런 벌 줄게 따로있지 있어서는 안될 짓을 얼차려하고 끝낸다 저건 직속상관도 처벌받아야하고 해당 경찰은  직위헤제감아닌가 : negative(99.99)',\n",
       " '민중의지팡이라는 작자가돈뺏고 구금하고 자빳네 ㅋㅋㅋㅋㅋㅋㅋ저게 경찰이냐 그냥 조폭이지경찰은 왜 된거레 : positive(51.44)',\n",
       " '잘못을 들어 내는 용기가 대단하네요죄를 지어도 잘못을 모르는 누구 보다는 : positive(99.46)',\n",
       " '놓은 직위에 저렇게 멀쩡한 분이 계신다는게다행이네요 우리나라는 부정부패라도없게 해주세요 억울한 사람 만들지 마시고 : negative(99.82)',\n",
       " '잘못을 바로잡고 잘못한 사람을 체포하고 처벌하는게 경찰의 일이고 그들이 입은 제복에 그 무게들이 담겨있기에  아무나 그 제복을 입지 못하는건데 경찰이란 사람이 시민 포함 모든이들의 안전을 바로잡아주긴 커녕 타국에서 자기 나라에 대한 기대와 설렘을 가지고 온 손님에게 저런 짓을 했다 걍 경찰 제복 벗어야 하는거 아닌가 부끄럽게 저런 몇몇 사람들때문에 그 나라의 이미지가 한순간에 무너질 수도 있는건데 애초에 무슨 의도로 뭘 노리고 경찰관이 된건지 다른건 몰라도 진짜 경찰은 경찰관이라는 무게와 사명감을 항상 안고 시민은 물론 손님관광객까지 안전하게 대해 줄 수 있는 진정한 사람만이 해야지 : positive(69.21)',\n",
       " '필리핀 경찰 혼내주는 분 진짜 멋있다 : negative(90.70)',\n",
       " '경찰들 정신 안차리니까 저런꼴 당하지ㅉㅉ : negative(100.00)',\n",
       " '청장이 얼차려준다는 발상자체가 후진국법으로 처벌해야지우리나라에서 저러면 강요죄임 : positive(99.53)',\n",
       " '관광객을 대하는 태도를 보면 그나라 국민수준을 알수 있죠필리핀은 경찰과 조직적으로 연결 된 납치 갈취 살인 등의 사고가 많습니다총기도 등록되어 있는 총기를 제외한 불법 총기류 숫자는 파악도 안될 정도이고관광 가시더라도 리조트 밖에서는 주의를 기울여야 합니다 : negative(98.47)',\n",
       " '필리핀에서 년정도 살았는데 운전하고있으면 기가막히게 불러세워서 돈 요구합니다큰돈은 아니지만 조금이라도 주면 보내주는거 보면 일상에서 충분히 겪을 수 있는 일입니다 : positive(99.32)',\n",
       " '경찰이 저런 나라는 가지도 말자 : negative(89.58)',\n",
       " 'ㅋㅋㅋㅋㅋㅋㅋㅋㅋ년째 필리핀 가고 있는데 저런걸 듣도보도 못했는데 저사람들은 진짜 미쳤네ㅋㅋㅋㅋ : positive(96.52)',\n",
       " '아무리 우리 나라 라도 저렇케 한건 진짜 벌 받는거 ㅇㅈ 합니다 피해 보상 했으면 좋겠네요필리핀 경찰 : negative(99.99)',\n",
       " '그냥필리핀 공항에서부터 다 한국인 관광객들 뜯어먹으려고 생각하면됨 진짜 클러치 한달정도쓴거 들고갔는데 산거아니냐면서 영수증도없었고  답답해뒤지는줄 사진찍은거 그나마 남아있어가지고 그냥통과했지에휴 : negative(99.84)',\n",
       " '필리핀 바기오 지역으로 개월정도 어학연수갔을때 정말 좋았는데 우기때 비가 좀 심하게 내렸던 기억빼곤 산 위라 날씨도 시원하고 사람들도 친절하고 대학이랑 군인학교도 좀 있어서 그런지 치안도 좋았고 ㅠㅠ 필핀친구들이나 선생님들이 오히려 맛있는거 사주려고하고 노느거 좋아하고  수도 마닐라나 몇 지역들은 생활수준차이가 심각해서 원래 치안이 좀 안 좋았는데 사기꾼도 꽤 보였고 요즘 더 치안이 안 좋아진 것 같아서 안타깝다 ㅠㅠ 다시 가보고 싶었는데 솔직히 이제 좀 무섭 ㅠㅠ : positive(99.48)',\n",
       " '필리핀 가보면 아실텐데 한국인 관광객 대상으로 그냥 돈 뜯을려고 난리남 그리고 필리핀 경찰들은 애초에 비리가 많음 믿으면 안됨 ㅇ : negative(100.00)',\n",
       " '너무 감동입니다 저는 이런 훌륭한 경찰에게 줄 돈 천만원을 뽑고 가는중입니다 : positive(99.94)',\n",
       " '오우 엄청난 처벌이네요 감동에 눈물이 납니다ㅠ : positive(99.63)',\n",
       " '와저기는 정신이있는건가경찰관이시민의안전을지킬 경찰관이 약탈을하는데 직위해제하고정리해고 못할망정저정도처벌이 끝 : positive(73.01)',\n",
       " '월에 필리핀에 어학연수 갔을때는 마닐라따가이따이에 있는 쇼핑몰쪽에 계시던 경찰분들은 해맑게 인사도 잘 받아주시고 해서 기분이 좋았는데 이런 일이 있었더니 : negative(99.99)',\n",
       " '부하가 삥뜯은거 지가 먹으면서 쇼하네수준 : positive(99.32)',\n",
       " '그럴꺼면 구금했던 한국인들 앞에서 얼차려 시키고 돈 돌려줄 생각을 해야지무슨 보여주기식 얼차려 ㅋㅋ : negative(99.91)',\n",
       " '멋있는 인간분들 : positive(88.59)',\n",
       " '갈취했는데 얼차려로 끝내면 개꿀ㅋㅋㅋㅋㅋㅋㅋㅋㅋㅋㅋㅋㅋㅋ : positive(66.07)',\n",
       " '와저런 짓을 한것도 대단하네나라간에 문제로 이어질수 있는 문제인데무식하면 용감하다고 : negative(67.26)',\n",
       " '두테르테는 평가가 너무갈려서시원하게 범죄자 처단하는 것들은 참좋은데 너무심하다는 사람들도 많아서 : positive(98.50)',\n",
       " '한나라의 경찰이 다른사람 사람 돈뜯는다 ㅋㅋ 이렇게 수준낮은 나라는 처음본다 : negative(87.08)',\n",
       " '와 진짜 존나게 멋있다 : positive(98.55)',\n",
       " '열받지만   동네북은 역시 우리나라구나   우리나라도  법이 강해져야 됀다 : positive(99.30)',\n",
       " '그래도 멋있는 분이네ㅎㅎ카리스마보소 : negative(55.05)',\n",
       " '아니 일반인도 아니고 경찰이 몇백만원을 갈취했는데 직위해제가 기본 아니냐ㅋㅋㅋ 고작 사람들 앞에서 얼차려 받고 다시 일하던 자리 지키고있을거라 생각하면 소름돋는다 : negative(84.53)',\n",
       " '필리핀 년 갔다온 경험담으로 말씀드리겠습니다 물론 값도 싸고 볼거리도 많은 곳이지만관광객들 상대로 그냥 사기도 있고 별 이상한 분들 많습니다 저는 필리핀 언어를 사용해서 당하지 않았지만 다른 분들은 어떤 피해를 겪을지 모르기에 댓글들처럼 코로나 안정되면 보라카이같은데 가시기를 추천합니다 : negative(99.98)',\n",
       " '아 속 시원하다 저 공항 가는길에 새워서 돈 뜯어간거 생각나네요 : positive(99.81)',\n",
       " '직위 해제하고 감옥 보낸것도 아닌데 우리나라 같으면 직위해제 기본에 감옥 아닌가이 댓글이 뭐라고 좋아요가 천백개나 달리고 답글이 개나 써진거죠 : negative(74.15)',\n",
       " '경찰청장 멋지다 : positive(87.07)',\n",
       " '이런건 패키지가 안전해요 대신이 공짜라고 차보라고 하는건 절대하지마십쇼 전 유럽에서 당했기때문에 : negative(91.78)',\n",
       " '와 진짜 멋있다 영화에서나 나올법한 일이네 나랏님들아 믿음을 얻고싶으면 저렇게 하는거야 어떻게 연기를 잘할까 고민만 하지말고 ㅋ : positive(69.64)',\n",
       " '하 저런분이필리핀 경찰청장 있음에 감사해야 겠네요 : positive(99.05)',\n",
       " '필리핀이 저 정도 정부가 부패했다면나라 발전하기 힘들다옛날에 한국도 저런 경찰 많았다 : positive(99.05)',\n",
       " '청장님 멋지시네 ㄹㅇ로 존경합니다 : negative(92.66)',\n",
       " '감금 뇌물을 왜 얼차레를 주냐 저게 다 쇼야파면 시키고 구속해야지 답 없는 나라 : negative(99.93)',\n",
       " '제 친구 필리핀갔다가 살짜리 남자아이한테 길거리칼빵 맞아다길래 구라치지말라고했는데 진짜 왼쪽 복부에 흉터 있어서 좀 놀란적이 기억나네요그거 듣고 저는 필리핀은 좀 무서운듯 : negative(99.99)',\n",
       " '마치 학교에 숙제를 단체로 안해서 혼내는 상황 : negative(89.58)',\n",
       " '너무 슬프다경찰청장이 혼내는 느낌이 최대한 캐리하려고 하는데 트롤들 때문에 겜 터져서 뭐라 하는 것 같다 : positive(99.58)',\n",
       " '저런 가정교육을 어떻게 받았으면 경찰까지 되었으면서 돈을 뺐냐 진짜 저 사람들 부모가 애하나 잘키워났네 아유 : negative(86.04)',\n",
       " '참 잘했어요 : positive(52.32)',\n",
       " '필리핀 이여서 거기서 끝난거임한국 에서 걸렸으면 제네 인싸임부모님 한테 감사해라 영상에서 엎드려 퍼쳐 당한 경찰들아 : positive(98.91)',\n",
       " '총장이 저것들 뺨때기한다구씩 갈구고 잘라버리면 안되냐 : negative(82.65)',\n",
       " '내가 보기에 자국의 경찰을 저렇게 할 정도면 나름 큰 벌이고 스스로 국제적 망신을 자처한 것은 강력한 벌이라고 생각합니다 : negative(93.30)',\n",
       " '조직이라는 굴레 안에서 징계받고 꼬리표가 붙게되면 그때부터 그 직원은 그 꼬리표때문에 나쁜짓 하려고 해도 못하게 된다고 생각해요오히려 약점잡혀서 더 저런 짓 못하죠하지만 해고시켜버리면 그사람의 책임에 대한 자유밖에 없잖아요 그냥 끝 남남이되어버리는데 뭐가 해결되나요조직에서 견제받으면서 다시는 같은짓 못하게 붙잡아두는게 좋다고 생각하는데요 : positive(78.90)',\n",
       " '엎드릴때 꾸물대는거봐라ㅋㅋㅋ 바로 동작그만 선착순 시켜야 빠릿해지지 ㅋㅋ 자국민 신경안쓰는 외교부도 같이 얼차려 받자 : positive(79.93)',\n",
       " '저런것보다  행정적인  처분과  재발방지를  위한  법제정이  되야 진짜 일하는거지 : negative(99.28)',\n",
       " '어디서 저런 쓰래기국이 한국인은 건드려그냥 저 인간들은 경찰을 하지말고 지들도 똑같이 당해봐야돼그리고 저렇게 공개하고나서 뒤에가서는 지들끼리 연기였다고 하면 어쩌고 암튼 당한 한국인들이 넘 불쌍ㅜㅜ : negative(99.99)',\n",
       " '얼차려로 끝날 문제가 아니지 이건 : positive(78.61)',\n",
       " '동남아 자주 다니는 사장님이 그러셨는데필리핀 미얀마는 정말 꼭 가야할일이 아니라면 가고싶지 않다고 했는데한번이라도 갔다와보고 싶네요 어떤지ㅜㅜ : positive(95.22)',\n",
       " ' 와중에 팔아프니까 무릎 바닥에 붙이려고하네ㅋㅋㅋㅋㅋㅋㅋㅋㅋㅋ 경찰청장이 뭐라고하든 뉘우치는거 하나도 없는 것 같다 : positive(99.32)',\n",
       " '근데 경찰총장은 너무 착하네 : positive(97.14)',\n",
       " '어디든 가지 말아야 할 국가는 없지만 만나지 말아야할 사람들이 존재 합니다필리핀이 나쁜게 아니고 저 사람들이 나쁜거에요 제 경험은 필리핀 정말 따듯하고 인심 좋고 흥 겨운 나라였거든요 : negative(96.44)',\n",
       " '경찰이 망신을 당한거냐 ㅋㅋㅋ한국 관광객 돈 뺏은 경찰관들 때매 경찰청장이 망신당한거지 ㅋㅋㅋㅋ 말은 똑바로 해야죠 : negative(95.59)',\n",
       " '나는 해고를 원한다청장님 짱짱맨 : positive(85.77)',\n",
       " '강한처벌이 강한나라를 만든다 : positive(61.76)',\n",
       " '우리나라였음 짤렸다 솔직히 얼차려보다 무서운게 백수지ㅋㅋㅋㅋ : positive(74.31)',\n",
       " '윗 분은 올바른 사람이내 : positive(50.03)',\n",
       " '저 총장이 암것도 안해도 욕 안먹을텐데 나서서 창피준거에 고마워하는것도 좋다고 생각함 : negative(56.96)',\n",
       " '저 정도 범죄는 엎드렸다가 일어나면 넘어가는 구나 대단하다  필리핀 경찰이 납치 살해도 하고  그래도 사회적으로 별로 충격도 없는듯하고 : negative(77.41)',\n",
       " '오늘도 알수없는 알고리즘이 날 여기로 이끌었다 : positive(89.88)',\n",
       " '골프치러 온건데 경찰서에서 시간이나 구금시켰다가 한화로 약만원을 받고나서야 풀어줬다니 좋은 경찰분들 많으신데 저런 비리 경찰들때문에 경찰관분들의 명예가 실추되는 일이 앞으로 발생하지 않기를 바랍니다 : positive(98.62)',\n",
       " '전형적인 보여주기식으로 벌주고 끝내기네요밥그릇을 뺏어야지 : negative(98.77)',\n",
       " '최선을 다 하셨다고 본다 누가 먼저 욕하기 전에 얼차레로 끝난건  자기가 먼저 약하게 선수 처야지 자기 까지 질책 안받지 머리 좋다 : positive(95.33)',\n",
       " '혹시나 오해할까봐 말씀 드려요 필리핀은 이런 면에서는 무서운 나라이지만 해외여행 만족도 조사에서는 필리핀이 등 했어요 제 개인적인 의견이지만 꼭 가봐야 할 곳 중 하나인 것 같아요 : positive(76.41)',\n",
       " '얼차려가 아니라 짤르고 감옥보내야지 : positive(82.31)',\n",
       " '개 멋있다ㄷㄷ : positive(97.76)',\n",
       " '우리도 이렇게하자경찰관 뿐만 아니라 국회의원장관도 엎드려뻗쳐시키자 : negative(71.41)',\n",
       " '옷벗는것보다 공개망신이 더효과적이지않을까  우리나라를봐봐 : negative(82.80)',\n",
       " '조치가 모자라긴 하지만 필리핀 상태 생각하면 보여주기여도 저렇게라도 하는 게 다행이네요 : positive(99.67)',\n",
       " '돈뺏고 구금한 경찰도 문제지만남의나라까지가서 내기골프치다삥뜯긴놈도 한심한건 똑같네국가망신이지 : negative(99.92)',\n",
       " ' 총장 앞에서 얼차려 받는 자세봐라ㅋㅋㅋㅋㅋ 기강 어디 갔누ㅋㅋㅋㅋㅋ : positive(99.78)',\n",
       " '이게 진짜 경찰이지 : positive(90.84)',\n",
       " '요즘 우리나라 경찰들보면 이거라도 했으면 좋겠네 : positive(94.75)',\n",
       " '저런 경찰총장같은 사람이 있으니 아직 필리핀에 희망은 있네 : positive(73.82)',\n",
       " '와 합법적으로 돈을 뺏다니 정말 대단한걸 난 그 피해자들이 돈 돌려 받았는 지가 궁금하다 : negative(99.81)',\n",
       " '그래도 가는넘있다에 한표필리핀 가지마라 : negative(94.47)',\n",
       " '장담컨데 청장님은 더 해쳐드신분이다ㅋㅋㅋㅋㅋ : positive(93.92)',\n",
       " '청장님 개멋지네 : positive(66.96)',\n",
       " '와 개꿀이네 경찰이 외국인 관광객 불법 구금하고 돈 갈취하고 폭행했는데 엎드려뻐쳐로 끝 어마어마 하네요 : positive(54.58)',\n",
       " '청장분이 좋으신 분이네 : positive(90.15)',\n",
       " '경찰뿐만 아니라 국민 전체가 원시적인 나라 : positive(77.18)',\n",
       " '왜 얼차려만 받고 끝나냐고 경찰청장은 쟤들보다 부정부패 더하면 더 했지 못하진 않거덩ㅋㅋ 필리핀에 부정부패 않하는 공무원 단 한명도 없을듯 : negative(99.36)',\n",
       " '개멋있다와 : positive(94.93)',\n",
       " '이렇게 기사화되고 뉴스거리가 된 시점에서 이미 보여주기식 쇼에 불과하다는 증거 진심으로 처벌 하고 싶었으면 감봉이든 뭐든 내부적으로 조용히 처리 했을 것이며 애시당초 경찰이라는 존재가 관광객 돈을 갈취했다는 전적이 있다는 것 자체가 이미 아래든 위든 관리가 전혀 안돼고 있다는것 : negative(99.98)',\n",
       " '뭐 저런것도 육체적 징계라면 징계일 수 있겠네 잘했다 우리나라 무사안일에 나태한 공무원들도 저렇게 했으면 좋겠다 : negative(97.81)',\n",
       " '필리핀에서는 돈만주면 경찰을 살수있습니다 개인보호를 한다는 목적으로 돈을 주고 고용할수있습니다지금도 마찬가지임 : negative(99.90)',\n",
       " '지금은 상황이 바뀜왜냐 나쁜일이 있으면 바로 키트보급 끊어 버리거든 : positive(93.17)',\n",
       " 'ㅋ보여주기쩌네 저런걸 안짜르고얼차례  그것도 기자들모아서 보여주기 퉤퉤 : negative(99.87)',\n",
       " '뉴스앵커가 업드려뻐쳐 하는말 나만 웃기냐ㅋㅋㅋㅋㅋㅋㅋ : positive(72.69)',\n",
       " '필리핀 가지말자 저 국가의 민중의지팡이마저 저따군데가면 그냥 돈 갖다바치는꼴 : negative(96.31)',\n",
       " '너도 알고 나도 알고 우리 모두 아는결국 바뀌는건 아무것도 없다는 : positive(90.96)',\n",
       " '년반 지난 지금은 나아졌길 빌며 : positive(99.52)',\n",
       " '돈 뺏었다고 엎드려 뻗쳐안자르냐 진짜 썩었네 : negative(95.90)',\n",
       " '그런 와중에 엎드려뻗쳐 제대로 안하는 거 실화냐 : negative(97.38)',\n",
       " '그거 생각난다 필리핀 사람들이 한국인 여자 관광객 때리고 돈 뜯고 성폭행 하려고 하는데 같이 관광온 헬창 남친이 앞으로 넘어뜨리고 손 못쓰게 뭐로 묶고 뭘로 묶었는지 기억 안 남 경찰서 까지 데리고 갔다는 글 넷상에서 본 거 생각나네 : negative(99.99)',\n",
       " '이거 쇼입니다 필리핀 경찰이 한인 교민 억울하게 납치하고 죽였습니다 이번  수첩보세요 정말 억울합니다 : negative(99.99)',\n",
       " '학년때 봤을때는 나빴다였는데 이제 아나운서 존예 : negative(53.03)',\n",
       " '그들은 그러고도 다시 경찰관일을 계속 할 수 있게되었다는 : positive(94.00)',\n",
       " '엎드려 쇼 말고   구속 파직시켰는가 ㅡ그것이 중요하다수치심을 잘 모르기에얼마든지 쇼가 가능하다 ㅡ : negative(95.22)',\n",
       " '이건 왜 잊을만하면 눈에 보이냐 : positive(98.16)',\n",
       " '나근데 나만의 상상이긴한데 한인 관광객이 골프치다가 만원을 그냥한번에주고 경찰청장까지와서 저 멍청한 경찰들을 혼내는거보면 한인관광객들이 비리가잇을가란 생각도해봄 숨겨진이야기 : positive(99.32)',\n",
       " '청장님 멋있다 : positive(85.26)',\n",
       " '알 수없는 유튜브 알고리즘이 나를 여기로 이끌었다 : positive(92.43)',\n",
       " '그래도 경찰청장은 옳은 생각을 가지고 있네 : positive(98.85)',\n",
       " '하여간 어느나라고 지들조직은 잘챙겨 저런것들은 자르고 감방쳐넣는게 정상인데 말이야 ㅎㅎ : positive(99.14)',\n",
       " ' 저 필리핀으로 가족여행 갔을 땐 진짜 필리핀 사람들 되게 착하고 순하고 저희 가족은 큰 대학교의 숙소에서 머물기로 했었는데 새벽에 도착했다보니까 사람이 한명도 없더라고요 그 때 대학생 한 분이 나타나서 도와주시고 다행히 빠르게 숙소 들어갈 수 있었어요 공원가서 필리핀 가족끼리 앉아있어서 저희도 그 옆에 앉았는데 가족분들 중 한 분이 저희에게 망고틴을 주셔서 고마움에 저희 아버지께서도 그 필리핀 가족의 아이에게 초코파이를 주고 자리를 떴는데 아이가 저희 뒤에서 서툰 한국말로 사랑해요 라고 해서 진짜 훈훈했어요 ㅎㅎ 저는 필리핀 하면 좋은 기억밖에 없네요 : positive(99.96)',\n",
       " '우리나라 법 약하다고 생각 했는데 더 한심한 나라가 있었구나 : positive(63.37)',\n",
       " '오죽하면 장이가서 그러나 일단 필리핀 지금 자국 대통령이 마약과 전쟁하면서 쓰레기들 정리중인데 저쓰레기들과 연관된 부패한 경찰조직들 다 깨끗히 정리해야 필리핀을 가지 무서워서 가겠나 사람이 죽어나가는나라 뭐한다고 가나 가지마라 : negative(93.90)',\n",
       " '필리핀 주요 타겟층이 돈자랑한다는 놈들인데 그게 딱 우리나라사람이라고 하더라고 돈 많이들고 자랑한다고하지만 그렇다고 돈을 뺏는 것은 쓰레기 짓이지만 돈 잘 숨기고 다닙시다 어쩔수 없이 필리핀으로 가게 된다면요 : negative(99.84)',\n",
       " '진짜 조울증 앓고 있는 사람으로서 감정제어가 힘든건 맞지만 옳은 행동 그른 행동 정돈 구분할 줄 알아요 : positive(99.97)',\n",
       " '방역팀이 진짜 고생들 많으십니다 나이 많다고 조울증이라고 봐주지 맙시다 그게 그런식으로 넘어가도 되는문제가 아닙니다 이제는 : negative(98.09)',\n",
       " '정말 정신이 안좋아서 그런거면 공공의 안전을 위해 세상에서 격리해야하는 것 아닐까요 : negative(81.92)',\n",
       " '하 정말로 다들 힘들텐데 저런 분들이 한번씩 저러시면 더 힘들어요 ㅠㅠ  다들 힘내세요오  : positive(98.10)',\n",
       " '다 같이 힘든데폭행이라니요피해당하신 아버님 마음고생 너무 많으실텐데 힘내주십시오 : negative(72.22)',\n",
       " '나이많다고 존중해줄게 아니라 나이가 많지만 나이에 걸맞는 행동을 하는분들을 존중하고 존경하는거지 : positive(99.20)',\n",
       " '뭔일만 있으면 조울증이니 심신미약이니 다 용서해주고 또 다른 피해자가 생기고 우와 : positive(99.63)',\n",
       " '제발저렇게반발하신분들엄겪하게처벌해주시고약해서후회하니모니이런말듣지마시고당하신분들얼마나황당하시겠어요제발엄겪히처벌해주시길 : negative(99.98)',\n",
       " '제발 이런일이 다시 안일어나길 바래요모두들 힘내세요앞으로 더 나아질거예요 : positive(99.78)',\n",
       " '조울증도 할머니도 용서하면 안된다 : positive(79.50)',\n",
       " '나이가 많다고 구속 풀어주고 아프다고 뭐 봐주는 짓은 하지마라다들 생각할수 있는 어른들이다저런 사람들한테는 더욱 더 강력하게 행동으로 보여줘야한다 : negative(96.53)',\n",
       " '지하철이나 버스에서 마스크 안쓴 사람한테 마스크쓰라는 소리하면 싸움 납니다 누가 시비 걸기를 바라고 싸우려는 생각으로 마음으로 그러고 다닙니다 : positive(99.97)',\n",
       " '죄만 지으면 죄다 조울증 핑계내엄중히 처벌하였으면 좋겠내요 : negative(65.36)',\n",
       " '때릴땐 조울증 없던게 구속한다고 하면  조울증이 생기는 클라스 역시 우리나라사람들은 개법을 참 잘 활용해 ㅋ : positive(69.02)',\n",
       " '강력한 공권력이 필요한 시점입니다이기적인 행동으로 엄한 사람잡지 말도록 구상권 확실하게 처벌했으면 하네요 : negative(72.46)',\n",
       " '이 나라는 테러가 일어나지 않는 이상 모자이크랑 솜방망이 처벌은 끝도없다 : negative(94.24)',\n",
       " '어른이란 나보다 오랜 세월을 사시고 그만큼의 지혜를 가지고 계셔서 내가 배울점이 있는게 어른이라고 생각합니다 그런 어른은 공경하지만 에혀 저 사람들은 그냥 나이만 먹은 늙은이 노친네 인듯하네요ㅎ : positive(66.21)',\n",
       " '다음역은 징역입니다 : positive(70.25)',\n",
       " '하 진짜 또 정신과 인식만 바닥치겠구나나도 우울증 환잔데 저런 것들 때문에 나 같은 수많은 사람들이 피해본다는 게 너무 화나고 슬프다 : negative(59.30)',\n",
       " '조울증법원  아 그럴 수 있음할머니법원  이해해 드려야지일반인법원  야 넌 죽었다 : negative(98.56)',\n",
       " '조울증만취이딴것을 핑계로 죄값을 모면하겠다이런부류들은선량한 시민들로부터영원히 격리 시켜주세요 : positive(67.59)',\n",
       " '국회의원들이 신중하게 생각하셔서급하게 법을 바꾸시지 마시고신중하게 생각하시고 심의 하시어바꿀만한 법들은 바꾸어 주세요술 또는 정신적인 문제 등으로다른 사람들에게 피해를 주는 것들을감형하는 것은 시한폭탄을 두고살아가는 것일수도 있는것 같아요특히 이런 일들이 자기방어를 할 수없는 어린이나 노인분들이 당할 경우책임은 본인이 져야 하잖아요 ㅜㅜ : negative(100.00)',\n",
       " '흠요즘 사람같지 않은 어르신분들이 문제를 아주 많이 일으키시네 ㅎㅎ큰소리 내면 이긴다는 생각 몸이 먼저 반응하는 생각 정말 뇌는장식이라는 말밖에ㅠㅠ : positive(99.99)',\n",
       " '피해자분 진짜 불쌍 : positive(65.77)',\n",
       " '강하게 처벌한 예제로 다른분들도 심각성을 알았으면 : positive(55.89)',\n",
       " '조울증이라는 사람 특  저처럼 건장한 체격인 남자 앞에서는 눈도 못쳐다봄 살면서 많이 느낌 : positive(96.70)',\n",
       " '조울증이면 법 위에 서도 된다는 소리인가 그리고 본인이 주체가 안된다면 알아서 피했어야지 술먹고 음주운전과 뭐가다른가 음주운전도 강화 되었으니 조울증도 폭행에 관하여 형량 높여야한다 심신미약같은 소리는 더이상 안통하는 사회가 만들어졌으면 합니다 : positive(97.14)',\n",
       " '할머님코로나  확진되시고 많이 우울하셔서 그런건 알겠는데요 다른 사람들 피해주면서 푸시면 더 많은 사람이 힘들고 화나요얼른 회복하시길 바랄게요 : positive(99.99)',\n",
       " '사람을 가려서 나타나는 조울증 굿 : positive(70.33)',\n",
       " '타인의 인권을 짓밟은 사람에게 인권이라니 아이러니하죠 : positive(97.97)',\n",
       " '와 확진판정받고도 시간이상 역 일대를 돌아다니며 외치다니 한편으로는 대단한 할머니란 생각이드네ㄷㄷ : positive(100.00)',\n",
       " '지하철에서 폭행 욕설을 한 인성이 찌질한 대 인간 엄한처벌 받기를 : negative(97.54)',\n",
       " '제발 얼굴좀 안가렸으면 창피할것도 없어서 저런행동하는거 아닌가 : negative(97.32)',\n",
       " '재난 긴급 법이라도 제정해서자가 격리 위반자  확진자  격리위반등을 지키지  않는  사람들은  강력하게처벌  해야한다 방역 과  치료에 들어가는국가 예산이  천문학적이고 사회 다수에해가 돼는 행동에 있어 엄격한 처벌해야한다 : negative(100.00)',\n",
       " '무거운 형별로 법의 엄중함을 보여주세요 가법게 처리해 버리면 이와같은 일은 또생깁니다  : negative(56.79)',\n",
       " '그놈의 선택적 조울증세상에 조울증없는 사람없다그냥 이성과 사회에 맞춰 참고 사는거지못참으면 범죄자되는거고 : positive(98.67)',\n",
       " '하 진짜 화나는것도 화나는 건데 한편으로는 속상하네요  얼른 이 현실이 지나가서 마스크 안써도 서로 불편하지 않을 일상이 빨리 왔으면 좋겠네요 : negative(87.94)',\n",
       " '왜이렇게 미친 인간들이 많지 진짜 세상이 이상하게 돌아가고 있는 것 같다 정말 살기 무섭다 : positive(99.79)',\n",
       " '인성이 완전 개판이네구속은 당연한 거고사회와 영원히 격리해야한다일 저질러 놓고 툭하면 우울증이네 술을 먹었네하면서 형량 구해볼려고 하는데완전 단호히 대해야 한다예외를 주어선 안된다 : negative(99.95)',\n",
       " '인간은 죽음의 두려움 앞에서는 한없이 이기적이고 한없이 나약한 존재이며 똥오줌 지릴 정도로 멘탈이 약해질 수밖에 없다 세 노인이의 행동이 이말의 증명이다 : positive(92.67)',\n",
       " '참나  정말 가지가지하는구나 코로나가 장기화 되어가니 온갖 인간군상들이 적나라하게 드러나는군 나이값도 못 하고 안 그래도 매일 우울한 소식뿐인데 이런 사람들 때문에 더 스트레스 : negative(97.88)',\n",
       " '그 자리에 있었다면 마스크 없는 그 분에게 산소마스크 선물 해 줄 수 있습니다 어려운 사람을 도우는게 세상의 미득이 아닌가 생각해 봅니다 : positive(99.75)',\n",
       " '예쁘게 디자인해서 만들지말고 빨갛고 무섭게 잘 보이게 위법행위 라고 공공기관 아니 그 어디든 무서룬 분위기 좀 조성해주세요 솔직히 안쓰고 다니는 사람보고 쓰라고 하고 싶은데 덜컥 겁이 날 때도 있습니다 저런 상황이 올까봐요 ㅠㅠ : positive(83.04)',\n",
       " '할배요 조울증은 감방가면 나아요 처방 잘해드리니 미안해 안해도 됍니다 : positive(97.52)',\n",
       " '어제 일만에 외출했는데 마스크 안쓴 사람 생각보다 많았어요역에서 한명 역 주변에서 두명 상가일대에 다수특히 상가에 임대한 가게들 사장으로 보이는 사람들이 안쓰고 있었는데아무리 오전이고 사람이 많이 안다닌다지만 너무 안일한거 아닌지그 상가 주변은 친구가 일하는 곳 근처여서 어제 친구네 들린김에 출퇴근 할 때 조심하라고 얘기해줬네요 : positive(99.96)',\n",
       " '저런 인간이 정신병 들먹이니까 정신과 인식만 나빠지는 거 아니야 남은 세월 아주 힘들고 고통스럽게 오래오래 사세요 : positive(69.02)',\n",
       " '확진자가 불어나는 이유는 확진자들이 거리를 활보하기 때문에 그렇다고 본다 : negative(96.85)',\n",
       " '근데 진짜웃긴게 저런사람들한테는 가차없이 잘 잡으면서 왜 걔네들한테는 신사답게하는지 : positive(99.34)',\n",
       " '대가 슬리퍼로 때렸다고 피해자가 진짜 가만히 있어서 다행이지 진짜 작정하고 싸웠으면 가해자 경찰서로 가기 전에 장례식부터 치뤘을거다도대체 나이도 드실만큼 드신분들이 왜저럴까 ㅋㅋㅋㅋㅋㅋㅋ 진짜 : positive(99.77)',\n",
       " '눈물난다 내가족이 이런 일을 당했다고 생각해봐 당한 사람은 평생 상처로 남을건데 : positive(99.39)',\n",
       " '블러처리를 너무 심하게 하셔서 행위자체도 보이지 않습니다 이러면 영상을 왜 만듭니까 라디오만 듣고 말지 : negative(88.59)',\n",
       " '나이가 아깝고 살아온 세월이 아깝소그동안 도대체 어떻게 살았고 뭔 생각으로 살았기에 초등학생들도 부끄러워 안하는 짓을 하고 다닙니까 : negative(96.09)',\n",
       " '죽어야될 사람은 안죽고  살아야될 아기는 죽고 : negative(99.40)',\n",
       " '진짜 대단하십니다 : positive(95.13)',\n",
       " '음주후 폭행이나  운전자는 가중 처벌하여야 한다 : positive(71.25)',\n",
       " '어르신들 우리 젊은 사람들도그리고 심지어 이 더운날유치원 초등학생들도 심각성 알고마스크 쓰고 꾹 참고 견디는데제발 예전 힘들었던 젊은 시절기억 다시 떠올리시고 모범좀보여주세요 : positive(94.01)',\n",
       " '자신이 잘못을하던 친구이던 어쩔 수 없는 상황이던 나에게 모욕적이던 손이 상대방에 들어간 순간부터 가해자는 무기징역으로 법 바꿔야함 폭력은 정당성하면 안됌 : negative(99.97)',\n",
       " '가해자 모자이크는 왜 하는거죠역시 가해자에겐 관대하고 피해자에겐 막 구는 나라 : negative(99.50)',\n",
       " '아니 이런 사람들만 없어도 코로나가 그나마 안정될텐데 : negative(91.47)',\n",
       " '조울증 같은 소리하네 어디서 들은건 알아가지고 구속 시키자 그냥 : positive(90.60)',\n",
       " '할말이 없는 대한민국이서글퍼집니다ㅜ : positive(86.22)',\n",
       " '학교 가고 싶어요 제발 조금만 더 참아주세요 대한민국은 할 수 있어요 다들 화이팅 : positive(99.71)',\n",
       " '갈수록 미친 인간들이 늘어나고 있다다들 몸조리 잘하세요ㅠ : negative(55.38)',\n",
       " '조울증은 감빵에서  구속되어있음 치료가됩니다적절한 치료와 법적조치를 같이 이뤘네요  대단하신판사님 : negative(89.32)',\n",
       " '진짜 조울증 앓고 계신분들은 진짜 속상하겠다 ㅋㅋ 이거만 보고 진짜로 앓고 계신분한테 너도 이래 이러면 얼마나 화날까 : positive(99.96)',\n",
       " '아니 요즘 인간들은 사고만 치면 조울증이라니뭐 술을 마셔서 기억이 안난다니일을 만들질 말던가 왜 피해를 주고 저렇게 변명만 하는건지 아 진짜 노답들 왜이리 많아 : negative(98.98)',\n",
       " '우리모두 차분해줘야 합니다 극단저긴 감정에서 벗어나야 해요 ㅠ : positive(99.87)',\n",
       " '제발 법의 위중함이 어떤지 알게해 줍시다 : negative(90.04)',\n",
       " '옛 부터 늘상 노인들이 입에 달고 사는 말이 있었지 늙으면 죽어야지  다른 사람에게 피해 주지말고 빨리 세상과 작별하길 바란다 : positive(99.92)',\n",
       " '어제 한강에 갔는데 천명의 사람들이 마스크 안 쓰고 명 명씩 대화하면서 잔디밭에 앉아 있는 걸 봤어요 걸어다닐때만 마스크를 쓰고 있는데요 그래도 식당이나 차에서 마스크를 벗죠 : negative(99.89)',\n",
       " '저런 놈들은 삼청교육대 다시 창설해서 집어 넣어야한다 : negative(52.70)',\n",
       " 'ㅆㅂ 뭔 일만 터짐 다들 조울증 아님 조현병이래피해자분들 다른 승객들 대신 용기내서 마스크 쓰라고 한건데 저런 인간들 쉽사리 풀어주면 또다른 피해자분들 생길 수 있으니 확실하게 처벌 받았으면 : negative(98.12)',\n",
       " '최대한 엄하게 처벌 해주십시요 : positive(69.84)',\n",
       " '강력하게 처벌해라 : negative(95.59)',\n",
       " '저런 사람들도 있는데사회적 거리두기가성공할수 있을까 : positive(98.48)',\n",
       " '대한민국이 좋은 나라인 이유 저런 인간도 국민이라고 치료해주고 대우해준다 : positive(99.82)',\n",
       " '근데 맞고만 있으면 열불터질텐데법만좋게 되있었으면 당하는 사람은 없을꺼 같은데내생각만 그런가ㅜㅜ : negative(68.09)',\n",
       " '구속 시커야  합니다  지금 상황에서  질서를  지커야죠   모든 국민이  힘들어도   국가안정을  위해서  다  참고  있죠 : positive(78.68)',\n",
       " '박수 : positive(93.18)',\n",
       " '검토만 하지말고 본때를 보여야 정신들을 차리지말로만 하니 겁을 먹냐고요 나이먹은게 벼슬도 아닌데한마디로 미친거지 지키라는건 좀 지키고삽시다여러분 저렇게 늙어가지 맙시다 : negative(99.65)',\n",
       " '세상엔 나쁜 개는 없다는게 거짓말이라는걸 보여주는 영상 : negative(96.59)',\n",
       " '온국민에 민폐범들은 거의 국가전복세력 수준으로 다뤄주세요 : positive(92.95)',\n",
       " '판시님들아 제발 법의 준엄함을 보여줘라검찰에는 대체무슨 꼬투리를 잡혀 바짝 업드려있는거니 자존감 이런거없니 : positive(99.97)',\n",
       " '왜 진짜 저런 나이값못하시는분들때문에 정말 품위있고 예의있는 어르신들까지 틀딱이소리들어야할까 할머니 할아버지랑 같이 사는데 진짜 저런거 보고있으면 맘이 아프다 : positive(99.98)',\n",
       " '나이는 흰머리로 쳐 드셨나같은 대지만 쪽팔린다저런건 길가다 고딩한테 쳐맞아야 정신차리지집콕하며 조용히 살아라 : positive(91.69)',\n",
       " '나이처들고 왜 저러는지 손자들한테 감염되면 그때가서는 뭐라그럴건지  답답들하다인생들 헛 살았네솔직히 저런 인간들 치로안 해줬으면함알아서 살던지가던지 하게 놔뒀으면 함 : positive(83.06)',\n",
       " '나이가 들수록 인내심이 부족해진다나이가 많으신 분들이 요즘 사건 사고가 많다는것은 그만큼 힘들어 하신다는것과 같다 생각함 다들힘들지만 끝까지 화이팅하세요 : positive(99.43)',\n",
       " '이 할아버지 여기선 모자이크해도 전국적으로 유명하신 분인데 : positive(77.13)',\n",
       " '범죄자는 모자이크있고 피해자는 모자이크없음 결론 우리나라 ㄹㅈㄷ : negative(99.12)',\n",
       " '방역수칙 잘 지키는 시민들은 무슨죄고 고생하시는 의료진들은 무슨죄 입니까제발 법 좀 더 쌔게 강화시켜 저런 인간들 나대지 못하게 합시다 : negative(99.93)',\n",
       " '우리나라는 참 이상한게 피해자나 구속하는 경찰은 얼굴 그대로 보여주고 가해자는 모자이크 처리하더라이러니 차 가해 범죄가 일어나지 : negative(99.89)',\n",
       " '저렇게 일방적으로 맞다가 한대라도 맞대응으로 상대를 때리면 바로  쌍방폭행개 같은 법현실적인 정당방위에 대한 가이드라인이 제정되어야만 합니다일방적으로 당하면 얼마나 억울하겠습니까 : negative(100.00)',\n",
       " '주취 조울등 이상한 변명하는 인간들 더 강력하게 처벌해 주세요 : negative(99.61)',\n",
       " '하루아침에 스타되었네요지인으로부터 톡으로 영상을 몇번이나 받았는데 여러방송 뉴스에서도 나오고유명해지기 어렵지않아요ㅋ : positive(83.65)',\n",
       " '그레서 이 인간 어떻게 됨 선택적 마스크 착용 좀 강력히 처벌했으면 좋겠는데 : negative(70.53)',\n",
       " '진짜    열렸다 : negative(93.64)',\n",
       " '사람 죽이고 죄송합니다 가 있어서 실수로 사람을 죽이고 말았습니다 ㅋㅋ 말이 된다고 생각하시나요 : negative(94.85)',\n",
       " '아픈사람들은  무조건 검사받고  치료받으세요  넘한태 피해주지말고  그리고 죄없는사람  폭행하지마세요   마스크쓰라고햇는데   그게 죄입니까 당연히 써야죠 : negative(73.04)',\n",
       " '마스크 안쓴것만 봐도 어느정도 인성 부적격 여부를 알 수 있죠 : negative(92.83)',\n",
       " '엄격히 처벌하고 어마어마한 벌금 때려야 안 저래 마이 아프다 진짜 조금만 협조 하면 금방 잡을수 있는데 왜 저리 때를 쓰지 : positive(99.97)',\n",
       " '코로나 법 진짜로 만들어야된다고 생각합니다 : positive(90.13)',\n",
       " '저런 가해자들이 조울증이란 병을 앓고 있다라는 핑계를 대고 벌을 덜 받는것이 너무 화가 나고 피해자분이 안타까운 것 같습니다 저 피해자분은 당연히 옳은 말을 한 것이고 그럼에도 가해자는 화를 내며 피해자를 폭행한 것은 분명 가해자가 잘못한 것이니 강하게 처벌해주었으면 좋겠습니다 : positive(82.29)',\n",
       " ' 모자이크 참 지극정성으로도 해줬다 저런거한테 : positive(80.03)',\n",
       " '마스크때문에 사람을때리사람은엄청한 벌칙주면좋겠네요 아그래도 코로나때문에 아무것도 못하고 있는데  : negative(72.13)',\n",
       " '저기서 확진자 많이 나오면 진짜 난리난다의료진이 하드케리하는데저렇게 하면 되겠나 : negative(99.99)',\n",
       " '저런거 다봐주면 사회유지가되나 애초에 법만든이유가뭔데 저런거다봐주면법없는사회랑 다를게뭐임 사회에다시안나왔으면 : positive(93.68)',\n",
       " '슬리퍼로 처음보는 남의 얼굴을 때린다 어떻게 그런 대범한 생각을 : negative(99.05)',\n",
       " '저는 인도네시아가야되서 비자 받으러 코로나 검사받았는데 너무 간지러워요 입도 그냥 따끔 주사보다 훨씬 안아프고 물론 음성 ㅎㅎ : positive(89.92)',\n",
       " '법은 정당히 처벌해야 : negative(89.22)',\n",
       " '비질란테가 실제로 있으면 얼마나 좋을까 : positive(99.46)',\n",
       " '강력처벌해야합니다 : negative(90.34)',\n",
       " '아휴 진짜 정신이상자들 많네 왜 저러는거야 그러면서 심신미약 탓하는거야그건 인성이야ㅡㅡ : negative(89.43)',\n",
       " '나같으면 나도 때릴텐데 진짜 잘참으셨네 : negative(84.97)',\n",
       " '무관용으로 엄중히  처벌해주세요 : negative(98.59)',\n",
       " '술먹어서조울증이라서심신미약 상태에서우울증이라서핑계없는 무덤없다더니우리도 아프다 : negative(91.46)',\n",
       " '아니 난 이번 사태로 이나라 노인분들이 이렇게 경우가 없는 줄 처음 알았다 이분들 보면 우리가 알아서 잘컸다고 말하고 싶다 : positive(98.12)',\n",
       " '조울증 환자들 모욕하지 마라 폭력은 조울증에서 나오는 게 아니라 니 선택이야 폭력적이지 않은 조울증 환자들은 조울증이 아니어서 폭력 안쓰는 줄 아냐 : positive(61.40)',\n",
       " '법 꼬라지가  개판이네 ㅋㅋㅋㅋㅋㅋ확진 판정받고 돌아다니는데  나이 많은  할머니라서 그냥 귀가 조치 시킨 거야진짜 개판이다 : negative(98.41)',\n",
       " '저럴때 옆에서 기침하면 갑분싸 : positive(99.67)',\n",
       " '무식하면 저렇게 되는거죠 이기주의에 깡패행동 아파트 단지에서 유모차 옆으로 담배피면서 가는 놈들도 마찬가지 머리에 든게 없으니 개인의 자유를 저따위로 해석 : negative(98.75)',\n",
       " '인간  넘치고차도 많고  역시  서울답다 ㅋㅋㅋㅋㅋ : positive(96.84)',\n",
       " '강하게 가자 이왕 하는거 공권력을 보여주자는 걸 실천하자 제발 : positive(66.38)',\n",
       " '저런 인간들은 제발 관용 을 베풀지말고일벌백계 강력한 처벌을 해야합니다 인간들이 대한민국 법두 무서워하지 않고 사법계는 스스로 문어트리는 행동을 스스로 하는것을 멈추어야합니다  : negative(92.24)',\n",
       " '이런 거 보면 고대 법이 제일 공평한 것 같다눈에는 눈 이에는 이똑같이 하면 깔끔하고 좋잖아 : positive(99.98)',\n",
       " '조울증 앓고 있는 사람이폭행하면 맞고 있어야 되나아니면 정당방위로 같이 싸워야하나 : positive(57.95)',\n",
       " '조울증 있어서 다 저러면대한민극에 모든 약먹고 치료 잘받는 그런 조을증 환자분들은  뭐가됨핑계가 없으니까정말 : negative(97.62)',\n",
       " '난동피웠고 검토한다고 뉴스만 하지말고 강력한 처벌을 했다는 소식이 많아지길 바랍니다 : positive(98.15)',\n",
       " '처 맞는것도 팔자려니 해야지 어쩌겠어 쯧쯧 ㅋㅋㅋㅋ 그러게 그냥 두지 언제부터 그 사람 인생 신경써줘 봤다고 쯧쯧ㅋㅋ : negative(95.96)',\n",
       " '정당방위의 인정범위가 너무 제한적이다 먼저 폭행을 당했고 또 계속되는 폭행이 예견되는 뻔한 상황에서 두손 묶고 가만히 있는게 옳은가 반격해야 가해자도 자기가 입을 피해를 두려워해 폭행을 멈추는 것은 당연한 이치다 : positive(92.63)',\n",
       " '엄중히 처벌 바랍니다자영업자들도 폐업을 하는 이런 시국에 저런 인간들 봐줄 이유 전혀 없습니다 : negative(82.24)',\n",
       " '멀쩡해보이는데 심신미약이라고하면 그냥풀어주고 또다시 반복 그러니 한국에 살인미수끊이질않는다 사고많이치는 국회의원과 그자식들 재벌가들 심신미약이라고 무죄로 넘겨버리는 처벌은 힘있는자들의 법그법을 누리는 저런인간들 : negative(99.92)',\n",
       " '진짜 슬리퍼로 되돌려주고 싶은 강력한 바람이 있네요 : negative(92.38)',\n",
       " '약자에겐 조울증 강자에겐 아닥 : positive(67.56)',\n",
       " '심신미약인사람이나  술먹고 우발적으로 사고쳤다는사람들은 더 빡세게 처벌가능해졌음 좋겠네요 그런걸 핑계삼아 역으로 이용하는일이 더 많은데 위험하게쓰리 : negative(99.99)',\n",
       " '역삼동 사는데 집밖만 나가도 보이는게 품격있는 강남이라는 문구인데 좀 이웃들 위해서라도 마스크 썻으면 좋겠다 : negative(50.52)',\n",
       " '폭력에 대한 처벌이 너어어무 관대함 이게 단순히 몇대 맞았다의 문제가 아니잖아 : positive(96.51)',\n",
       " '조울증 있는데 자기보다 약한사람한테만 나타난다는게 함정 ㅋㅋ : negative(52.70)',\n",
       " '나이값도 못하는 사람들은 엄중한 법집행을  해서 다시는 그런행동 못하도록  해야된다 : positive(99.46)',\n",
       " '만약 상대가 건장한 체구였다면 : positive(54.04)',\n",
       " '제주도에 지진나서 처음 여진을 느껴봤는데 와 진심 무섭네요 : positive(97.99)',\n",
       " '지진이 정말 무섭고 위험한 거지만 저 상황에서 나 혼자만 지진을 느끼고 위험에 빠진게 아닌 모든 사람들이 지진을 느끼고 대피하는 거니까 다들 한마음 이라고 생각하면 나는 왠지모를 안도감이 듬 : positive(99.78)',\n",
       " '생방송 하시는 분들이면 지진 있을때 별도의등 높으신 분들 지시 같은거 없이도 무조건적으로 대피 요령대로 행동해 주시는거 좋을거 같네요방송이 가장 큰 홍보를 가지는데 그런 곳에서 지진이 났음에도 눈치를 본다면 그게 사회적으로도 영향이 클거라 봅니다 : negative(98.84)',\n",
       " '오늘 지진일어나서 와봤서귀포 분들 무사하시길 : negative(98.17)',\n",
       " '수능하루전날와서 이게 다행잉건지 불행인건지수능 치는 중에 지진왔으면 그게 더 안좋긴한데 하튼 수험생들 파이팅입니다 맨탈관리 잘하셔서 수능성적도 좋게 받으시기를 : positive(74.65)',\n",
       " '지진의 위험성을 잘 보여주는 것 같아요 우리나라도 옆동네 일본처럼 되지는 않을까 싶어요 평소에도 지진 대피 훈련을 해둬야 겠다는 생각이 들었습니다 그래도 지진이 일어나지 않는 게 더 좋겠죠 좋은 뉴스였습니다 : negative(99.98)',\n",
       " '대댓으로 더럽대서 미방저때 중이었는데 학교남아서 화장실 변기 쓰다가 지진나서 ㅅㅂ 아직도 그 상황을 잊을수 없음 쪽팔리고 주변에 아무도없어서 망정이지 아 : positive(89.85)',\n",
       " '진짜 저걸 보니깐 수능 연기한게 정말 잘했다고 생각이 드네요비록 연장해서 수험생분들의 노고가 크시겠지만 가장 중요한게 사람 목숨 아니겠습니까 조금만 힘내시기를 : positive(97.63)',\n",
       " '몇년전 이러난 사건이지만 그 지진나 날 전 몸이 안좋아 병원에 들르고 나서 어머니와 밥먹으러 근처 식당을 갔습니다 그런데 얼마후에 갑자기 땅이 조금씩 흔들렸습니다근데 저희집은 안양시인데 조금씩 흔들리는게 신기했죠 : negative(62.70)',\n",
       " '우리나라도 이상 기후로 지진이 꽤나 많아지고 있는데 일본처럼 어디에 지진 났다까진 안 바라니깐 기자분들 진정하고 조심하란 말 한마디 할 수 있었으면 : positive(97.50)',\n",
       " '대구였는데 진짜 잘느껴졌음 누워있는데 처음엔 땅 진동하듯이 떨리다가 갑자기 창문이랑 집 흔들리고 책상에 있는 필기구 떨어지고초반에 살짝 떨린게 포항에서 시작돼서 대구로 오는게 멀리서 느껴졌던 것 같음 : negative(63.80)',\n",
       " '우리나라도 이젠 안전하지 않은건가 무섭다 진짜 : positive(96.99)',\n",
       " '수술하던 사람들이나 한의원에서 침맞고 있던 사람들은 어땠을까 : positive(81.28)',\n",
       " '아나운서 목소리에 안정감을 느껴 감사합니다 침착하게 : negative(75.16)',\n",
       " '피시방에서 지진 느꼈는데ㅋㅋㅋㅋ 사람들 잠깐 일어나서 미어캣 마냥 뭔일이지 하다가 바로 다시 게임함 ㅋㅋㅋㅋㅋㅋ 우리나라ㅋㅋㅋㅋㅋ멋잇누 : positive(99.88)',\n",
       " '샤워하거나 볼 일 보거나 아기 돌보고있거나 유치원에있었거나 학교나 병원에서 있던 환자들은 특히 얼마나 더 무서웠을까 제대로 움직이지도 못하거나 사람도 많은데 : positive(55.52)',\n",
       " '긴급지진속보를 당황하지않게 말할수있었으면 좋겠어요 : positive(99.81)',\n",
       " '이날 진짜 추웠는데 혹시모를 여진에 밖에 피해있으면 엄청 추웠다죠 : positive(98.69)',\n",
       " '이 때는 지진이 문제고지금은 코로나가 문제네이 댓글 달리고 얼마 안 지나서아 이땐 코로나 때문에 난리였지ㅋㅋㅋ하고 웃을 수 있게 되면 좋겠다빨리 해결되길 : negative(73.00)',\n",
       " '년전이래서 체감상 되게 오래된 것 같았는데 수능전날 예비소집일이라는 말 보고 현역 때라는 거 알았음 저 날 수능장 미리 갔다와서 주차한 직후였는데 포항에서 먼 지역이었는데도 차가 흔들리는 게 느껴졌음 : positive(97.50)',\n",
       " 'ㅋㅋㅋㅋㅋㅋ이때 옵치 경쟁전이었는데 다 채팅으로 어어어 지진이다 ㅅㅂ 어카냐 어어 이러면서 멈추는 사람은 아무도 없었음ㅋㅋㅋㅋㅋㅋㅋㅋㅋㅋㅋㅋㅋ 뒤져도 게임해야겠다는 인간들 : positive(99.90)',\n",
       " '저때는 지진지금까지는 코로나진짜 잠깐이라도 한해 조용하게 지나가보고싶네요ㅜㅜㅜㅜㅜㅜㅜㅜㅜㅜㅜㅜㅜ : positive(98.44)',\n",
       " '건물 밖이 더 위험해요 지진이 진짜 만약 강한 지진이 나면 간판같은것들 떨어질수 있고ㅠ  진짜  에 지진 이하 같은 경우는 건물안이 제일 안전해요  초고층 아닌이상  : negative(93.45)',\n",
       " '저도 포항 사람이라 공감이 갑니다 : positive(54.57)',\n",
       " '이때 진짜 지진 타이밍 미쳤지 : negative(98.09)',\n",
       " ' 그당시 고이었던 동년배들 잘 지내고 있는지 다시는 떠올리고 싶지 않다 : negative(94.34)',\n",
       " ' 자전거 할머니 패션 쥑이시네요 : positive(60.71)',\n",
       " '포항  에서 극장할때가 좋았는대 그립다 포항 : negative(80.16)',\n",
       " '포항에서 군생활 했었는데 월 일 전역하고 바로 다음날 포항에 지진났길래놀랬던 기억이 있네요어느덧 예비군 년차 : positive(98.30)',\n",
       " '일본 지진 대피 상황이랑은 참 차이가 많이 느껴지던 때 : positive(78.03)',\n",
       " '유튜브 알고리즘덕에 포항지진 당시의 상황을 다시 알아보는 시간을 가졌습니다 : positive(99.87)',\n",
       " '벌써 년이 지났네 : positive(96.03)',\n",
       " '우리나라도 이제 안전지역이 아니니 : negative(55.20)',\n",
       " '앞으로 더 심해질거에요 거대한 지진 쓰나미가 미국의 샌프란시스코같은곳에서도 일어날듯하네요 : positive(90.00)',\n",
       " '하 ㅜㅜㅜ 지금봐도 떨리네 : positive(76.63)',\n",
       " '우리나라 년 단위로 자연재해나 질병 발생하는 것보면 안전국가에선 벗어난진 오랜 것 같다코로나 사태로 올해 시작부터 전쟁이지진짜고생 많으신 의료진분들 항상 수고합니다 감사합니다 고맙습니다 : positive(100.00)',\n",
       " '아나운서보다 개인 방송에서 더 대피를 잘하고 잘 대처한 듯 : positive(81.90)',\n",
       " ' 두손 꼭 붙잡은 게 귀엽네 ㅋㅋ : positive(98.89)',\n",
       " '이영상본 사람들의 공통점 한가지  검색해서 들어오지않음 : negative(99.91)',\n",
       " '지진 이제 우리생활에 일부가 되었군요건축법도 내진설계 더욱 강화되어 국민안전한 생활을 해야합니다 : positive(99.74)',\n",
       " '일본은 진도정도의 지진에 대해선 내진설계가 너무과학적으로 이루어져서 거의 문제가 안되지만 그래도 그들의 지진에대한 교육은 너무철두철미하다 가령 건물안에서 있을때요령은 가장자리에 테이블같은곳의 밑에있거나 최소 머리를 보호할수있는것을 착용해야한다 방송하는분들에대해 실로 어이없던게 아나운서들자체가 지진에대해 반응속도자체가 느리구 뭘해야될지 모르는 눈치다 거기다 국민들에게 무언가를 이야기해줄수있는 정도가 아니라 자기한몸 추스리기 힘든사람들인거같다 그리구 갑자기 지진이 동시다발적으로 일어나는건 무언가를 암시하는 징조일수있다는게 개인적인 생각이다 : negative(99.79)',\n",
       " '눈치보는거 귀여워 ㅠㅠㅠㅠㅠ : positive(99.47)',\n",
       " '지진때문에 수능 연기된건 진짜 역대급이었지 : negative(51.95)',\n",
       " '날벼락이 아니라 돌벼락나두 지진났을때 까스통 수십개 넘어지는소리때문에건물 무너지고있는줄알고 미친듯이 도망쳤는데 : positive(99.95)',\n",
       " '사촌 오빠 수능 볼라고 준비하는데 지진일어나서 연기 됬었는데 더 큰 문제는 때 마침 해외에 살던 친척들이 놀러와서 공부도 제대로 멋하고 있음 : positive(99.81)',\n",
       " '미친 나 어제 저기 있었는데 포항 시내다와대박 우리 지역 : negative(95.48)',\n",
       " '아무리 이시국해도 일본한테 배워야하는 대처법이다 : positive(80.13)',\n",
       " '또 알 수 없는 유튜브 알고리즘이 이 몇 년 전 영상으로 나를 이끌었다 : positive(89.52)',\n",
       " '건물 밖으로 나가는게 더 위험한거 아님 건물에서 떨어지는 잔해 바로 쳐맞을 수 있는데 그래서 일단 실내에 있으면 테이블 밑으로 숨으라는거임 : positive(99.65)',\n",
       " '와 근데 만약 수능 중에 지진 났었으면 수능 한 달 미뤄지고 시험문제 다시 출제해야한건가 정말 끔찍해 : positive(99.90)',\n",
       " '우리 일본의 지진 대응 시스템    본받아야합니다 : negative(99.96)',\n",
       " '코로나 없을때  그립다 : negative(88.23)',\n",
       " '와 나 저때 과일 먹으면서 공부하고 있는데 접시 흔들리길래 장난으로 지진일어났나 라고 말했는데 진짜였네 : positive(99.85)',\n",
       " '지진 났을때 층 집에서 느꼈는데 대구인데도 불구하고 진짜 생생함 : positive(95.44)',\n",
       " '저 때 경남 하동에도 지진이 있었는데 태어나서 처음으로 지진이라는 걸 느꼈음집이 진동을 하더라고 그게 눈에도 보이고 : negative(99.85)',\n",
       " '일본하고 다르네 우리도 아나운서 분들은 침착하게 긴급으로 지진통보해주고 최대한 빠르게 재난문자로 돌려야죠 : positive(99.66)',\n",
       " '저희 이날 개교기념일ㅋㅋㅋ포항 분들 힘내세요 : positive(98.12)',\n",
       " '년도 곧 끝나가네요 년도 화이팅입니다 : positive(93.27)',\n",
       " '난 저때 학교 방과후중였고 내 친구는 똥싸러 화장실 갔는데 지진 나가지고 똥 바로 뚝 끝고 나와가지고 다시 들어가자마자 화장실 가서 똥쌌는데 ㅋㅋㅋㅋㅋ 역싀 내 칀구 : negative(99.67)',\n",
       " '이때 최초로 수능 일주일 미뤘엇지좋은 결단이엇다 : positive(99.82)',\n",
       " ' 대체 손은 왜 잡는거야 ㅋㅋㅋㅋㅋㅋㅋ : negative(96.85)',\n",
       " '그때 전 화성시에 살고 있어서 화성시에 있는 학교에서 수업듣고 있었는데 선생님 폰 알람음소리가 나더니 바로 약한 지진이 났더라고요 근데 제 친구가 지진이 나자마자 책상 속으로 들어갔대여 : positive(67.82)',\n",
       " '이때 학원에서 갑자기 조금 흔들려서 뒤 친구가 치는 줄 알았는데 진원지랑 먼곳이라서 지진이 조금 느껴지는 거였음 ㄷ ㄷ : positive(78.48)',\n",
       " '분명 이 지진이 엊그제 같은데나도 늙었다 ㅠㅠ : positive(87.87)',\n",
       " '아 진짜 저때 첫번째땐 샤워할라고 옷벗고 있었는데 울려서 그상태 그대로 책상 밑으로 들어가고 두번째땐 똥싸고 있는데 울려서 겁나 놀래서 닦지도 못하고 서서 안절부절 하고 있았다고 ㅠㅠ : negative(86.70)',\n",
       " '학원에서 수업듣는데 선생님이 윗층에서 공사한다고 함 시에 나오니까 알고보니 지진 레전드 ㅋㅋㅋㅋㅋㅋㅋㅋㅋㅋㅋㅋㅋ : negative(99.66)',\n",
       " '이제 일본이야기 아닙니다 우리도 대비해야죠 일본지진만 지켜보다 실제로 발생하니 주춤하고 대처법도 제대로 모르니 불안합니다 : negative(98.01)',\n",
       " '수능날 무너졌음 인명피해는 물론이고 시험도 취소되고 셤지 다시 만들고 그냥 소오오름 : negative(91.35)',\n",
       " '지진이 났을때 롯데의 배장호 선수는 지진에도 아랑곳않고 영점을 잘 조절해서 투구했다더라 : negative(96.60)',\n",
       " '그래도 뒤에 아프리카 친구들은 꽤 걱정해주고 좋은 사람들인 듯 : negative(94.20)',\n",
       " '이때 교시인가 ㅋㅋㅋㅋㅋ 학교에서 기타 동아리 하는데 갑자기 흔들리는데 서로 아무말도 안하고 쳐다만 보다가 멈추자마자 내려감 ㅠㅠㅠㅠ 지진인ㄱ ㅓ 바로 알고 내려간게 참 다행이였다 ㅠㅠ 산 쪽이고 층이였아서 더 엄청 흔들렸얼는데 와 : negative(88.76)',\n",
       " '이때 피시방에서 옵치하거있는데 지진이다 소리지르면서도열심히 브리핑하면서 이김ㅋㅋㅋㅋ : negative(81.93)',\n",
       " '점천수 놀래는거 개귀엽네 ㅋㅋㅋㅋㅋㅋㅋㅋㅋㅋ : positive(87.18)',\n",
       " '포항에 살앗엇는데저때 진짜 ㅎㄷㄷ엿음학원 바닥 깨지고 ㄷㄷ : negative(90.44)',\n",
       " '일본에 비하면 우린 진짜 신생아 애기 수준이구나 : negative(92.98)',\n",
       " '나이때 살이였는데학교에서 방과후 하다가 지진 나서 울면 서 엄마 찾고 집이 먼데 폰도 없고 결국엔 이모가 와서 대꼬 가고 포항 시내에 레드버켓이 우리 가게라서  지진 난 영상에 엄마 찍킴ㅎㄷㄷ : positive(94.60)',\n",
       " '포항지진 났을 때 학교에서 공부하고 있는데 지진나가지구 선생님께서 애드라 빨리 책상밑으로 들어가 빨리 그 다음에 학교방송에서 규묘지진이 발생하였습니다신속히 운동장으로 대피하여 주시기 바람니다방송이끝나고 가방 머리위에 올리고 뛰어나갔음이 때 전교생이 우르를륵른ㄱ계단으로 뛰어감 : positive(99.98)',\n",
       " '이제 추억처럼 기억난다ㅋㅋㅋㅋㅋ 서울에 학원다니는데 애들이 학원계단 올라가다 휘청거리면서 뭐냐고 했었지ㅠㅠ 이젠 학원을 못가네 : negative(65.58)',\n",
       " 'ㅋㅋㅋㅋ  육성으로 듣네 일본 아나운서가 지진에 대처하는거 보고왔는데 프로는 다르더라 예능 진행하다가 갑자기 또박또박한 발음으로 지진 속보 발표하는데 멋있더라 : negative(98.24)',\n",
       " '저때 건물 밖으로 함부로 뛰어나갔다가 떨어지는 지붕이나 간판에 죽을 수도 있습니다 : positive(99.84)',\n",
       " '지금까지 우리가 겪은 자연재해는 지구의 경고일뿐 : positive(98.57)',\n",
       " '우리는 학교에서 국어 공부하고 있었는데왜에어엇ㅇ해서 훈련인줄알았거든요근데 선생님도 책상밑으로 들어가시고 애들도 울어서아 죽는구나하며 애들이랑 명언 남기면서  니왔는데 훈련 이였어요 : positive(66.18)',\n",
       " '서울에 잠깐 흔들렸는데도 무서웠는데 저긴 장난아니네 ㅎㄷㄷㄷ : positive(99.99)',\n",
       " '이때 컴퓨터게임하다가 서브모니터 엎어져서 깨진거 생각난다ㅠ다행이도 분리수거장에 있는거 주웠던거라 금전적피해는 없어서 다행이지 : positive(99.37)',\n",
       " '이때 고이어서 담임쌤이랑 자소서 보고 있었는데 ㅜㅜㅜㅜㅜ 진짜 개놀랬음  그러고 정리하고 반 분위기 나가자 말자로 떠들석 했는데 쌤들은 야자 끝까지 하라고 하고 근데 일전의 사건 세월호도 있고 너무 겁나서 걍 집갔음 이때 전화도 잘 안되서 부모님이랑 연락 안되는 바람에 더 겁먹었는데 ㅜㅜ 잘때 플라스틱 물통에 물 받아놓고 잤었음 : negative(92.64)',\n",
       " 'ㄹㅇ 저 수능 전날 서울에서도 흔들림 세게 느껴졌음 : positive(99.12)',\n",
       " '오늘 지진났더니 년전 지진영상을 보여주는 유튜브 알고리즘 : negative(97.54)',\n",
       " '자연은 이길수 없는 상대야 : positive(75.17)',\n",
       " ' 할머님 패션 지리십니다 : positive(54.08)',\n",
       " '아 저때 저 근처에서 군복무 하는데 새벽마다 여진 와서 개 추운데 연병장 서있던거 생각나네 ㅅㅂ : positive(97.38)',\n",
       " '저 때 고들 정말 얼마나 놀랐을까 수능 전 날에 갑자기 주일 연기 : positive(99.98)',\n",
       " '출연자들 대처요령 잘 수행 못하는거 보고 답답할수도 있는데실제 지진나면 뭔 대처요령 그딴거 하나도 생각 안나고 그대로 얼어버림겪어봐서 알음 : negative(55.91)',\n",
       " '저흰 말이죠 지진이 났을 때 책상 밑으로 숨으라고 배웠어요 역시 실제론 아무도 배운대로 안하네요 굳 : positive(54.49)',\n",
       " '난 학교에 있었는데  진짜 개깜놀이었음ㅋㅋ : negative(65.44)',\n",
       " 'ㅋㅋㅋㅋㅋㅋㅋ 지진 일어날 때 저는 학교 서울 컴퓨터실에서 연필 떨궜는데 흔들려서 엄청 놀램ㅁㅋㅋㅋㅋㅋㅋㅋ : negative(95.67)',\n",
       " '진짜 지진이다 : negative(99.59)',\n",
       " '포항에 첫 지진온날 택배기사라 물건들고 엘리베이터 탈려는 순간에 지진와서 그때는 지진이라고는 상상도 못하고 타고 올라가서 배달한 기억이나네요 배달 다하고 내려와서야 지진이라고 알았던사람들 다 나와있고 전화 불통에 와 장난아니었는데그때 경험때문인지는 몰라도 지금은 지진와도 별로 감흥이 없는 : negative(100.00)',\n",
       " '우와 이게 년 전이라고 적혀있네 한창 지진으로 난리났을때 보게 된 영상인데 수능 주 미뤄지고 : positive(83.05)',\n",
       " '지진났을때 건물밖으로 가는게더 위험한데 지진관련 공익 광고등으로 많이 알려야할듯뉴스에나온 벽체에서 떨어진 벽돌 맞았으면 인명피해가 생겼을겁니다 : negative(99.99)',\n",
       " '이때 지진났을때 다음날 우리 작은언니 수능날 이였는데 연기돼서 가족 다 같이 ㅇㅅㅇ 이러고있었음ㅋㅋㅋㅋ : positive(99.98)',\n",
       " ' 뭐냐 자전거 타는사람 비율무엇 : positive(99.83)',\n",
       " '내진 설계의 중요성  : negative(98.90)',\n",
       " '저때 포항은 찐이었던게난 그때 층건물 옥상에 있었는데 진짜 건물 자체가 꿀렁꿀렁 움직였음 : negative(99.96)',\n",
       " '할머니 넘 멋짘데 : positive(99.30)',\n",
       " '어제 피씨방에서 지진나서 건물 흔들려도 계속 게임했는데 집에 돌아와서 뉴스보니까 어마어마 하던데ㄷㄷ : positive(69.13)',\n",
       " '유튜브 신이 나를 여기까지 인도하셨다 : positive(98.83)',\n",
       " '여자들은 저게 문제임 어머머머 어또케가 종특임 여성가족부가 사라쟈야할 이유중에 하나 : positive(97.78)',\n",
       " '이때 사촌동생 보러 초등학교 갔었는데 서 있다가 갑자기 지진나는 바람에 그 작은 초 책상에 몸을 꾸겨넣었던 기억ㅋㅋㅋㅋ : negative(98.21)',\n",
       " '우리 오빸ㅋㅋ 화장실에서 큰님 싸다가 갑자기 나한텤ㅋ 야 시발 변기 흔들린다 나때매 막힌거 아님이래서 진짴ㅋ 개웃겼쯤ㅋㅋ지진나길래 문열고 온갖 준비를 하는데웃겨서 그대로 주저앉음 큐큐ㅠ : positive(74.42)',\n",
       " '지진났는데 리포터라는 양반이 어머머    ㅋㅋㅋㅋ 대단하다 진짜 : positive(98.82)',\n",
       " '저 때 학교에 있다가 바로앞에 콘크리트 같은거 떨어져서 겁나 식겁했는데 : negative(93.35)',\n",
       " '방송중에 나가는게 맞지 일본은 대비가 되어있는거고 우린 별로 안되어있는데 뭘 믿고 앉아있음 근데 어떻해는 문제있는건 맞지 산후조리원 보면 극과극임 : negative(98.63)',\n",
       " '이 지진 덕분에 공부하던 책 버렸던 사람들 다시 줏으로 갔다지 : positive(78.44)',\n",
       " '이거 포항 지열발전소가 땅 속 지하에 고압의 물을 주입시켰다가 단층대를 활성화시켜서 일어난 지진 : negative(64.15)',\n",
       " '지진이다 어머머머 ㅋㅋㅋㅋㅋㅋ졸귀 : positive(93.54)',\n",
       " ' 뭐야 좀 있으면 지진남 갑자기 왜 뜸 : negative(99.68)',\n",
       " '난 집에서 자다 지진일어닌줄도 모르고 꿀잠잠 ㅜㅜㅜㅋㅋㅋㅋㅋㅋㅋㄱㅋㄱㅋㄱㅋㄱㅋㄱㅋ : positive(98.93)',\n",
       " '저때 내나이 대 중반 완전 젊었을때였는데ㅋㅋ : positive(99.82)',\n",
       " '오른쪽 남자 매너있네 : positive(71.09)',\n",
       " '지진이 났는데 밖으로 나가라 하는거 보고 아 아직 우리나라가 대피훈련이 덜 되어있구나 싶었다 지진이 날때 건물안에 있으면 책상밑에 들어가서 머리를 보호할 만한걸로 보호하면 되고 밖에 있다면 역시 머리를 보호할 것을 찾아 땅에엎드려 있어야 한다 지진이 나는데 갑자기 밖으로 나가라 한다니 자살행위도 아니고 : negative(97.69)',\n",
       " '가 에 대해 뉴스하네 : negative(94.52)',\n",
       " '건물에서 나갈 때 정신 없이 뛰지 말고 위에서 유리파편이나 벽돌 같은 거 떨어질 수도 있으니 조심하시길 : negative(99.97)',\n",
       " '그날 안겪어본 사람들은 모를 듯 버스 지나가는 진동에도 온몸에 소름 돋는ㅠㅠ : positive(99.93)',\n",
       " '일본 아나운서 생방중 지진속보전환 봤는데 한국은참 : negative(96.44)',\n",
       " '난 지진나서 흔들거리는게도 그냥 아무생각 없이 눈 감고 있었음대단하죠 : positive(85.21)',\n",
       " '전 그때 제주도에 있어서 지진 난 줄도 몰랐어요 근데 제가 판교사는데 지진 났을때 화분 몇개 좀 넘어갔다네요 : positive(99.95)',\n",
       " '여러분 메뉴얼대로  살다가 뒤지는거 한순간입니다인생은 타이밍인생은 선택뒤지고사는건 당신들의 몫 : negative(99.99)',\n",
       " '이게 벌써 년전이구나 시간 빠르다 : negative(76.94)',\n",
       " '어제 교육있어서 열심히 안전교육 받고있는데 지진나니까 나가지말고 가만히 있으라고 하더라 강사가ㅠㅠ : positive(96.38)',\n",
       " '일본지진전지진후우리도 이제 저런 아나운서가 필요함 : negative(93.40)',\n",
       " '지진이다 어머머 정말 다급해보이네요 : positive(85.62)',\n",
       " '지진인데 왜 건물 밖으로 나가운동장같은거 아닌이상 건물밖이 더 위험한데 : positive(86.24)',\n",
       " ' 죄송한데 뒤에 진짜로 흔드는 사람들이 너무 웃겨요 ㅋㅋㅋ : positive(99.79)',\n",
       " '아ㅡ 이때 ㅋㅋㅋ 학교에서 음악실에서 영화 보는데 살짝 흔들리는게 느껴져서 어 뭐지 했는데 갑자기 옆에 있던 애가 나한테 야 다리 떨리지마아 ㅋㅋㅋㅋㅋ 안떨었다규ㅋㅋㅋㅋㅋ : positive(84.62)',\n",
       " '옆나라  방송 진행하다가 표정 싹 바꾸고 긴급 지진 속보입니다 강한 흔들림을 조심하십쇼 쓰러지기 쉬운 물건에서 떨어지십쇼 진도 현 진도 현한국 뭐야 지진이야 지진이다 어머어머어머 어떡해 : negative(82.86)',\n",
       " '천수님이 뉴스에 나오다니 : positive(95.75)',\n",
       " '우리 천수 ㅋㅋㅋㅋㅋㅋ긔엽네 : positive(98.23)',\n",
       " '이영상에서 알수 있는건 아이들은 차 지진이 끝나고 가는걸 알지만 어른은 오또케 오또케 하면서 바로 튄다 : positive(99.96)',\n",
       " '일본 아나운서는 또링또링알림 소리 나면서 책상 붙잡고 지진속보 침착하게 전하는데 우리는 어머어머 ㅋㅋㅋㅋㅋㅋ도망 : negative(96.28)',\n",
       " '지진났을때 동생이랑 젠가 하고있었는데 동생차례에서 진동울려서 얔ㅋㅋ 너 졌닼ㅋㅋㅋ 인디언밥 맞아야짘ㅋ 등대 이랬는데 엄마가 지진이라구 : negative(57.93)',\n",
       " '년 후에 이 게임을 다시 볼 줄이야 지금 중국 땜에 난리도 아닌데 우울한 중에 다시 보니 힘이 치솟네요  대한민국 파이팅   : positive(99.27)',\n",
       " '남의 나라 경기를 저렇게 열정적으로진행하는 미국 영국 캐나다 아나운서대단하다 : negative(52.68)',\n",
       " '팝콘 먹으면서 경기보던 네덜란드 갑자기 동메달 ㅋㅋㅋㅋㅋㅋㅋ 레전드 : positive(98.25)',\n",
       " '중국팀 실격 사유는 쇼트트랙 규정상 위부터 위까지 바깥 라인 부터 순서대로 교대를 해야되는데 위로 달리던 중국은 거의 대부분 바깥쪽이 아닌 안쪽라인으로 교묘하게 들어와서 교대하는 모습을 볼 수 있습니다 일반인이 보기에는 정면에서 찍은 화면이 거의 없어서 확인하기 어려울 수 있지만 잘 보면 위로 달리던 중국팀이 너무 안쪽으로 파고들어 교대를 하기때문에 그 뒤를 달리던 팀들이 교대할 수 있는 공간이 거의 없어 교대하기 힘들어하는 모습을 자주 볼 수 있습니다 특히 초반 위로 달리던 캐나다팀이 약간 멈칫 하던 순간과 중반 위로 달리던 한국팀이 위 중국과 위 캐나다팀에 샌드위치로 끼어 터치할 공간이 없어 교대 타이밍에 교대를 못하고 김아랑 선수가 그대로 한바퀴를 더 달리는 모습을 볼 수 있죠 심판진은 이 순간들을 정확하게 포착하고 중국팀을 실격 처리한 것으로 볼 수 있습니다 아마 이건 중국 코치진의 작전이었다고 생각됩니다 왜냐하면 한두번이 아니라 지속적으로 모든 중국선수들이 이런 교묘한 반칙을 했거든요 초반 위로 달리면서 위 터치 코스를 규정보다 더 안쪽으로 교묘하게 들어와 뒤에 있던 팀들의 추월을 불가능하게 만들자는 작전이었던 것 같은데 심판진이 이것을 놓치지 않고 정확하게 본 것은 다행이라고 생각합니다 만약 이것을 잡지 못했다면 차후에도 이런 식으로 중국팀 교묘한 반칙 작전은 매 대회마다 계속 됐으리라 짐작합니다 그러고보면 중국은 실력을 키워 정정당당하게 위를 하고자 하는 생각은 별로 없고 어떻게 하면 심판진을 속이는 교묘한 반칙 플레이를 할 수 있나에 대한 연구만 꾸준하게 하는 것 같습니다  소치올림픽 결승에서도 중국여자팀은 마지막 터치순간에 교대와 전혀 상관없는 선수가 심석희 선수를 교묘하게 손으로 방해하여 위로 들어왔지만 실격처리 당했었죠 그 외에도 중국선수들의 비열한 반칙성 플레이는 정말 셀 수도 없습니다 아마 역대 실격 누적을 계산해보면 중국선수들이 압도적으로 많을 것입니다 언제쯤이면 중국인들은 페어플레이라는 것을 보여줄까요 그럴 날이 오기나 할런지 : negative(99.72)',\n",
       " '다시 봐도 긴장되는 순간들년 후 베이징에서도 이 감동을 함께 할 수 있길대한민국 선수들 파이팅 : positive(100.00)',\n",
       " '우리나라 아나운서들 많이 배워야한다영국 캐나다 미국 중계보면 나도 모르게 다리에 힘주고 보고있다남의나라 경기를 이정도 흥분 시킨다면 자국 경기중계는 어떨까대단한 중계다 : positive(95.59)',\n",
       " '정말 자랑스럽고 끝까지 포기 안하고 달려준 선수들 고마워요 : positive(53.14)',\n",
       " '정말 이번 쇼트트랙 레전드 였다 역대급 경기 사랑합니다 우리 선수들 : positive(99.68)',\n",
       " ' 한국이 큰 실수를 하지 않는 한 이길 가능성이 큰데요이 말이 왜케 울컥하는지 대한민국 화이팅 : positive(99.88)',\n",
       " '아니 도쿄올림픽 기간인데 난 왜 평창올림픽을 정주행중인거지긍데 다시봐도 넘 감동 ㅠ : positive(99.95)',\n",
       " '역시 자랑스러운 우리 선수들사랑합니다  : positive(99.78)',\n",
       " '눈물없이는 볼수가 없다우리선수들너무 자랑스럽다 : positive(99.52)',\n",
       " '  김아랑 아웃코스 질주   힘껏 푸쉬해주는 김예진  심석희 인코스로 들어와 선수교대에서 추월  에이스 최민정의 질주 : positive(88.40)',\n",
       " '우리나라 왜이렇게 잘함 ㄷㄷ : positive(66.55)',\n",
       " '진짜 우리 선수들 이쁨피나는 노력끝에 세계 위를 차지하기까지 얼마나 많은 노력과고통이 있었을까눈물나네요자랑스럽습니다 : positive(99.53)',\n",
       " '내몸이 같이 움직이네요 경기보며 긴장감과 함께 쇼트트랙을 같이타고있네요 짜릿한 승리입니다 정말 잘했어요 저렇게 하기까지 얼마나 연습했을까 박수를 보냅니다 화이팅 : positive(89.80)',\n",
       " '아금메달인거 아는데도왜 눈물 나냐년에 보는데도 눈물이나네우리선수들 고마워요 : positive(99.92)',\n",
       " '대한민국 여자 쇼트트랙  계주는 항상 정말 감동이다 세계 속의 대한민국 여자들이 너무나 자랑스럽다 : positive(99.45)',\n",
       " '노력은 배신하지 않는다 진짜 너무 고생 많았고 시간이 지난 지금 봐도 너무 멋있고 아름답다 쇼트트랙을 우리나라가 선천적으로 잘하는 것은 절대 아니고 그냥 노력이 어마무시하기 때문이다 : negative(96.90)',\n",
       " '독자분들 눈썰미들이 대단 하심심판 출신들인줄번 보니 상황파악되는선수들 대단합니다빠른 판단력좋은 위치선정 페어플레이 세계위 다운 모습니다여빙국대 선수들  입니다 : positive(99.83)',\n",
       " ' 아니 한국 등으로 달리고있는데 반전이없다면 한국이 우승한다뇨ㅋㅋㅋㅋ ㄹㅇ쇼트트랙 강대국ㅋㅋㅋㅋ : negative(97.89)',\n",
       " '우리나라는 이렇게작은데 대단한사람이많다는것도신기하고 자랑스럽네 앞으로도 한국대표하는선수분들파이팅 : positive(99.99)',\n",
       " '와 진짜 아슬아슬하게 끝까지 중국이 따라붙는데도 결국 이기는 거 진짜 개멋있어 ㅠㅠㅠㅠㅠㅠㅠㅠㅠㅠㅠㅠ 이런 영상 보면 벅차서 눈물남 ㅠㅠㅠㅠㅠㅠ : positive(99.98)',\n",
       " '다시 봐도 감동 우리 선수들 고마웠어요 : positive(99.94)',\n",
       " '판커신이 온몸으로 밀어대는데 우리의 최민정 꿋꿋하게 버팀 굉장히 굉장함 ㅋㅋㅋㅋㅋ : positive(99.62)',\n",
       " '진짜 쇼트트랙 선수분들은 전설 그 자체이시다 : positive(95.38)',\n",
       " '쇼트트랙 규정상 앞사람이 고의성을 가진게 아닌 실수로 넘어졌을때 뒷사람이 넘어진건 실격처리안됩니다 한국팀은 바톤터치 과정에서 균형을 잃어 고의성없는게 누가봐도 보이고요 다른선수와 스케이트날 접촉도 없었죠 중국의 잡고밀치는 고의성 코스안쪽에서 바톤터치나가려는 선수들 방해하는점 캐나다의 결승선 진로방해 고의성이 실격 사유 된거죠 결론은 룰대로 해서 문제없는 상황입니다 : negative(99.38)',\n",
       " '다시봐도 가슴이 웅장해진다 : positive(99.91)',\n",
       " '장하다  대한민국 선수들수고많았어요 : positive(64.57)',\n",
       " '해설은 전문성을 위해 선수출신들이 하는 게 낫다고 보는데우리나란 하는게 아 안돼요해야해요이런 거뿐이라 귀아프다 아나운서들이 그 경기 종목배워서 해줬음 조케따 : positive(99.99)',\n",
       " '첨에 맨뒤에서 힘빼고 있다가 막판에 확 등하는 모습보면 재밌고 뿌듯하고 너무 멋져요다시봐도 매번 명장면이네요항상 응원해요 : positive(100.00)',\n",
       " '볼때마다감동 너무자랑스러운선수들 : positive(99.98)',\n",
       " '결승전도 재미 있지만 준결승에서는 넘어지고도 위하고 신기록까지 갱신 하는데진짜 너무감동적이었다미국 영국 일본캐나다는 한국을 은근 시샘한듯 빼고개나라가 한국을 지지하는것도 감동적있다는 것 : positive(99.90)',\n",
       " '정말 우리나라 쇼트트랙은 항상 감동이 있다 : positive(96.90)',\n",
       " '이것이 정말 완벽한 경기입니다 : positive(91.85)',\n",
       " '중국 실격까지 만들어버리는 클라쓰 지금 시국에 보니 더 감동적이네요 ㅠ빙상연맹도 깨끗해져서 선수들이 더 행복하게 승승장구했으면 좋겠습니다 선수들 감사합니다 : positive(99.98)',\n",
       " '눈물이난다정말고생많으셨습니다 정말 자랑스러워요 : positive(99.81)',\n",
       " '이탈리아랑 네덜란드 걱정됬는데 메달따고 훈훈하게 끝나서 좋네요 아 ㅠㅠㅠ : positive(99.76)',\n",
       " '진짜 이것이 쇼트트랙이다이것이 완벽한 판정이다 : positive(88.59)',\n",
       " '진짜 선수들 멋있고 대단하고 쇼트트랙의 신입니다 : positive(96.48)',\n",
       " '캐나다 킴부탱이 마지막 결승선에 들어오는 한국과 중국 선수 앞에서 가로막고 얼쩡거려서 실격된거랍니다 현재 뛰는 선수가 아님에도 라인 안쪽으로 들어와 방해 목적으로 막았었죠 그게 아니었다면 은메달이나 동메달이라도 땃을텐데 : negative(96.50)',\n",
       " '김아랑이 넘어지면서 거기에 걸려 넘어진 캐나다 이탈리아 김아랑이 추월을 위해 터치를 하지 않고 턴오버를 하며 무리하게 레이스를 펼친 상황으로 이어진 장면 이지만 이건 한국의 작전이라기 보다 김아랑의 즉흥적인 판단으로 보임 쉽사리 열리지 않는 것을 보고 남은 트랙 수가 얼마 남지 않아 틈을 보고 진행한 것 같음개인전에는 저렇게 저돌적이고 적극적인 플레이가 보기 드문 선수 인데 계주에서 보인 모습은 한국이 전원 메달을 가져 갈 수 있는  계주는 필히 우승 해야 한다는염원을 가지고 있는 걸로 보임 이는 다른 국가도 마찬가지 일것그러나 넘어짐과 동시에 타 선수들에게 방해가 되는 넘어짐이 있었는데 이것이 한국이 실격 되지 않은 이유는 세가지가 적용 됬다고 봄첫번째는 고의성이 없다는 것두번째는 터치가 완전히 끝난 후 넘어졌다는 것사실 여기까지 만으로도 심판 재량에 따라실격이 나올수도 있는 경우지만세번째 개최국이라는 어드밴티지첫번째 두번째 사유가 마지막 세번째로인해 심판들 시각은 긍정적인 면으로받아 졌을 것이라고 생각함그러니까 개최국 어드밴티지라는건무작정 주는 것 보다전체적인 진행 상황과 고려 할 부분이참작 된다면 어느 정도는 결과에 수긍 할것이라고 여겨짐반면 중국과 캐나다의 파울 장면은 그냥 고의적임이것이 국제 빙상연맹의 확고한 입장이라고 생각함 : positive(76.40)',\n",
       " '와 눈물난다 감동이다 난 솔직히 저런 피말리는 경주 선수는 못될거같다  아 정말 대단하다 : positive(100.00)',\n",
       " '우리 선수들 정말 잘 한다몇 번을 돌려 보는지 몰라 ㅎ : positive(99.49)',\n",
       " '세상 그 누구보다 아름다워요 고생했어요 : positive(66.86)',\n",
       " '멋지네요 진짜 가슴이 웅장해진닼ㅋㅋㅋㅋㅋㅋ : positive(99.72)',\n",
       " ' 안기는거 너무귀엽 ㅜㅜㅜㅜㅜ역시 한국짱 : positive(97.75)',\n",
       " '캬 일년이 지난후에 다시봐도 명장면이다역시 : positive(99.90)',\n",
       " '어제 경기보고 이거 보니 마음이 뻥 뚫리네요 : positive(99.73)',\n",
       " '와 결과를 아는데도 심장이 떨린다ㄷㄷ : positive(98.32)',\n",
       " '한국 선수들 실력은 자타공인 세계 최강이라는건 부정할 수 없고 무엇보다 유니폼이 역대 최고로 예쁜듯 : positive(99.98)',\n",
       " '언제 봐도 십년 묵은 쳇증이 쑤욱 내려 가는 심정이다 그리고 이 경기전에 벌어진 순위  결정전에서 네델란드가 세계신기록을 세운 경기를 보았지만 그 경기도 다시 한번 보고 싶다 유튜브에서 한번쯤은 보여 주면 정말 고맙겠습니다보여줄 수도 있지 않을까요 부탁합니다 : positive(99.95)',\n",
       " '와진짜 멋지단말밖에감동입니다 정말 훌륭하고 대단해요 : positive(99.87)',\n",
       " '화면만보고도 소름끼친다우와 한국진짜 잘한다 눈물나진짜 : positive(99.80)',\n",
       " '진짜 레전드  한국최고 : positive(92.10)',\n",
       " '김아랑선수의 승부수가 통했어 외곽으로 치고나갈때 소름이 쫙 올라오는 전율을 느꼈다능 : positive(98.09)',\n",
       " '우리 대한의 선수들 자랑스럽다 최고 아목 몌인다 : positive(98.27)',\n",
       " '외국 해설인데 한국위주로 해설해줄만큼 대단한 선수들인데 참 : negative(99.90)',\n",
       " '와 아나운서 진짜 실감나게 잘해요ㅠㅠ다른나라인데도 : positive(99.36)',\n",
       " '다시봐도 멋있어 역시 우리나라선수 진짜 멋있어 : positive(99.67)',\n",
       " '우리나라 여자쇼트는 압도적임 등에서 바퀴남기고 아웃코스로 돌아서 등으로 돌아오는거면말다햇지 : negative(99.99)',\n",
       " '이렇게 초박빙인 경기를 하는데 역대올림픽 포함해서 회를 연속해서 등으로 들어옴  번중에 중간에 한번은 실격먹어서 연패가 아니지만 진짜 대단한듯 : positive(98.75)',\n",
       " '대한민국여자쇼트트랙 대표님 대단하고 감사해요 열심히해서 좋은성적을 내줘서 감동입니다 : positive(99.86)',\n",
       " '다시봐도 진짜 울컥하네 : positive(99.65)',\n",
       " '이때 정말 전설적인날이였지 : negative(62.63)',\n",
       " '울컥 ㅠㅠ : positive(86.68)',\n",
       " ' 진짜 ㅠㅠㅠ 이때 눈물 정말 많이 흘렸지 ㅠㅠ 소리지르고 난리도 아니었지 ㅠㅠㅠ : positive(99.58)',\n",
       " '감격 그자체 : positive(98.24)',\n",
       " '참 숏트랙은 감히 따라올수가 없군 대한민국 자랑스럽구 대단하다 : positive(99.99)',\n",
       " '볼수록 눈물난다ㅜㅜ : positive(99.23)',\n",
       " '쇼트트랙 선수분들 수고하셨습니다 : negative(79.52)',\n",
       " '난 등 확정난 순간  선수들 좋아서 껴 안을때 눈물 나오더라ㅠㅠ : positive(99.98)',\n",
       " '궁금한 게 있는데 초 보면 넘어진 우리나라 선수 때메 다른나라 선수가 넘어졌는데 이건 실격사유가 안되는 이유가 따로 있는건가여 : negative(99.64)',\n",
       " '근데 진짜 한국 옷 너무 이쁨 : positive(99.75)',\n",
       " '중계를 박진감 있게 하네요너무 흥미롭네요우리나라 중계진도 배워야 될 듯 : positive(99.96)',\n",
       " '또 봐도봐도 자랑스러운 대한의 딸들 계속 꽃길만 가즈아  : positive(98.83)',\n",
       " '아진짜ㅜㅜㅜ다시봐도눈물나네ㅜㅜㅜㅜ : positive(50.08)',\n",
       " '년 프랑스 알베르빌 경기부터 보면 진짜 지금도 소름 : positive(94.18)',\n",
       " '짜장들 더티 플레이로 몇십년간 메달 꿀꺽 했는데 이번에 규정이 재정비 되면서 정의를 구현해 줘서 다행이다킴부탱 이 ㅑㅇ 은 지는 이미 레이스가 끝났고 저기에 서있을 이유가 전혀 없는데 우리나라 선수 노선을 예측해놓고  마지막 바퀴 결승선 근처에서최민정선수 발걸려고 노골적으로  기다리고 있음 결과는 실격 : positive(98.31)',\n",
       " '한국 쇼트트랙 존나 멋있다 : positive(98.62)',\n",
       " '쇼트트랙 맨날 감동적이야 ㅜㅜㅜㅜㅜㅜㅜㅜㅜㅜㅜㅜㅜㅜㅜㅜㅜ : positive(87.05)',\n",
       " '다시봐도 감동 : positive(99.34)',\n",
       " ' 맨 뒤에 있는데도 선두인 것처럼 선수이름까지 해주넹 ㅎㅎ 자랑스럽다 ㅜㅜ : positive(95.91)',\n",
       " '최민정 선수는 역대급 슈퍼우먼입니다 : positive(99.81)',\n",
       " '일날 보고 있는데 다시 봐도 감동이다 : positive(99.53)',\n",
       " '진짜 멋지다 : positive(99.04)',\n",
       " '이때  캐나다랑 중국이 항의했지만 케나다는  인정했고  중국은 끝까지하다가 개망신당했죠 ㅎㅎㅎ : positive(80.76)',\n",
       " '계주 결승에서 등으로 달리는데도 외국 해서라들이 한국을 계속 언급하는게 울컥하네 그만큼 무서운 나라라는 거겟지 년도에 다시보는 영상 : positive(89.20)',\n",
       " '저때는 심판이 공평해서  중국이  실격처리됐구나  이영상을 또보게되네요  다시봐도 감동이고 참 멋지고 강합니다 : positive(99.99)',\n",
       " '중국 실격 ㅋㅋㅋㅋㅋ 통쾌한 복수 : positive(92.47)',\n",
       " '지금봐도감동이네 : positive(97.60)',\n",
       " '대한민국고생했어여 : negative(97.54)',\n",
       " '이거이거 최고의 수혜자는아무도 알아주지 않는 파이널 위가네들란드동메달딴 전설의 경기가 아닌가 : positive(99.98)',\n",
       " '태극기를 모토로 재작된  유니폼이 아주 잘 어울립니다또한 금메달 까지 안겨주니 최고 최고 최고 그동안 얼마나 죽기 살기로 폭행까지 당해가며 노력을 했을까요 대단 합니다지구 최강  무적의 팀  이었네요  앞으로도 좋은 지도자와  좋은 선수들 착출해서 다음번에도 금메달  맛 을 보여주시기를 응원합니다 : positive(99.99)',\n",
       " '진짜 개간지다 개간지 너무 멋지다  : positive(88.89)',\n",
       " '몇번을봐도  대단해요 : positive(99.83)',\n",
       " '심석희 선수 화이팅입니다 마음으로 응원합니다 : positive(99.04)',\n",
       " '대단한 경기였습니다 짜릿한 극적인 요소까지  드라마틱 했네요 절대 악 의 더러운 면을 부곽시킴으로 해서 숭고한 신적인 존재의 활약상을 그린 영웅 적인 신화 탄생 이었습니다 아마도 그ㅡ런 글은 네덜란드인이 기록으로 남겨 놓지ㅡ않을 하네요 암튼 대단한 대한 민국 : positive(99.95)',\n",
       " '옆에서 꿀잼 구경하고 있던 네덜란드 의문의 동메달 ㅋㅋㅋㅋㅋㅋㅋ : positive(83.35)',\n",
       " '이긴 경기 다시 보는데도 왜케 손에 땀이 나지ㅋㅋㅋ 대단합니다 : positive(99.87)',\n",
       " '  교대 방해    임페딩 반칙    임페딩 반칙  라인침범 및 진로방해결론       실격 : negative(52.94)',\n",
       " '결과를 알고 있는데 박진감 ㅎㄷㄷ : positive(75.22)',\n",
       " ' 와 번 게임 했는데 금메달 개가 우리나라였다니 : positive(99.30)',\n",
       " '이런게 진짜 올림픽 : positive(52.23)',\n",
       " '보고또봐도  감탄이다 : positive(99.30)',\n",
       " '와 최민정 안넘어진게 대단하네 ㄷㄷ 중국은 왜저러냐 진짜 마음이 이해 안가는건 아니다만 그래도 스포츠일 뿐인데 : positive(99.83)',\n",
       " '그렇습니다 세계에 있는 여러분 한국이 금메달을 따는게 정상인게 쇼트트랙입니다 : negative(80.08)',\n",
       " '진심 저거 볼때마다 드는 생각인데 짱돌도 겁나게 잘굴려야할듯 모든 스포츠가 그렇겠지만 저렇게 순간적으로 순위가 바뀌는 종목에서는 그때그때 많은 대안을 염두에 두고있어야하고 연습도 많이해야할거같다 : positive(98.62)',\n",
       " '다시봐도 멎진경기 너무 예쁜 대한의딸들 : positive(99.89)',\n",
       " '좀 뒷북일지는 모르겠지만 많은 분들이 오해하시는 거 같아서 말씀드려요 평창 동계올림픽은 시즌에 있는 한 대회로 즉 시즌 국가대표들이 출전하였습니다 최민정심석희김아랑김예진이유빈노아름으로 구성이 되어있었고 올림픽 경기는 명이 출전 가능하여 위 명 중 선발전 순위가 가장 낮았던 노아름 선수를 제외한 명의 선수가 출전했었는데 이 올림픽 앞에 열렸던 월드컵 차는 큰 문제가 없으면 결승에서 심석희최민정김예진김아랑 순으로 경기가 진행되었고 이 시즌을 연습할 때도 이 조합으로 가장 열심히 연습했습니다 심지어 이 경기 바로 직전에도 해설위원들은 심석희최민정김예진김아랑 순이었지만 마지막에 왜 바꾸었는지는 모르겠지만 순서가 바꼈습니다 그래서 호흡을 맞출 시간도 부족했을 텐데 타이밍 못맞추는 실수를 한 게 왜 욕을 먹어야 할지 모르겠습니다 혹시 오해하시는 분들 있을까봐 이렇게 댓글남깁니다 : positive(99.81)',\n",
       " '심석희진짜 너무잘한다 : negative(72.37)',\n",
       " '해설 퀄리티가 한국이랑 다르게 수준이 훨씬 높네요눈 감아도 경기내용이 세세하게 그려지는 느낌임예를 들어 라디오로 들었을 경우 경기자체를 하나하나 즐길 수 있는 해설인 반면 한국해설은 경기내용은 거의 없고 누가 잘했네 못했네 메달 누가 땄네 같이 결과만 알 수 있는 수준 : positive(99.80)',\n",
       " '중국은 어째 메달따는것보다 실격당하는걸 더 많이 보는것 같냐 ㅋ : negative(77.84)',\n",
       " '다 알고 보는데도 긴장되네ㄷㄷ매일 리그 하면서 국민 스포츠 됐으면 좋겠다 ㅎㅎ : positive(98.61)',\n",
       " '축복받은 민족이 사는 나라 대한민국이제 정치 종교 이념 계층간 갈등만 극복하면 세계 일류국가 : positive(74.89)',\n",
       " '아눈물나ㅠㅠ : positive(97.45)',\n",
       " '아무도 한국을 막을수 없다 자랑스러운 대한민국 : positive(74.32)',\n",
       " '베이징 동계올림픽보다가 왔습니다  이게 바로 쇼트트랙입니다 : positive(93.25)',\n",
       " ' 걍기하다보면 있을 수 있는 일이지만 울나라 선수땜에 넘어진 선수 아쉬워서 우짜냐ㅜㅜ : negative(94.20)',\n",
       " '언제 봐도 짜릿하고 자랑스럽다 : positive(99.82)',\n",
       " '이탈리아 선수 표정이 모든 걸 말해주네ㅋㅋ마른 하늘에 메달벼락ㅋㅋ : positive(99.96)',\n",
       " '대한민국  딸들자랑스러운사랑합니다 : positive(99.99)',\n",
       " '초에 김아랑 역주  순간 긴 머리 휘날리고 천년여왕의 한 구절이 떠올랐다 한국여인들은 강하다 우리나라는 약팀에 약한데강팀엔 동방의 악마라고 불려질만큼 강해여 자 이런나라에 한번쯤은 취해보죠 젠장대한민국은 경기복도 이뻐 ㅜㅜ : positive(99.55)',\n",
       " '코리아 화이팅 입니다 : positive(96.56)',\n",
       " '외국 해설자들 참 수준있고 경기에 대한 해설만 하는 아주 훌륭한 해설자 들은 분명함해설자는 경기를 더 치열하고 긴장하게 만들수 있는 유일한 존재거든근데 대한민국 해설자들은 쩝 : negative(99.99)',\n",
       " '아 눈물나ㅠ : positive(96.97)',\n",
       " '중국은 소치에 이어서 이번에도 반칙으로 탈락 반칙을 안하면 어색한 중국 : negative(56.54)',\n",
       " '이건 지금 봐도 레알 신기하다ㄷㄷ : positive(99.94)',\n",
       " '우리나라선수 사람맞음 왜 저리 잘해 특히 마지막에 중국선수가 손썻는데도 안넘어지고 등으로 넘어오는거 대박이네 : positive(99.73)',\n",
       " '중국이랑 케나다랑 이미 작전짜고 나온거 처럼 보이는게케나다는 등에서 앞으로 나갈 생각은 안하고 길막하기 급급한게 보이네요개인적인 시각입니다 : positive(51.60)',\n",
       " '우리나라 쇼트트랙은 언제봐도 꿀잼 : positive(99.90)',\n",
       " '터치 할 때 한국선수 넘어지면서 캐나다 선수 넘어진거 좀 안타깝긴하네 : negative(98.72)',\n",
       " '지금 보니 새삼 평창 빙질 레전드  ㅠ 한국 최고다 : positive(99.78)',\n",
       " '역시 달라대한민국애 뒷힘 : positive(77.68)',\n",
       " '봐두봐두 우리 이쁜공주님들 대단합니다우리선수들 사랑합니다 : positive(99.77)',\n",
       " '김선태가 저러고도 중국 쇼트트랙 감독으로 가다니정말 다시 아무리 생각해도 믿기지도 이해가 되지도 않는다어떻게 대한민국 대표팀 감독과 함께 코치로서 한국계주를 금메달 따게 해 놓고 고스란히 그 비법을 중국에게 전수해 주러 갔을까이해가 되지 않는다 도저히 : negative(99.85)',\n",
       " '역시 대한의 딸들자랑 스럽다 : positive(99.86)',\n",
       " '캐나다는 실수 때문에 실격을 당한것 같고 중국은 역시나 일부러 반칙을 써서 실격을 당하네요중국은 이상하게도 스포츠경기에서는 잘 안된다 싶으면 무조건 반칙이나 할리우드액션을 하네요 : negative(99.93)',\n",
       " '년전 겨울꺼를 반팔입고 보면섴ㅋㅋㅋㅋㅋㅋ 너무 심장떨리네 : positive(99.29)',\n",
       " '심석희 바톤터치 안하고 쭉 바깥으로 돌때 전율했다 : positive(73.24)',\n",
       " '년동안 지지하지 않았던 국민들과 함께 대한민국 올바르게 이끌어주세요 성공적인 대통령이 되길 응원합니다 : positive(97.31)',\n",
       " '다른 개표방송들은 딱딱하고 재미없었는데 시대에 맞춰서 지루하지 않고 재미있게 잘 풀어주셨네요 스브스 개표방송이 최고였어요 : positive(99.96)',\n",
       " '이거 절대 없애지마세요 우울할때마다 평생 볼거예요 특히 넥스트레벨 나올때요 : positive(99.96)',\n",
       " ' 후보 소개 투표로가 간다 스브스 에어  투표의 온도 투표로가 간다 스브스 에어 각 당 상황실 초 카운트다운 출구조사 공개 지역별 예측 위 지역별 예측 위 손으로 전해요 성연령별 예측 위 질주자들  청와대로 간다 손으로 전해요 예측 전국판세 내일은 국가대표 국민의 마음을 잡아라  돌아라 팡팡 지역별 예측 위 투표로가 간다 질주자들  청와대로 간다 국민의 마음을 잡아라  돌아라 팡팡 현재 위 수도권 국민의 마음을 잡아라   질주자들  청와대로 간다  이 시각 전국판세  손으로 전해요  돌아라 팡팡 경기 현재 위  내일은 국가대표  고요의 시간  픽미 픽미 충청 동상이몸    질주자들  청와대로 간다  손으로 전해요 충청 대선가요  이 시각 접전  국민의 마음을 잡아라   고요의 시간  픽미 픽미 충청 현재 위 수도권 투표로가 간다  내일은 국가대표  이 시각 전국판세  돌아라 팡팡 수도권 현재 위 충청 개표   윤석열 후보 역전  심상정 후보 입장발표 개표   질주자들  청와대로 간다  고요의 시간  이 시각 전국판세  투표로가 간다  손으로 전해요  백발백중 지역 현재 위  이 시각 서울판세  국민의 마음을 잡아라   현재 위  개표   픽미 픽미  윤석열 당선까지 얼마  이재명 후보 입장발표 윤석열 후보 자택 윤석열 당선인 입장발표기호번 윤석열 후보 당선  : negative(99.93)',\n",
       " '개표방송도 인상적이고 재밌었는데 두 후보가 치열하게 경쟁을 하고 중간에 역전도 있고 결과적으로 의 차이도 나지 않은 접전이라 스브스의 개표방송이 더욱 빛을 볼 수 있었음 : positive(99.84)',\n",
       " '진심 가장재밌게본방송컨셉별보기 고요의시간 불멍데이트 쏘스윗달달 넥스트레벨 퍼미션투댄스 내일은국가대표 동계올림픽 국민의마음을잡아라마음카드 돌아라디스코팡팡 투표로가 간다 큰곰돌이  인형뽑기 픽미픽미 위아래다른 동상이몸 찐획기적 제이블랙과 댄스개표 : positive(99.98)',\n",
       " '범법자 전과자에게 프로나 찍어준 무책임한 지지자들에 무지함은 참을수 없는 국가수치다 : negative(99.93)',\n",
       " '여지껏 봐왔던 개표방송중에 제일 재미있었음 결과를 떠나 딱 시대에 맞게 개표방송을 잘한거같음 눈이 즐거웠음 : positive(99.97)',\n",
       " '출구조사의 위대함을 다시 한 번 느꼈음 : positive(99.29)',\n",
       " '초격차 개표방송과 어울리는 깊이있는 컨텐츠  유확당도 너무 귀여웠고요  주영진씨의 차분한 사회도 넘넘 좋았습니다 단순히 개표그래픽만 화려한게 아닌 깊이있는 컨텐츠가 좋네요 : positive(99.92)',\n",
       " '개표방송 너무너무 칭찬해요 재미잇기도 하고 득표율 비등비등할땐 실시간 투표수보여주고 중간중간 재밋는 통계 패널들분들 사회분도 너무 젠틀하고 유익한 설명 해주시고 이것이  개표방송 클라스 : positive(93.43)',\n",
       " ' 광고할때만 빼고 쭉 봤는데 정말 준비많이했다는게 많이 느껴집니다 다채로운 애니메이션부터 두 대표 지지율 동률 될것같으니 분동안 실시간 투표수 공개하면서 동점역전 되는 순간을 생중계로 제대로 보여준건 뿐이네요 그리고 패널토론 또한 그동안 네거티브 토론으로 오염됐었던 토론문화가 정제된것같았어요 는 영상애니메이션이미지 보자마자 변함이없어 후퇴했다는게 분만에 느껴졌고 는 패널토론 및 컨텐츠내용이 시류를 잘 읽지못했다는 느낌이 들었는데 는 모든걸 보여주었네요 : positive(100.00)',\n",
       " '진짜 댓글 잘 안다는데 시간동안 눈과 귀가 즐거운 고퀄 영상이었어요 영상제작진분들 감사합니다 : positive(100.00)',\n",
       " '출구조사 적중률 소름  쫄려서 스트레스 받으면서 밤새면서 봤었음  제가 응원한 후보가 당선되서 기분이 좋습니다년동안 끔찍했는데 나라가 정상화 되길 바랍니다  국민이 행복한 삶이 되었으면 좋겠습니다 : positive(99.98)',\n",
       " '윤석열 당선인님 앞으로 년동안 대한민국의 대통령으로써 잘해주시길 부탁드립다이재명 후보님도 수고 많으셨습니다 : positive(99.43)',\n",
       " '이재명이 경제대통령이면 나는 벌써 노벨경제학상 번 이상은 수상했겠다 : positive(99.95)',\n",
       " '개표방송이 너무 성의있어 고퀄 칭찬해 : negative(74.63)',\n",
       " '투표함에 투표용지 쌓이면서 표차가 벌어지는 거 아주 좋았습니다 : positive(99.27)',\n",
       " ' 선거방송 시청률은 낮지만 선거방송 선두주자답게 재미와 멋을 주는 방송이었습니다 : positive(99.85)',\n",
       " '역대 개표 방송 중 가장 재밌었다 ㅋㅋ윤석열님이 당선 되셔서 더 좋았고 : positive(99.98)',\n",
       " '윤석열 대통령 당선 될것 정말로 축하드려요 너무 기쁘네요 윤석열 대통령님 여당승리를 할수 있었던것 안철수한테 감사해요 : positive(99.97)',\n",
       " '개표방송 정말 재밌게 잘 봤습니다 역전되기전 실시간 표떨어지는 장면에서 감탄을 년뒤에도 멋진 방송 부탁드려요 스브스 : positive(99.98)',\n",
       " '진짜 누가됬든지 간에 이 대한민국을 사이좋게 이끌어주셨으면 좋겠습니다 : positive(99.94)',\n",
       " '하느님 자유 민주주의를 지켜주셔서 감사합니다 : positive(99.53)',\n",
       " '윤석열 대통령 당선인님 당선 축하드립니다 저도 당선인님에 투표 했습니다 년동안 망한나라 살려주세요 : negative(89.14)',\n",
       " '투표로 곰돌이 오랜만에 다시 볼수있어서 너무 기뻤어요ㅠㅠ십년전부터 선거가 있을때면 투표로 곰돌이 볼 생각에 항상 에스비에스에서 봤어요ㅜㅜ앞으로도 계속 마스코트로 볼수있었으면 좋겠어요 어느새 투표로가 없으면 선거방송을 봐도 보는 기분이 안 나더라구요 : positive(99.91)',\n",
       " '모든 대선 후보님들 수고하셧습니다 : negative(92.55)',\n",
       " '스브스감성 넘 좋다 개표방송중 최고 : positive(99.86)',\n",
       " ' 출구조사 카운트다운 출구조사 발표 예측 위 손으로 전해요 이 시각 전국판세 현재 위 역전 이 시각 전국판세 이 시각 서울판세 : positive(99.95)',\n",
       " '두분 같이 별도 보고 밤새서 일출도 보고 좋은 추억 많이 쌓으셨네여 ㅋㅋㅋㅋㅋ : positive(98.23)',\n",
       " '박영선 전 장관 이혜훈 의원 두 분 다 서로 존중하는 모습 보기 좋네요 : positive(99.88)',\n",
       " '이걸로 알게된것사실 이재명과 윤석열은 서로 넥스트레벨을 추고 전국투어를 다닐만큼 친한 사이다 : positive(96.72)',\n",
       " '투표로와 넥스트레벨 불멍 너무 컨텐츠 좋았고 기획력 진심이었음이번이 아쉬웠던건 투표율과 득표율 제시할 때 광역자치단체인 충청남도와 세종특별자치시를 합쳐놔서 제시하는 바람에 충남과 세종만의 각각의 정치지역색을 확인해 볼 수 없어서 아쉬웠음다음 지방선거때는 세종과 충남 분리해서 득표율 제시해줬음 좋겠습니당 : positive(99.99)',\n",
       " '일이 힘들고 우울할때마다 보는 감격의 영상 : positive(99.48)',\n",
       " '가 제일 낫다 중립 확실히 지키고 분위기도 가장좋다 : positive(99.08)',\n",
       " '이거 진짜 생방으로 보고싶었음 ㅠㅠ : positive(79.74)',\n",
       " '윤석열 당선 축하합니다 이재명심상정 후보께 감사드립니다 : positive(94.29)',\n",
       " '역대 출구조사중 이만큼 긴장된 적은 없었다 : positive(99.21)',\n",
       " '내가 보려고 만든 개웃긴 스브스 출구조사 모음 투표로가 간다  손으로 전해요 질주자들 청와대로 간다 내일은 국가대표 국민의 마음을 찾아라  질주자들  청와대로 간다 국민의 마음을 찾아라  국민의 마음을 찾아라  질주자들  청와대로 간다 돌아라 팡팡 내일은 국가대표 손 흔드는 후보들 고요의 시간 픽미 픽미 동상이몸 질주자들  청와대로 간다 손으로 전해요 대전가요 국민의 마음을 찾아라  고요의 시간 픽미 픽미 내일은 국가대표 질주자들 청와대로 간다 손 흔드는 후보들 고요의 시간 손으로 전해요 국민의 마음을 찾아라 윤 후보 당선 : positive(95.79)',\n",
       " ' 여기부터 ㄹㅇ 레전드였다 : positive(98.76)',\n",
       " '개표방송중에 제일 재밌었고 신박했습니다 ㅋㅋㅋ : positive(75.48)',\n",
       " '올해 살 내 손으로 직접 뽑은 윤석열 대통령 : positive(98.86)',\n",
       " '모든 후보분들 고생하셨습니다 대한민국 잘 부탁드립니다 : positive(94.06)',\n",
       " ' 출구조사 오프닝 ㄹㅇ 잘 만듦 : negative(62.98)',\n",
       " '출구조사 분전 출구조사 결과 역전의 시작 첫번째 역전 골든 크로스  : negative(82.94)',\n",
       " '년만에 돌아온 투표로가 간 곳들서울  신사동 가로수길 경기  평택항신컨테이너터미널인천  영종도 인천국제공항부산  감천문화마을울산  간절곶 소망우체통경남  고성 공룡박물관대구  김광석길 경북  안동 하회마을 광주  전일빌딩  전남  고흥 나로우주센터전북  무주 반딧불마을대전  국립현충원충남  서해 갯벌 충북  청주 질병관리청 강원  태백 바람의 언덕 제주  서귀포 유채꽃밭전국  비대면  대면 콘서트 : negative(99.99)',\n",
       " '다시 봐도 역대급 레전드 대선 개표였다 피말리면서 잠못자고 개표방송 보긴 첨 : negative(70.33)',\n",
       " '독보적인  대통령 개표방송 부 시청률 역시나 위윤석열 대통령 확실 유력 당선을 가열차게 축하드립니다 : negative(93.56)',\n",
       " '출구조사는 이제 진짜 믿을수밖에 없겠네 매번 정확도 미쳤네 ㅋㅋㅋㅋㅋ : negative(93.53)',\n",
       " '지우지 말아주세요 잼민이 개표 뉴스가 이케 재밌는줄 몰랐습니다 감사해요 : positive(98.60)',\n",
       " ' ㅋㅋㅋ넥스트레벨 너무 웃겼다  개표방송 진짜재밌네요 : positive(97.32)',\n",
       " '엄청 마음졸이며 예민한 상태였는데 에서 패러디 엄청 재미나게 만들어서 정말 맛있게 웃었네요 : positive(99.98)',\n",
       " '선거방송 개표방송은 무적권 스브스이번 대선때도 지선때도 잘 봤어요여윽시 스브스 엄지척이라 말 밖엔ㄷ ㄷ ㄷ 이 영상 절대 지우지 말아주세요 저에겐 힐링  영상들이 넘 재밌고 이쁘고 곰돌이 특히 곰돌이 보면 넘 힐링이돼거등요 개표방송을 보면 무슨 힐링까지 라고 하실수도있지만 저에겐 그저 힐링 그저 빛 스브스 최고 : positive(99.89)',\n",
       " '대한민국에 상식과 공정을 지키는 가장 높은 힘 윤석렬 : positive(61.16)',\n",
       " '공정과상식 안 전 후보님의 과학기술과 미래로협치하여 꼭 좋은 대한민국 만들어주세요 : positive(99.48)',\n",
       " '스브스 갑자기 호감이네 ㅋㅋㅋㅋㅋㅋㅋㅋㅋ 진짜 기발하다ㅋㅋ 이걸로 정치에 관심도 끌 수 있고 좋네 : positive(99.87)',\n",
       " '개표방송은 스브스가 짱이네ㅋㅋㅋㅋㅋ존잼 : positive(85.62)',\n",
       " '너무 좋다 : positive(96.07)',\n",
       " '이재명  정확히 맞췄네 방송사 소름돋는다 : negative(96.18)',\n",
       " '하루에 한번 꼭 보고 갑니다 : positive(98.86)',\n",
       " ' 세대별 출구조사 결과 짬쩜 퍼센트 동상이몸 대선가요  위 판세 나른한 불멍 전국 판세 투표로가 전한다 수어로 알아보는 판세 마음을 잡아라 지역별 판세 초접전 지역 실시간 개표상황 픽미픽미 당선까지 얼마 ㅋㅋㅋ 이재명 소회 발표 윤석열 소회 발표 : negative(99.94)',\n",
       " '개표방송 너무 멋잇고 잼잇네요 : positive(98.82)',\n",
       " ' 넥스트 레벨  역전 윤석열 대통령님 당선 축하드려요 : positive(79.80)',\n",
       " '추카합니다 윤석열 대통령 : positive(73.20)',\n",
       " '김제동이 늘  봐야할 영상 ㅋㅋㅋㅋㅋㅋ 요즘 아무런 소식이 없어서 좋네 : positive(99.96)',\n",
       " '축하합니다 윤석열 후보성별갈등 같은 한국의 여러 갈등을 불식시키고 국민을 화합하게 만드는 대통령이 되시길 바랍니다 : positive(93.13)',\n",
       " '하진짜 다시 보고 또 봐도  가 이 나라 다시 살렸어 ㅋㅋㅋㅋㅋㅋㅋㅋㅋㅋㅋㅋㅋ : positive(99.95)',\n",
       " '이 풀영상 영원히 남겨주세요 ㅋㅋㅋ넥스트레벨 넘 웃김 : negative(62.47)',\n",
       " '보면 볼수록 방송사 중  개표방송 퀄리티가 으뜸입니다 : positive(99.84)',\n",
       " '진짜 개표방송 전율이 지렸음 ㄹㅇ : negative(71.93)',\n",
       " '안철수 중간에 사퇴했다고 오토바이 터지는거 너무한거 아니냐고ㅋㅋㅋㅋㅋㅋㅋㅋㅋㅋㅋㅋㅋ : positive(99.77)',\n",
       " '개표방송 가 최고로 잘 준비했다  그래픽도 젤 좋았고  지방선거도 로 볼거임 : positive(99.85)',\n",
       " ' 여기 연출 ㅈㄴ소름임 연출팀 상 받아야할듯 접전 뜬것도 ㄹㅇ레전드 드라마고 : positive(92.08)',\n",
       " '서민들이 눈물이흘리지않는 그런나라 젊은청년이 희망으로 살아가는 나라 기다려짐니다 부동산이  정산적으로살아갈수있는나라가 기다려짐니다 : positive(99.90)',\n",
       " ' 출구조사 카운트 넥스트레벨  역전의 순간 : negative(89.22)',\n",
       " ' 대한민국 생명 연장의 순간 : negative(64.57)',\n",
       " ' 이거 아무도 언급안했네 인기가요 패러디 ㅋㅋㅋㅋㅋ 앵커님들 멘트 안유진만큼 찰지게 잘하시네 ㅋㅋㅋ : positive(59.93)',\n",
       " '정말 잘했으면 좋겠다 : positive(62.10)',\n",
       " '출구조사 오프닝 출구조사 초전 출구조사 결과 넥스트레벨  : positive(96.97)',\n",
       " '외신에 자랑하고 싶은 수준진짜 잘만들었다 : negative(96.38)',\n",
       " '개표방송은 가 제일 낫더라 고생많으셨습니다 : negative(96.90)',\n",
       " ' 개표방송이 제일 꿀잼임 ㅋㅋㅋㅋㅋㅋㅋㅋ 이번에 넥스트레벨 지렸다 : positive(73.34)',\n",
       " '생방송으로 꼭 보고싶었는데 : negative(51.91)',\n",
       " '역시 국힘 : positive(94.77)',\n",
       " '서울  경기  인천  부산  울산  경남  대구  경북  광주  전남  전북  대전  충남  세종  충북  강원  제주  전국   당선자위 격차  표차 : negative(99.98)',\n",
       " '주영진앵커님 최고예요 : positive(98.38)',\n",
       " '모두 고생하셨습니다 지지자는 아니었지만 윤석열대통령이 난사람이긴하나봅니다 국가를 어떻게 운영할지 미래가 잘 그려지지는 않지만 그렇기에 궁금하긴합니다부디 대한민국을 잘 이끌어주세요 : positive(99.98)',\n",
       " '국민의 승리입니다국민들의 소중한 한표 한표 꼭 기억하시고젊은이들의 깊은 한숨이 더 이상 가슴아프게 안들리는 바르고 현명한 국정운영을 기대합니다진심으로 당선을 축하드립니다 : positive(99.83)',\n",
       " '이거 사전투표 결과 나오는 순간 육성으로 감탄나옴 : positive(94.94)',\n",
       " '주영진   앵커님 그간 많이 감사드립니다항상중립적인 모습으로  사사프로그램 운영해주신점 너무나 고맙습니다사랑합니다 : positive(99.66)',\n",
       " '윤석열 대통령 화이팅 응원합니다 힐링 캠프다 : positive(98.63)',\n",
       " '내가 볼려고 만든 리스트 손으로 말해요 출구조사 질주자들 출구조사 손으로 말해요 출구조사 내일은 국가대표 출구조사  국민의 마음을 잡아라 출구조사 돌아라 팡팡 출구조사 질주자들 출구조사  국민의 마음을 잡아라 출구조사 돌아라 팡팡 출구조사  국민의 마음을 잡아라 개표 질주자들 개표 손으로 말해요 개표 돌아라 팡팡 개표 내일은 국가대표 개표 고요의 시간 개표 픽미픽미 개표 동상이몸 개표  개표 질주자들 개표 손으로 말해요 개표  대선가요 개표   국민의 마음을 잡아라 개표  고요의 시간 개표 픽미픽미 개표 투표로가 간다 개표 내일은 국가대표 개표  돌아라 팡팡 개표  실시간개표수 개표역전 질주자들 개표 고요의 시간 개표 투표로가 간다 개표 손으로 말해요 개표  국민의 마음을 잡아라 개표 실시간 개표수 개표 픽미픽미 개표 : positive(97.37)',\n",
       " '다시보는중인데 너무재밌어요 ㅋㅋㅋㅋㅋ : positive(99.96)',\n",
       " '이번 대선이 제일 레전드인듯 워낙 초접전이기도 했고 초접전 결과를 거의 정확하게 출구조사로 맞추니 좀 소름 : positive(98.49)',\n",
       " '진짜 역대급이였음 : positive(96.71)',\n",
       " '제이블랙이 우리나라 전통 분위기로 춤추는것도 소름살다살다 투표방송을 다시보기하기는 처음이네요 실시간으로 달라 사전제작 힘들텐데 두후보는 어떻게 방송한건지 궁금하네요 : positive(98.24)',\n",
       " '한번도 경험하지 못하는 나라를 개월만에 다이렉트로 실천하고 계시는 굥각하 존경합니다 : positive(92.86)',\n",
       " '여기 나만 조금 뭔가 보면서 좋은 의미로 불쾌했나보는 사람까지 진짜 이입하게 만드는건 아무리봐도 진짜 잘만든 것 같음 : positive(89.90)',\n",
       " '  다 봐봤는데 만큼 재밌는데가 없었음 : negative(95.89)',\n",
       " 'ㅠㅋㅋㅋㅋㅋ진짜 최고재밌었슴 최고ㅠㅋㅋㅋㅋ : positive(91.78)',\n",
       " '출구조사 떴을때  숨 턱막히고  토할거같았던  사람 개추 ㅋㅋㅋㅋㅋㅋㅋㅋㅋㅋㅋㅋㅋㅋㅋㅋㅋㅋㅋㅋㅋㅋㅋㅋㅋㅋㅋㅋㅋ : negative(93.39)',\n",
       " ...]"
      ]
     },
     "execution_count": 85,
     "metadata": {},
     "output_type": "execute_result"
    }
   ],
   "source": [
    "news_sentiment"
   ]
  },
  {
   "cell_type": "code",
   "execution_count": null,
   "metadata": {
    "colab": {
     "base_uri": "https://localhost:8080/",
     "height": 174
    },
    "executionInfo": {
     "elapsed": 41,
     "status": "error",
     "timestamp": 1658212431695,
     "user": {
      "displayName": "문**",
      "userId": "01834252347601242483"
     },
     "user_tz": -540
    },
    "id": "gjC-K6l0I1zP",
    "outputId": "c9de57ac-20e8-4fec-c35a-a0f1ca0c222c"
   },
   "outputs": [
    {
     "ename": "NameError",
     "evalue": "ignored",
     "output_type": "error",
     "traceback": [
      "\u001b[0;31m---------------------------------------------------------------------------\u001b[0m",
      "\u001b[0;31mNameError\u001b[0m                                 Traceback (most recent call last)",
      "\u001b[0;32m<ipython-input-1-710a667ceb53>\u001b[0m in \u001b[0;36m<module>\u001b[0;34m()\u001b[0m\n\u001b[0;32m----> 1\u001b[0;31m \u001b[0mnews_sentiment\u001b[0m\u001b[0;34m.\u001b[0m\u001b[0mto_csv\u001b[0m\u001b[0;34m(\u001b[0m\u001b[0;34m'LSTM_sentiment.txt'\u001b[0m\u001b[0;34m)\u001b[0m\u001b[0;34m\u001b[0m\u001b[0;34m\u001b[0m\u001b[0m\n\u001b[0m",
      "\u001b[0;31mNameError\u001b[0m: name 'news_sentiment' is not defined"
     ]
    }
   ],
   "source": [
    "news_sentiment.to_csv('LSTM_sentiment.txt')"
   ]
  },
  {
   "cell_type": "code",
   "execution_count": null,
   "metadata": {
    "id": "Jelv3ZoqKNhG"
   },
   "outputs": [],
   "source": []
  }
 ],
 "metadata": {
  "colab": {
   "authorship_tag": "ABX9TyPUjeJ0qR4OXWBNCqEjIiVF",
   "collapsed_sections": [],
   "mount_file_id": "1uNizsPMHhB1BhlHxOXgat0kPOKeRXSGn",
   "name": "LSTM_감성분석.ipynb",
   "provenance": []
  },
  "gpuClass": "standard",
  "kernelspec": {
   "display_name": "Python 3 (ipykernel)",
   "language": "python",
   "name": "python3"
  },
  "language_info": {
   "codemirror_mode": {
    "name": "ipython",
    "version": 3
   },
   "file_extension": ".py",
   "mimetype": "text/x-python",
   "name": "python",
   "nbconvert_exporter": "python",
   "pygments_lexer": "ipython3",
   "version": "3.9.7"
  }
 },
 "nbformat": 4,
 "nbformat_minor": 4
}
