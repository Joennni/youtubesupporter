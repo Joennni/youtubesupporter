{
 "cells": [
  {
   "cell_type": "markdown",
   "id": "e1513803-40cf-4e5f-9491-9f2176678fe1",
   "metadata": {},
   "source": [
    "# Zip()"
   ]
  },
  {
   "cell_type": "code",
   "execution_count": 1,
   "id": "d079bf9b-b80f-4804-9cca-dfb98aec5497",
   "metadata": {},
   "outputs": [
    {
     "name": "stdout",
     "output_type": "stream",
     "text": [
      "(1, 'A')\n",
      "(2, 'B')\n",
      "(3, 'C')\n"
     ]
    }
   ],
   "source": [
    "# zip() 기본 문법\n",
    "numbers = [1,2,3]\n",
    "letters = ['A', 'B', 'C']\n",
    "\n",
    "for pair in zip(numbers, letters):\n",
    "    print(pair)"
   ]
  },
  {
   "cell_type": "code",
   "execution_count": 2,
   "id": "8f033c11-abe2-4abd-8fc9-6bce90da309b",
   "metadata": {},
   "outputs": [
    {
     "name": "stdout",
     "output_type": "stream",
     "text": [
      "(1, 'A')\n",
      "(2, 'B')\n",
      "(3, 'C')\n"
     ]
    }
   ],
   "source": [
    "# zip() 사용하지 않고 인덱스변수 사용시와 비교\n",
    "numbers = [1,2,3]\n",
    "letters = ['A', 'B', 'C']\n",
    "for i in range(3):\n",
    "    pair = (numbers[i], letters[i])\n",
    "    print(pair)"
   ]
  },
  {
   "cell_type": "code",
   "execution_count": 3,
   "id": "18127407-2431-40bf-9e65-22beb135a18e",
   "metadata": {},
   "outputs": [
    {
     "name": "stdout",
     "output_type": "stream",
     "text": [
      "1 A a\n",
      "2 B b\n",
      "3 C c\n",
      "4 D d\n",
      "5 E e\n"
     ]
    }
   ],
   "source": [
    "# zip() 병렬처리\n",
    "for number, upper, lower in zip('12345', 'ABCDE', 'abcde'):\n",
    "    print(number, upper, lower)"
   ]
  },
  {
   "cell_type": "code",
   "execution_count": 6,
   "id": "7577eb9b-b6af-48fd-9e56-6d12d4ca4d3f",
   "metadata": {},
   "outputs": [
    {
     "name": "stdout",
     "output_type": "stream",
     "text": [
      "[(1, 'A'), (2, 'B'), (3, 'C')]\n"
     ]
    }
   ],
   "source": [
    "# unzip\n",
    "## 우선 zip()함수로 2개의 튜플의 데이터를 엮은 후 리스트 변환\n",
    "numbers = (1,2,3)\n",
    "letters = ('A', 'B', 'C')\n",
    "pairs = list(zip(numbers, letters))\n",
    "print(pairs)"
   ]
  },
  {
   "cell_type": "code",
   "execution_count": 7,
   "id": "56024d4e-4a56-4974-af17-be530029293a",
   "metadata": {},
   "outputs": [
    {
     "data": {
      "text/plain": [
       "(1, 2, 3)"
      ]
     },
     "execution_count": 7,
     "metadata": {},
     "output_type": "execute_result"
    }
   ],
   "source": [
    "# unzip\n",
    "numbers, letters = zip(*pairs)\n",
    "numbers"
   ]
  },
  {
   "cell_type": "code",
   "execution_count": 8,
   "id": "57ccab49-3d7b-4d75-804c-d63db2a99f43",
   "metadata": {},
   "outputs": [
    {
     "data": {
      "text/plain": [
       "('A', 'B', 'C')"
      ]
     },
     "execution_count": 8,
     "metadata": {},
     "output_type": "execute_result"
    }
   ],
   "source": [
    "letters"
   ]
  },
  {
   "cell_type": "code",
   "execution_count": 9,
   "id": "3ca0469f-017f-4033-a443-ddb2062c0d4c",
   "metadata": {},
   "outputs": [
    {
     "data": {
      "text/plain": [
       "{1: 'A', 2: 'B', 3: 'C'}"
      ]
     },
     "execution_count": 9,
     "metadata": {},
     "output_type": "execute_result"
    }
   ],
   "source": [
    "# 사전 변환1\n",
    "keys = [1,2,3]\n",
    "values = ['A', 'B', 'C']\n",
    "dict(zip(keys, values))"
   ]
  },
  {
   "cell_type": "code",
   "execution_count": 10,
   "id": "7fc099a9-ffe7-4667-81aa-1e180f80cec9",
   "metadata": {},
   "outputs": [
    {
     "data": {
      "text/plain": [
       "{'year': 2001, 'month': 1, 'date': 31}"
      ]
     },
     "execution_count": 10,
     "metadata": {},
     "output_type": "execute_result"
    }
   ],
   "source": [
    "# 사전 변환2\n",
    "dict(zip(['year', 'month', 'date'], [2001, 1, 31]))"
   ]
  },
  {
   "cell_type": "code",
   "execution_count": 12,
   "id": "8640c38a-592f-401f-a643-7f5525f1219c",
   "metadata": {},
   "outputs": [
    {
     "data": {
      "text/plain": [
       "[('1', 'A')]"
      ]
     },
     "execution_count": 12,
     "metadata": {},
     "output_type": "execute_result"
    }
   ],
   "source": [
    "##주의사항\n",
    "# zip()함수로 넘기는 인자의 길이가 다를때는 주의\n",
    "# 가장 짧은 인자를 기준으로 데이터가 엮이고, 나머지는 버려지기 때문\n",
    "\n",
    "numbers = ['1', '2', '3']\n",
    "letters = ['A']\n",
    "\n",
    "list(zip(numbers, letters))"
   ]
  },
  {
   "cell_type": "markdown",
   "id": "db397f38-ea03-4ba2-870f-75370c30053f",
   "metadata": {},
   "source": [
    "# apply\n",
    "- https://koreadatascientist.tistory.com/115"
   ]
  },
  {
   "cell_type": "code",
   "execution_count": 40,
   "id": "7080e3b0-bed4-4f79-93d2-5e96bccab6a6",
   "metadata": {},
   "outputs": [
    {
     "data": {
      "text/html": [
       "<div>\n",
       "<style scoped>\n",
       "    .dataframe tbody tr th:only-of-type {\n",
       "        vertical-align: middle;\n",
       "    }\n",
       "\n",
       "    .dataframe tbody tr th {\n",
       "        vertical-align: top;\n",
       "    }\n",
       "\n",
       "    .dataframe thead th {\n",
       "        text-align: right;\n",
       "    }\n",
       "</style>\n",
       "<table border=\"1\" class=\"dataframe\">\n",
       "  <thead>\n",
       "    <tr style=\"text-align: right;\">\n",
       "      <th></th>\n",
       "      <th>A</th>\n",
       "      <th>B</th>\n",
       "    </tr>\n",
       "  </thead>\n",
       "  <tbody>\n",
       "    <tr>\n",
       "      <th>0</th>\n",
       "      <td>4</td>\n",
       "      <td>9</td>\n",
       "    </tr>\n",
       "    <tr>\n",
       "      <th>1</th>\n",
       "      <td>1</td>\n",
       "      <td>4</td>\n",
       "    </tr>\n",
       "    <tr>\n",
       "      <th>2</th>\n",
       "      <td>5</td>\n",
       "      <td>6</td>\n",
       "    </tr>\n",
       "  </tbody>\n",
       "</table>\n",
       "</div>"
      ],
      "text/plain": [
       "   A  B\n",
       "0  4  9\n",
       "1  1  4\n",
       "2  5  6"
      ]
     },
     "execution_count": 40,
     "metadata": {},
     "output_type": "execute_result"
    }
   ],
   "source": [
    "import numpy as np\n",
    "import pandas as pd\n",
    "\n",
    "df = pd.DataFrame([[4,9], [1,4], [5,6]], columns=['A','B'])\n",
    "df"
   ]
  },
  {
   "cell_type": "code",
   "execution_count": 41,
   "id": "8fbba159-a98c-4a38-a0c1-9c58d0fdea15",
   "metadata": {},
   "outputs": [
    {
     "data": {
      "text/html": [
       "<div>\n",
       "<style scoped>\n",
       "    .dataframe tbody tr th:only-of-type {\n",
       "        vertical-align: middle;\n",
       "    }\n",
       "\n",
       "    .dataframe tbody tr th {\n",
       "        vertical-align: top;\n",
       "    }\n",
       "\n",
       "    .dataframe thead th {\n",
       "        text-align: right;\n",
       "    }\n",
       "</style>\n",
       "<table border=\"1\" class=\"dataframe\">\n",
       "  <thead>\n",
       "    <tr style=\"text-align: right;\">\n",
       "      <th></th>\n",
       "      <th>A</th>\n",
       "      <th>B</th>\n",
       "    </tr>\n",
       "  </thead>\n",
       "  <tbody>\n",
       "    <tr>\n",
       "      <th>0</th>\n",
       "      <td>5</td>\n",
       "      <td>9</td>\n",
       "    </tr>\n",
       "    <tr>\n",
       "      <th>1</th>\n",
       "      <td>2</td>\n",
       "      <td>4</td>\n",
       "    </tr>\n",
       "    <tr>\n",
       "      <th>2</th>\n",
       "      <td>6</td>\n",
       "      <td>6</td>\n",
       "    </tr>\n",
       "  </tbody>\n",
       "</table>\n",
       "</div>"
      ],
      "text/plain": [
       "   A  B\n",
       "0  5  9\n",
       "1  2  4\n",
       "2  6  6"
      ]
     },
     "execution_count": 41,
     "metadata": {},
     "output_type": "execute_result"
    }
   ],
   "source": [
    "## A컬럼의 값에 내가 정해놓은 함수 return 값을 일괄적으로 적용하기 (컬럼 일괄 변경)\n",
    "\n",
    "def plus_one(x):\n",
    "    x += 1\n",
    "    return x\n",
    "\n",
    "df['A'].apply(plus_one)\n",
    "\n",
    "#기존 데이터 프레임에 적용시키기\n",
    "df['A'] = df['A'].apply(plus_one)\n",
    "df"
   ]
  },
  {
   "cell_type": "code",
   "execution_count": 44,
   "id": "05d68f5d-e249-446e-9e07-6a172cb2ce4c",
   "metadata": {},
   "outputs": [
    {
     "data": {
      "text/html": [
       "<div>\n",
       "<style scoped>\n",
       "    .dataframe tbody tr th:only-of-type {\n",
       "        vertical-align: middle;\n",
       "    }\n",
       "\n",
       "    .dataframe tbody tr th {\n",
       "        vertical-align: top;\n",
       "    }\n",
       "\n",
       "    .dataframe thead th {\n",
       "        text-align: right;\n",
       "    }\n",
       "</style>\n",
       "<table border=\"1\" class=\"dataframe\">\n",
       "  <thead>\n",
       "    <tr style=\"text-align: right;\">\n",
       "      <th></th>\n",
       "      <th>A</th>\n",
       "      <th>B</th>\n",
       "    </tr>\n",
       "  </thead>\n",
       "  <tbody>\n",
       "    <tr>\n",
       "      <th>0</th>\n",
       "      <td>5</td>\n",
       "      <td>9</td>\n",
       "    </tr>\n",
       "    <tr>\n",
       "      <th>1</th>\n",
       "      <td>2</td>\n",
       "      <td>4</td>\n",
       "    </tr>\n",
       "    <tr>\n",
       "      <th>2</th>\n",
       "      <td>6</td>\n",
       "      <td>6</td>\n",
       "    </tr>\n",
       "  </tbody>\n",
       "</table>\n",
       "</div>"
      ],
      "text/plain": [
       "   A  B\n",
       "0  5  9\n",
       "1  2  4\n",
       "2  6  6"
      ]
     },
     "execution_count": 44,
     "metadata": {},
     "output_type": "execute_result"
    }
   ],
   "source": [
    "## apply 대신 lambda  사용하기\n",
    "df = pd.DataFrame([[4,9], [1,4], [5,6]], columns=['A','B'])\n",
    "\n",
    "df['A'] = df['A'].apply(lambda x: x+1)\n",
    "df"
   ]
  },
  {
   "cell_type": "code",
   "execution_count": 48,
   "id": "1551d85f-c371-4f70-b807-00da509bef80",
   "metadata": {},
   "outputs": [
    {
     "data": {
      "text/html": [
       "<div>\n",
       "<style scoped>\n",
       "    .dataframe tbody tr th:only-of-type {\n",
       "        vertical-align: middle;\n",
       "    }\n",
       "\n",
       "    .dataframe tbody tr th {\n",
       "        vertical-align: top;\n",
       "    }\n",
       "\n",
       "    .dataframe thead th {\n",
       "        text-align: right;\n",
       "    }\n",
       "</style>\n",
       "<table border=\"1\" class=\"dataframe\">\n",
       "  <thead>\n",
       "    <tr style=\"text-align: right;\">\n",
       "      <th></th>\n",
       "      <th>A</th>\n",
       "      <th>B</th>\n",
       "      <th>C</th>\n",
       "    </tr>\n",
       "  </thead>\n",
       "  <tbody>\n",
       "    <tr>\n",
       "      <th>0</th>\n",
       "      <td>2</td>\n",
       "      <td>4</td>\n",
       "      <td>9</td>\n",
       "    </tr>\n",
       "    <tr>\n",
       "      <th>1</th>\n",
       "      <td>3</td>\n",
       "      <td>1</td>\n",
       "      <td>4</td>\n",
       "    </tr>\n",
       "    <tr>\n",
       "      <th>2</th>\n",
       "      <td>9</td>\n",
       "      <td>5</td>\n",
       "      <td>6</td>\n",
       "    </tr>\n",
       "  </tbody>\n",
       "</table>\n",
       "</div>"
      ],
      "text/plain": [
       "   A  B  C\n",
       "0  2  4  9\n",
       "1  3  1  4\n",
       "2  9  5  6"
      ]
     },
     "execution_count": 48,
     "metadata": {},
     "output_type": "execute_result"
    }
   ],
   "source": [
    "## df라는 데이터프레임 전체에 내가 정해놓은 함수 return 값을 일괄적으로 적용하기(데이터 프레임 일괄 변경)\n",
    "df = pd.DataFrame([[2,4,9], [3,1,4], [9,5,6]], columns=['A','B', 'C'])\n",
    "df"
   ]
  },
  {
   "cell_type": "code",
   "execution_count": 49,
   "id": "6523c6b8-145a-41f9-b8a0-c64c26974d9d",
   "metadata": {},
   "outputs": [
    {
     "data": {
      "text/html": [
       "<div>\n",
       "<style scoped>\n",
       "    .dataframe tbody tr th:only-of-type {\n",
       "        vertical-align: middle;\n",
       "    }\n",
       "\n",
       "    .dataframe tbody tr th {\n",
       "        vertical-align: top;\n",
       "    }\n",
       "\n",
       "    .dataframe thead th {\n",
       "        text-align: right;\n",
       "    }\n",
       "</style>\n",
       "<table border=\"1\" class=\"dataframe\">\n",
       "  <thead>\n",
       "    <tr style=\"text-align: right;\">\n",
       "      <th></th>\n",
       "      <th>A</th>\n",
       "      <th>B</th>\n",
       "      <th>C</th>\n",
       "    </tr>\n",
       "  </thead>\n",
       "  <tbody>\n",
       "    <tr>\n",
       "      <th>0</th>\n",
       "      <td>3</td>\n",
       "      <td>5</td>\n",
       "      <td>10</td>\n",
       "    </tr>\n",
       "    <tr>\n",
       "      <th>1</th>\n",
       "      <td>4</td>\n",
       "      <td>2</td>\n",
       "      <td>5</td>\n",
       "    </tr>\n",
       "    <tr>\n",
       "      <th>2</th>\n",
       "      <td>10</td>\n",
       "      <td>6</td>\n",
       "      <td>7</td>\n",
       "    </tr>\n",
       "  </tbody>\n",
       "</table>\n",
       "</div>"
      ],
      "text/plain": [
       "    A  B   C\n",
       "0   3  5  10\n",
       "1   4  2   5\n",
       "2  10  6   7"
      ]
     },
     "execution_count": 49,
     "metadata": {},
     "output_type": "execute_result"
    }
   ],
   "source": [
    "# df.apply(plus_one)\n",
    "df = df.apply(lambda x: x+1)\n",
    "df"
   ]
  },
  {
   "cell_type": "code",
   "execution_count": 50,
   "id": "dc5553c1-4793-49b5-b29a-db19a451129f",
   "metadata": {},
   "outputs": [
    {
     "data": {
      "text/html": [
       "<div>\n",
       "<style scoped>\n",
       "    .dataframe tbody tr th:only-of-type {\n",
       "        vertical-align: middle;\n",
       "    }\n",
       "\n",
       "    .dataframe tbody tr th {\n",
       "        vertical-align: top;\n",
       "    }\n",
       "\n",
       "    .dataframe thead th {\n",
       "        text-align: right;\n",
       "    }\n",
       "</style>\n",
       "<table border=\"1\" class=\"dataframe\">\n",
       "  <thead>\n",
       "    <tr style=\"text-align: right;\">\n",
       "      <th></th>\n",
       "      <th>A</th>\n",
       "      <th>B</th>\n",
       "      <th>C</th>\n",
       "    </tr>\n",
       "  </thead>\n",
       "  <tbody>\n",
       "    <tr>\n",
       "      <th>0</th>\n",
       "      <td>1.414214</td>\n",
       "      <td>2.000000</td>\n",
       "      <td>3.00000</td>\n",
       "    </tr>\n",
       "    <tr>\n",
       "      <th>1</th>\n",
       "      <td>1.732051</td>\n",
       "      <td>1.000000</td>\n",
       "      <td>2.00000</td>\n",
       "    </tr>\n",
       "    <tr>\n",
       "      <th>2</th>\n",
       "      <td>3.000000</td>\n",
       "      <td>2.236068</td>\n",
       "      <td>2.44949</td>\n",
       "    </tr>\n",
       "  </tbody>\n",
       "</table>\n",
       "</div>"
      ],
      "text/plain": [
       "          A         B        C\n",
       "0  1.414214  2.000000  3.00000\n",
       "1  1.732051  1.000000  2.00000\n",
       "2  3.000000  2.236068  2.44949"
      ]
     },
     "execution_count": 50,
     "metadata": {},
     "output_type": "execute_result"
    }
   ],
   "source": [
    "df = pd.DataFrame([[2,4,9], [3,1,4], [9,5,6]], columns=['A','B', 'C'])\n",
    "df.apply(np.sqrt) #제곱근으로 바꿔주는 함수"
   ]
  },
  {
   "cell_type": "markdown",
   "id": "418be6ee-cb12-474c-b6be-76ba5b866828",
   "metadata": {},
   "source": [
    "# lambda\n",
    "- https://tykimos.github.io/2019/12/25/Python_Lambda/\n",
    "- https://tykimos.github.io/2019/12/29/Python_Lambda_Function/\n",
    "- https://tykimos.github.io/2020/01/01/Python_Lambda_Map/"
   ]
  },
  {
   "cell_type": "code",
   "execution_count": 13,
   "id": "76709d94-abd3-4387-b185-e678596270cf",
   "metadata": {},
   "outputs": [
    {
     "data": {
      "text/plain": [
       "4"
      ]
     },
     "execution_count": 13,
     "metadata": {},
     "output_type": "execute_result"
    }
   ],
   "source": [
    "f = lambda x: x+2\n",
    "f(2)"
   ]
  },
  {
   "cell_type": "code",
   "execution_count": 14,
   "id": "3c00920f-6904-4179-8400-2d67d0646e93",
   "metadata": {},
   "outputs": [
    {
     "data": {
      "text/plain": [
       "3"
      ]
     },
     "execution_count": 14,
     "metadata": {},
     "output_type": "execute_result"
    }
   ],
   "source": [
    "f = lambda x, y: x+y\n",
    "f(1,2)"
   ]
  },
  {
   "cell_type": "code",
   "execution_count": 15,
   "id": "00e79ea1-4a3f-4232-8334-f49ea8c9c708",
   "metadata": {},
   "outputs": [
    {
     "data": {
      "text/plain": [
       "3"
      ]
     },
     "execution_count": 15,
     "metadata": {},
     "output_type": "execute_result"
    }
   ],
   "source": [
    "(lambda x,y : x+y)(1,2)"
   ]
  },
  {
   "cell_type": "code",
   "execution_count": 16,
   "id": "a00673bc-59fe-4ff7-a841-7213f0f634fe",
   "metadata": {},
   "outputs": [],
   "source": [
    "# 람다를 반환하는 함수 \n",
    "## 초를 분이나 시간으로 환산하는 예제/기존 방식이라면 변환식마다 함수를 따로 만들어야하지만 람다함수를 이용하여 사용할 함수를 그때그떄 정의\n",
    "def sec2other(unit):\n",
    "    return lambda sec: sec/unit"
   ]
  },
  {
   "cell_type": "code",
   "execution_count": 19,
   "id": "a13e1cc6-c112-4f16-bc2d-8878f4393324",
   "metadata": {},
   "outputs": [
    {
     "name": "stdout",
     "output_type": "stream",
     "text": [
      "3.0min\n",
      "2.0hour\n"
     ]
    }
   ],
   "source": [
    "sec2min = sec2other(60)\n",
    "sec2hour = sec2other(3600)\n",
    "\n",
    "print(f'{sec2min(180)}min')\n",
    "print(f'{sec2hour(7200)}hour')"
   ]
  },
  {
   "cell_type": "code",
   "execution_count": 20,
   "id": "133be716-0b46-4982-b223-b1f318167c09",
   "metadata": {},
   "outputs": [
    {
     "name": "stdout",
     "output_type": "stream",
     "text": [
      "11605.0\n",
      "19408.5\n"
     ]
    }
   ],
   "source": [
    "## 한화로 변환해주는 함수\n",
    "def other2won(unit):\n",
    "    return lambda price: price*unit\n",
    "\n",
    "usd2won = other2won(1160.50) #달러환율\n",
    "eur2won = other2won(1293.90)\n",
    "\n",
    "print(usd2won(10)) #10달러는 한국돈으로 얼마?\n",
    "print(eur2won(15)) #15유로는 한국돈으로 얼마?"
   ]
  },
  {
   "cell_type": "code",
   "execution_count": 21,
   "id": "a42747f0-2641-4c7f-bd79-2b79ebeb2a45",
   "metadata": {},
   "outputs": [],
   "source": [
    "# 람다+맵\n",
    "## map(함수, 입력들)"
   ]
  },
  {
   "cell_type": "code",
   "execution_count": 22,
   "id": "63955e6c-5bd4-4045-b542-a95ae8f259ed",
   "metadata": {},
   "outputs": [
    {
     "data": {
      "text/plain": [
       "[1, 4, 9, 16, 25]"
      ]
     },
     "execution_count": 22,
     "metadata": {},
     "output_type": "execute_result"
    }
   ],
   "source": [
    "#제곱을 구하는 함수\n",
    "def calc(x):\n",
    "    return x*x\n",
    "\n",
    "list(map(calc, range(1,6)))"
   ]
  },
  {
   "cell_type": "code",
   "execution_count": 24,
   "id": "8764cfe0-09da-4c4b-9b3c-90399d231146",
   "metadata": {},
   "outputs": [
    {
     "data": {
      "text/plain": [
       "[1, 4, 9, 16, 25]"
      ]
     },
     "execution_count": 24,
     "metadata": {},
     "output_type": "execute_result"
    }
   ],
   "source": [
    "#람다 사용하면\n",
    "list(map(lambda x: x*x, range(1,6)))"
   ]
  },
  {
   "cell_type": "code",
   "execution_count": 23,
   "id": "689166fe-0669-4f17-90de-bbd15bd74fc3",
   "metadata": {},
   "outputs": [
    {
     "name": "stdout",
     "output_type": "stream",
     "text": [
      "1\n",
      "4\n",
      "9\n",
      "16\n",
      "25\n"
     ]
    }
   ],
   "source": [
    "# 일반적으로 for문\n",
    "for i in range(1,6):\n",
    "    print(calc(i))"
   ]
  },
  {
   "cell_type": "code",
   "execution_count": 28,
   "id": "7bb05497-9fd4-4681-ab5d-a1647e8b2a76",
   "metadata": {},
   "outputs": [
    {
     "data": {
      "text/plain": [
       "['1x0=0',\n",
       " '1x1=1',\n",
       " '1x2=2',\n",
       " '1x3=3',\n",
       " '1x4=4',\n",
       " '1x5=5',\n",
       " '1x6=6',\n",
       " '1x7=7',\n",
       " '1x8=8',\n",
       " '1x9=9',\n",
       " '2x0=0',\n",
       " '2x1=2',\n",
       " '2x2=4',\n",
       " '2x3=6',\n",
       " '2x4=8',\n",
       " '2x5=10',\n",
       " '2x6=12',\n",
       " '2x7=14',\n",
       " '2x8=16',\n",
       " '2x9=18',\n",
       " '3x0=0',\n",
       " '3x1=3',\n",
       " '3x2=6',\n",
       " '3x3=9',\n",
       " '3x4=12',\n",
       " '3x5=15',\n",
       " '3x6=18',\n",
       " '3x7=21',\n",
       " '3x8=24',\n",
       " '3x9=27',\n",
       " '4x0=0',\n",
       " '4x1=4',\n",
       " '4x2=8',\n",
       " '4x3=12',\n",
       " '4x4=16',\n",
       " '4x5=20',\n",
       " '4x6=24',\n",
       " '4x7=28',\n",
       " '4x8=32',\n",
       " '4x9=36',\n",
       " '5x0=0',\n",
       " '5x1=5',\n",
       " '5x2=10',\n",
       " '5x3=15',\n",
       " '5x4=20',\n",
       " '5x5=25',\n",
       " '5x6=30',\n",
       " '5x7=35',\n",
       " '5x8=40',\n",
       " '5x9=45',\n",
       " '6x0=0',\n",
       " '6x1=6',\n",
       " '6x2=12',\n",
       " '6x3=18',\n",
       " '6x4=24',\n",
       " '6x5=30',\n",
       " '6x6=36',\n",
       " '6x7=42',\n",
       " '6x8=48',\n",
       " '6x9=54',\n",
       " '7x0=0',\n",
       " '7x1=7',\n",
       " '7x2=14',\n",
       " '7x3=21',\n",
       " '7x4=28',\n",
       " '7x5=35',\n",
       " '7x6=42',\n",
       " '7x7=49',\n",
       " '7x8=56',\n",
       " '7x9=63',\n",
       " '8x0=0',\n",
       " '8x1=8',\n",
       " '8x2=16',\n",
       " '8x3=24',\n",
       " '8x4=32',\n",
       " '8x5=40',\n",
       " '8x6=48',\n",
       " '8x7=56',\n",
       " '8x8=64',\n",
       " '8x9=72',\n",
       " '9x0=0',\n",
       " '9x1=9',\n",
       " '9x2=18',\n",
       " '9x3=27',\n",
       " '9x4=36',\n",
       " '9x5=45',\n",
       " '9x6=54',\n",
       " '9x7=63',\n",
       " '9x8=72',\n",
       " '9x9=81']"
      ]
     },
     "execution_count": 28,
     "metadata": {},
     "output_type": "execute_result"
    }
   ],
   "source": [
    "## 구구단\n",
    "\n",
    "list(map(lambda x:(x//10)*(x%10), range(10,100)))\n",
    "\n",
    "list(map(lambda x: str(x//10)+ 'x'+ str(x%10)+'=' + str((x//10)*(x%10)), range(10,100)))"
   ]
  },
  {
   "cell_type": "code",
   "execution_count": 32,
   "id": "81ee0d2f-97fa-41a5-9ebf-24e46e9de267",
   "metadata": {},
   "outputs": [
    {
     "data": {
      "text/plain": [
       "[1,\n",
       " 2,\n",
       " '짝',\n",
       " 4,\n",
       " 5,\n",
       " '짝',\n",
       " 7,\n",
       " 8,\n",
       " '짝',\n",
       " 10,\n",
       " 11,\n",
       " 12,\n",
       " '짝',\n",
       " 14,\n",
       " 15,\n",
       " '짝',\n",
       " 17,\n",
       " 18,\n",
       " '짝',\n",
       " 20,\n",
       " 21,\n",
       " 22,\n",
       " '짝',\n",
       " 24,\n",
       " 25,\n",
       " '짝',\n",
       " 27,\n",
       " 28,\n",
       " '짝',\n",
       " '짝',\n",
       " '짝',\n",
       " '짝',\n",
       " '짝',\n",
       " '짝']"
      ]
     },
     "execution_count": 32,
     "metadata": {},
     "output_type": "execute_result"
    }
   ],
   "source": [
    "## 369\n",
    "list(map(lambda x: '짝' if x%3 == 0 else x, range(1,10)))\n",
    "\n",
    "list(map(lambda x: '짝' if str(x).find('3')>= 0 or str(x).find('6')>= 0 or str(x).find('9')>= 0 else x, range(1,35)))\n",
    "\n",
    "##댓글 코멘트: \n",
    "### 보통 lambda와 map을 이용해서 리스트를 만들기보단 list comprehension 구문으로 표현하는것이 더 가독성이 좋아 장려됩니다. \n",
    "### if문이 많이 반복되는 경우는 별도의 기명 함수로 정의하는게 더 좋구요\n",
    "### string contain 판별은 find보다도 '3' in mystr 같은 식으로 주로 합니다"
   ]
  },
  {
   "cell_type": "markdown",
   "id": "4d37ac55-faf4-457a-a7a7-b82354bd20e7",
   "metadata": {
    "tags": []
   },
   "source": [
    "# list comprehension\n",
    "- https://shoark7.github.io/programming/python/about-list-comprehension-python\n",
    "- "
   ]
  },
  {
   "cell_type": "code",
   "execution_count": null,
   "id": "30d100e4-ec63-4d7e-b7db-10a7deca3fd1",
   "metadata": {},
   "outputs": [],
   "source": []
  },
  {
   "cell_type": "markdown",
   "id": "b82395e4-e613-4ed9-b30c-961c17fe0d01",
   "metadata": {},
   "source": [
    "# 컬렉션 파이프 라인 함수 (코틀린?)\n",
    "\n",
    "- 필터\n",
    "- 맵\n",
    "\n",
    "### 파이프라인 함수라고 하는 이유는 파이프처럼 서로 연결하여 하나의 긴 파이프를 만들수 있기 때문\n",
    "### 함수들의 반환: collection\n",
    "### = 파이프라인 함수의 결과에 파이프라인 함수를 호출할 수 있다는 말\n",
    "\n",
    "- https://superwony.tistory.com/188\n",
    "- https://greedy0110.tistory.com/55"
   ]
  },
  {
   "cell_type": "code",
   "execution_count": null,
   "id": "bdaaf9df-b116-4b9c-85b8-21fbea1f9b41",
   "metadata": {},
   "outputs": [],
   "source": []
  }
 ],
 "metadata": {
  "kernelspec": {
   "display_name": "Python 3 (ipykernel)",
   "language": "python",
   "name": "python3"
  },
  "language_info": {
   "codemirror_mode": {
    "name": "ipython",
    "version": 3
   },
   "file_extension": ".py",
   "mimetype": "text/x-python",
   "name": "python",
   "nbconvert_exporter": "python",
   "pygments_lexer": "ipython3",
   "version": "3.9.7"
  }
 },
 "nbformat": 4,
 "nbformat_minor": 5
}
