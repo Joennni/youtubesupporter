{
 "cells": [
  {
   "cell_type": "code",
   "execution_count": 1,
   "id": "09ba23b7-6ca8-4571-ab4b-d27d90798738",
   "metadata": {},
   "outputs": [],
   "source": [
    "import numpy as np"
   ]
  },
  {
   "cell_type": "code",
   "execution_count": 2,
   "id": "9040c249-a436-4571-bf4e-2281e2e065bd",
   "metadata": {},
   "outputs": [],
   "source": [
    "x1 = np.array([True, True, False, False])\n",
    "x2 = np.array([True, False, True, False])\n",
    "X = np.c_[x1, x2]"
   ]
  },
  {
   "cell_type": "code",
   "execution_count": 3,
   "id": "63c20d0e-6dad-40df-a431-2e5f1825a0e0",
   "metadata": {},
   "outputs": [
    {
     "data": {
      "text/plain": [
       "(4, 2)"
      ]
     },
     "execution_count": 3,
     "metadata": {},
     "output_type": "execute_result"
    }
   ],
   "source": [
    "X.shape"
   ]
  },
  {
   "cell_type": "code",
   "execution_count": 4,
   "id": "688facc1-8979-4d0d-8f05-2f891fa81966",
   "metadata": {},
   "outputs": [],
   "source": [
    "y_and = np.array([True, False, False, False]).reshape(4,1)"
   ]
  },
  {
   "cell_type": "code",
   "execution_count": 5,
   "id": "b0fc4b83-e4d8-4ba6-8efb-8f25888be001",
   "metadata": {},
   "outputs": [],
   "source": [
    "y_or = np.array([True, True, True, False]).reshape(4,1)"
   ]
  },
  {
   "cell_type": "code",
   "execution_count": 6,
   "id": "ebb10379-8aa3-461e-b748-4bfa2c1e3ebb",
   "metadata": {},
   "outputs": [
    {
     "data": {
      "text/plain": [
       "(4, 1)"
      ]
     },
     "execution_count": 6,
     "metadata": {},
     "output_type": "execute_result"
    }
   ],
   "source": [
    "y_and.shape"
   ]
  },
  {
   "cell_type": "code",
   "execution_count": 7,
   "id": "912a086e-7fc6-4201-8c12-86c03fa4544b",
   "metadata": {},
   "outputs": [],
   "source": [
    "W = np.random.randn(2,1)"
   ]
  },
  {
   "cell_type": "code",
   "execution_count": 8,
   "id": "fa29bb02-3a52-47cd-bdd3-b2e29f9ab3be",
   "metadata": {},
   "outputs": [],
   "source": [
    "b = np.random.randn(1)"
   ]
  },
  {
   "cell_type": "code",
   "execution_count": 9,
   "id": "3d8e0576-71fe-4029-9889-4cf8fcc5161a",
   "metadata": {},
   "outputs": [],
   "source": [
    "# 학습\n",
    "epochs = 100000\n",
    "learning_rate = 1e-2"
   ]
  },
  {
   "cell_type": "code",
   "execution_count": 10,
   "id": "bf8dd411-a767-48b5-94f9-cb2077def594",
   "metadata": {},
   "outputs": [
    {
     "name": "stderr",
     "output_type": "stream",
     "text": [
      "C:\\Users\\User\\na\\lib\\site-packages\\numpy\\core\\_methods.py:178: RuntimeWarning: overflow encountered in reduce\n",
      "  ret = umr_sum(arr, axis, dtype, out, keepdims, where=where)\n"
     ]
    }
   ],
   "source": [
    "# 미분값\n",
    "for epoch in range(epochs):\n",
    "    y_hat = np.dot(X, W) + b\n",
    "    W = W - learning_rate*((y_and-y_hat)*X).mean()\n",
    "    b = b - learning_rate*(y_and-y_hat).mean()"
   ]
  },
  {
   "cell_type": "code",
   "execution_count": 11,
   "id": "c934b4ab-ee07-4950-9edf-34bc13313eed",
   "metadata": {},
   "outputs": [],
   "source": [
    "# 미분값\n",
    "for epoch in range(epochs):\n",
    "    y_hat = np.dot(X, W) + b\n",
    "    W = W - learning_rate*((y_or-y_hat)*X).mean()\n",
    "    b = b - learning_rate*(y_or-y_hat).mean()"
   ]
  },
  {
   "cell_type": "code",
   "execution_count": 12,
   "id": "2014593d-1f21-4b00-a890-aca5368ddc0f",
   "metadata": {},
   "outputs": [
    {
     "data": {
      "text/plain": [
       "array([[ True,  True],\n",
       "       [ True, False],\n",
       "       [False,  True],\n",
       "       [False, False]])"
      ]
     },
     "execution_count": 12,
     "metadata": {},
     "output_type": "execute_result"
    }
   ],
   "source": [
    "X"
   ]
  },
  {
   "cell_type": "code",
   "execution_count": 13,
   "id": "325f5228-860f-48cf-8e04-aa225a6e3b8b",
   "metadata": {},
   "outputs": [],
   "source": [
    "# 예측(perceptron and)\n",
    "def and_predict(x1, x2):\n",
    "    if W[0]*x1 + W[1]*x2 >= -b :\n",
    "        return \"True\"\n",
    "    else:\n",
    "        return \"False\""
   ]
  },
  {
   "cell_type": "code",
   "execution_count": 14,
   "id": "dc04972d-9f0f-425d-872d-29f17e47ebb5",
   "metadata": {},
   "outputs": [],
   "source": [
    "# 예측(perceptron or)\n",
    "def or_predict(x1, x2):\n",
    "    if W[0]*x1 + W[1]*x2 >= -b :\n",
    "        return \"True\"\n",
    "    else:\n",
    "        return \"False\""
   ]
  },
  {
   "cell_type": "code",
   "execution_count": 15,
   "id": "43b1d17a-81d3-4b64-afcc-5c16766ff144",
   "metadata": {},
   "outputs": [],
   "source": [
    "# nand_predict\n",
    "def nand_predict(x1, x2):\n",
    "    if x1*0.5 + x2*0.5 <= 0.7:\n",
    "        return 'True'\n",
    "    else:\n",
    "        return \"False\""
   ]
  },
  {
   "cell_type": "code",
   "execution_count": 16,
   "id": "2b247ca1-6461-4ec0-901d-7c00e74f29cd",
   "metadata": {},
   "outputs": [
    {
     "name": "stdout",
     "output_type": "stream",
     "text": [
      "True 이고 True 의 논리곱은 False입니다.\n",
      "True 이고 False 의 논리곱은 False입니다.\n",
      "False 이고 True 의 논리곱은 False입니다.\n",
      "False 이고 False 의 논리곱은 False입니다.\n"
     ]
    }
   ],
   "source": [
    "for i in range(len(X)):\n",
    "    result = and_predict(X[i,0], X[i,1])\n",
    "    print(f'{X[i,0]} 이고 {X[i,1]} 의 논리곱은 {result}입니다.')"
   ]
  },
  {
   "cell_type": "code",
   "execution_count": 17,
   "id": "38fa0ee7-3660-43fd-a68e-a27151ea0112",
   "metadata": {},
   "outputs": [
    {
     "name": "stdout",
     "output_type": "stream",
     "text": [
      "True 이고 True 의 논리합은 False입니다.\n",
      "True 이고 False 의 논리합은 False입니다.\n",
      "False 이고 True 의 논리합은 False입니다.\n",
      "False 이고 False 의 논리합은 False입니다.\n"
     ]
    }
   ],
   "source": [
    "for i in range(len(X)):\n",
    "    result = or_predict(X[i,0], X[i,1])\n",
    "    print(f'{X[i,0]} 이고 {X[i,1]} 의 논리합은 {result}입니다.')"
   ]
  },
  {
   "cell_type": "code",
   "execution_count": 18,
   "id": "ef84339c-d98d-4a85-ac72-c267428be781",
   "metadata": {},
   "outputs": [
    {
     "name": "stdout",
     "output_type": "stream",
     "text": [
      "True 이고 True 의 논리합은 False입니다.\n",
      "True 이고 False 의 논리합은 True입니다.\n",
      "False 이고 True 의 논리합은 True입니다.\n",
      "False 이고 False 의 논리합은 True입니다.\n"
     ]
    }
   ],
   "source": [
    "for i in range(len(X)):\n",
    "    result = nand_predict(X[i,0], X[i,1])\n",
    "    print(f'{X[i,0]} 이고 {X[i,1]} 의 논리합은 {result}입니다.')"
   ]
  },
  {
   "cell_type": "code",
   "execution_count": 19,
   "id": "ab995dee-3bf0-4289-a09c-2571bef223f4",
   "metadata": {},
   "outputs": [
    {
     "data": {
      "text/plain": [
       "array([False, False, False, False])"
      ]
     },
     "execution_count": 19,
     "metadata": {},
     "output_type": "execute_result"
    }
   ],
   "source": [
    "# 이 식으로 뭔가 판단가능\n",
    "W[0]*x1 + W[1]*x2 < -b"
   ]
  },
  {
   "cell_type": "code",
   "execution_count": 20,
   "id": "8a10d1ce-d5ea-42b4-889c-5cce5c93dfce",
   "metadata": {},
   "outputs": [],
   "source": [
    "#\n",
    "def xor_predict(x1, x2, w1, w2, b):\n",
    "    if x1*w1 + x2*w2 <= b:\n",
    "        return 'True'\n",
    "    else:\n",
    "        return \"False\""
   ]
  },
  {
   "cell_type": "code",
   "execution_count": 21,
   "id": "0a758485-a94f-4a1f-a753-898b252c8158",
   "metadata": {},
   "outputs": [],
   "source": [
    "# b의 생김새는 모름. \n",
    "correct = np.array([False, True, True, False])"
   ]
  },
  {
   "cell_type": "code",
   "execution_count": 23,
   "id": "da9a4eb3-dc1a-41a0-a502-368abdcc2ffe",
   "metadata": {},
   "outputs": [],
   "source": [
    "#\n",
    "def and_predict(x1, x2, w1, w2, b):\n",
    "    if x1*w1 + x2*w2 >= b:\n",
    "        return True\n",
    "    else:\n",
    "        return False"
   ]
  },
  {
   "cell_type": "code",
   "execution_count": 24,
   "id": "f09708f7",
   "metadata": {},
   "outputs": [
    {
     "ename": "ValueError",
     "evalue": "The truth value of an array with more than one element is ambiguous. Use a.any() or a.all()",
     "output_type": "error",
     "traceback": [
      "\u001b[1;31m---------------------------------------------------------------------------\u001b[0m",
      "\u001b[1;31mValueError\u001b[0m                                Traceback (most recent call last)",
      "\u001b[1;32m~\\AppData\\Local\\Temp/ipykernel_17804/647723783.py\u001b[0m in \u001b[0;36m<module>\u001b[1;34m\u001b[0m\n\u001b[0;32m      3\u001b[0m \u001b[0mb\u001b[0m \u001b[1;33m=\u001b[0m\u001b[1;36m0.1\u001b[0m\u001b[1;33m\u001b[0m\u001b[1;33m\u001b[0m\u001b[0m\n\u001b[0;32m      4\u001b[0m \u001b[1;33m\u001b[0m\u001b[0m\n\u001b[1;32m----> 5\u001b[1;33m \u001b[0mand_predict\u001b[0m\u001b[1;33m(\u001b[0m\u001b[1;32mTrue\u001b[0m\u001b[1;33m,\u001b[0m \u001b[0mx2\u001b[0m\u001b[1;33m,\u001b[0m \u001b[0mw1\u001b[0m\u001b[1;33m,\u001b[0m \u001b[0mw2\u001b[0m\u001b[1;33m,\u001b[0m \u001b[0mb\u001b[0m\u001b[1;33m)\u001b[0m\u001b[1;33m\u001b[0m\u001b[1;33m\u001b[0m\u001b[0m\n\u001b[0m",
      "\u001b[1;32m~\\AppData\\Local\\Temp/ipykernel_17804/3907428722.py\u001b[0m in \u001b[0;36mand_predict\u001b[1;34m(x1, x2, w1, w2, b)\u001b[0m\n\u001b[0;32m      1\u001b[0m \u001b[1;31m#\u001b[0m\u001b[1;33m\u001b[0m\u001b[1;33m\u001b[0m\u001b[0m\n\u001b[0;32m      2\u001b[0m \u001b[1;32mdef\u001b[0m \u001b[0mand_predict\u001b[0m\u001b[1;33m(\u001b[0m\u001b[0mx1\u001b[0m\u001b[1;33m,\u001b[0m \u001b[0mx2\u001b[0m\u001b[1;33m,\u001b[0m \u001b[0mw1\u001b[0m\u001b[1;33m,\u001b[0m \u001b[0mw2\u001b[0m\u001b[1;33m,\u001b[0m \u001b[0mb\u001b[0m\u001b[1;33m)\u001b[0m\u001b[1;33m:\u001b[0m\u001b[1;33m\u001b[0m\u001b[1;33m\u001b[0m\u001b[0m\n\u001b[1;32m----> 3\u001b[1;33m     \u001b[1;32mif\u001b[0m \u001b[0mx1\u001b[0m\u001b[1;33m*\u001b[0m\u001b[0mw1\u001b[0m \u001b[1;33m+\u001b[0m \u001b[0mx2\u001b[0m\u001b[1;33m*\u001b[0m\u001b[0mw2\u001b[0m \u001b[1;33m>=\u001b[0m \u001b[0mb\u001b[0m\u001b[1;33m:\u001b[0m\u001b[1;33m\u001b[0m\u001b[1;33m\u001b[0m\u001b[0m\n\u001b[0m\u001b[0;32m      4\u001b[0m         \u001b[1;32mreturn\u001b[0m \u001b[1;32mTrue\u001b[0m\u001b[1;33m\u001b[0m\u001b[1;33m\u001b[0m\u001b[0m\n\u001b[0;32m      5\u001b[0m     \u001b[1;32melse\u001b[0m\u001b[1;33m:\u001b[0m\u001b[1;33m\u001b[0m\u001b[1;33m\u001b[0m\u001b[0m\n",
      "\u001b[1;31mValueError\u001b[0m: The truth value of an array with more than one element is ambiguous. Use a.any() or a.all()"
     ]
    }
   ],
   "source": [
    "w1 = 0.1\n",
    "w2 = 0.1\n",
    "b =0.1\n",
    "\n",
    "and_predict(True, x2, w1, w2, b)"
   ]
  },
  {
   "cell_type": "code",
   "execution_count": null,
   "id": "56962c46",
   "metadata": {},
   "outputs": [],
   "source": []
  }
 ],
 "metadata": {
  "kernelspec": {
   "display_name": "Python 3 (ipykernel)",
   "language": "python",
   "name": "python3"
  },
  "language_info": {
   "codemirror_mode": {
    "name": "ipython",
    "version": 3
   },
   "file_extension": ".py",
   "mimetype": "text/x-python",
   "name": "python",
   "nbconvert_exporter": "python",
   "pygments_lexer": "ipython3",
   "version": "3.9.7"
  }
 },
 "nbformat": 4,
 "nbformat_minor": 5
}
